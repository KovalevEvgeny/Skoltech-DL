{
 "cells": [
  {
   "cell_type": "markdown",
   "metadata": {},
   "source": [
    "Original paper: https://arxiv.org/abs/1806.00035"
   ]
  },
  {
   "cell_type": "markdown",
   "metadata": {},
   "source": [
    "# 0. Read real and generated images#"
   ]
  },
  {
   "cell_type": "code",
   "execution_count": 1,
   "metadata": {
    "collapsed": true
   },
   "outputs": [],
   "source": [
    "import math\n",
    "import numpy as np\n",
    "import matplotlib.pyplot as plt\n",
    "import matplotlib.lines as mlines\n",
    "import matplotlib"
   ]
  },
  {
   "cell_type": "code",
   "execution_count": 2,
   "metadata": {
    "collapsed": true
   },
   "outputs": [],
   "source": [
    "CHANNEL_NUM = 3\n",
    "PICTURE_SIZE = 36\n"
   ]
  },
  {
   "cell_type": "code",
   "execution_count": 3,
   "metadata": {
    "collapsed": true
   },
   "outputs": [],
   "source": [
    "class ParticleDataset():\n",
    "    def __init__(self, file):\n",
    "        self.data = np.load(file)\n",
    "        self.image = self.data['Pictures'].reshape(-1, CHANNEL_NUM*PICTURE_SIZE*PICTURE_SIZE)\n",
    "\n",
    "    def __len__(self):\n",
    "        return len(self.image)\n",
    "\n",
    "    def __getitem__(self, i):\n",
    "        return {\n",
    "            \"Pictures\": self.image[i],\n",
    "        }"
   ]
  },
  {
   "cell_type": "code",
   "execution_count": 4,
   "metadata": {
    "collapsed": true
   },
   "outputs": [],
   "source": [
    "real_data = ParticleDataset('real.npz')\n",
    "vae_data = ParticleDataset('vae.npz')\n",
    "gan_data = ParticleDataset('gan.npz')"
   ]
  },
  {
   "cell_type": "markdown",
   "metadata": {},
   "source": [
    "Make sure that the values of real and generated data are of the same order - it is important for cooperative binarizing"
   ]
  },
  {
   "cell_type": "code",
   "execution_count": 5,
   "metadata": {},
   "outputs": [
    {
     "name": "stdout",
     "output_type": "stream",
     "text": [
      "0.0 1.0\n",
      "0.0 1.0\n",
      "0.00016965241 0.9797329\n"
     ]
    }
   ],
   "source": [
    "print (np.min(real_data.image), np.max(real_data.image))\n",
    "print (np.min(gan_data.image), np.max(gan_data.image))\n",
    "print (np.min(vae_data.image), np.max(vae_data.image))"
   ]
  },
  {
   "cell_type": "markdown",
   "metadata": {},
   "source": [
    "# 1. Binarize# "
   ]
  },
  {
   "cell_type": "markdown",
   "metadata": {},
   "source": [
    "To understand how real and generated objects are close to each other, we need to choose a space of features in which we look these objects at"
   ]
  },
  {
   "cell_type": "markdown",
   "metadata": {},
   "source": [
    "We go the easiest way and take pixels' values as features."
   ]
  },
  {
   "cell_type": "code",
   "execution_count": 6,
   "metadata": {
    "collapsed": true
   },
   "outputs": [],
   "source": [
    "# adapted some parts from https://github.com/msmsajjadi/precision-recall-distributions\n",
    "\n",
    "from sklearn.cluster import KMeans, MiniBatchKMeans\n",
    "import math\n",
    "## function which map object to probability distribution ##\n",
    "\n",
    "def bin_counts(real_data, generated_data, number_of_bins=25):\n",
    "    # binirize real and generated data, plot histogram and found density function\n",
    "    data_both = np.concatenate((real_data, generated_data))\n",
    "    data_labels = MiniBatchKMeans(n_clusters=number_of_bins).fit(data_both).labels_\n",
    "    real_labels = data_labels[:len(real_data)]\n",
    "    generated_labels = data_labels[len(real_data):]\n",
    "    real_density = np.histogram(real_labels, bins=number_of_bins, range=[0, number_of_bins], density=True)[0]\n",
    "    gen_density = np.histogram(generated_labels, bins=number_of_bins, range=[0, number_of_bins], density=True)[0]\n",
    "    return real_density, gen_density"
   ]
  },
  {
   "cell_type": "markdown",
   "metadata": {},
   "source": [
    "Create $\\alpha-$ and $\\beta-$ vectors as in\n",
    "\n",
    "$\\hat{PRD}(Q,P) = \\{(\\alpha(\\lambda), \\beta(\\lambda))| \\lambda \\in \\Lambda \\}$, where $\\Lambda = \\{\\tan (\\frac{i}{m+1} \\frac{\\pi}{2}) | i = 1, 2 ... m\\}$"
   ]
  },
  {
   "cell_type": "code",
   "execution_count": 7,
   "metadata": {
    "collapsed": true
   },
   "outputs": [],
   "source": [
    "def count_alpha_beta(real_density, gen_density, num_angles = 1000):\n",
    "    assert real_density.shape == gen_density.shape\n",
    "    alpha_vec = []\n",
    "    beta_vec = []\n",
    "    angles = np.linspace(1e-6, np.pi/2 - 1e-6, num=num_angles)\n",
    "    for lam in np.tan(angles):\n",
    "        alpha_vec.append(np.minimum(lam * real_density, gen_density).sum())\n",
    "        beta_vec.append(np.minimum(real_density, gen_density / lam).sum())\n",
    "    return alpha_vec, beta_vec"
   ]
  },
  {
   "cell_type": "markdown",
   "metadata": {},
   "source": [
    "For stability, take the average of several repetitions"
   ]
  },
  {
   "cell_type": "code",
   "execution_count": 8,
   "metadata": {
    "collapsed": true
   },
   "outputs": [],
   "source": [
    "def count_prd(reals, gens, repeat_number = 10):\n",
    "    vectors = [count_alpha_beta(reals, gens) for i in range(repeat_number)]\n",
    "    vectors = np.array(vectors).mean(axis=0)\n",
    "    print(vectors.shape)\n",
    "    return vectors"
   ]
  },
  {
   "cell_type": "markdown",
   "metadata": {},
   "source": [
    "## 2. Apply it##"
   ]
  },
  {
   "cell_type": "code",
   "execution_count": 9,
   "metadata": {
    "collapsed": true
   },
   "outputs": [],
   "source": [
    "a, b = bin_counts(real_data.image, vae_data.image)\n",
    "c, d = bin_counts(real_data.image, gan_data.image)"
   ]
  },
  {
   "cell_type": "markdown",
   "metadata": {},
   "source": [
    "## 3. Make vectors for plot and plot ##"
   ]
  },
  {
   "cell_type": "code",
   "execution_count": 10,
   "metadata": {},
   "outputs": [
    {
     "name": "stdout",
     "output_type": "stream",
     "text": [
      "(2, 1000)\n",
      "(2, 1000)\n"
     ]
    }
   ],
   "source": [
    "data_for_plots = count_prd(a, b)\n",
    "data_for_plots2 = count_prd(c, d)"
   ]
  },
  {
   "cell_type": "code",
   "execution_count": 13,
   "metadata": {},
   "outputs": [
    {
     "data": {
      "text/plain": [
       "array([5.56950468e-02, 6.08689036e-04, 4.18473712e-02, 7.70752492e-02,\n",
       "       6.21623678e-02, 6.73362246e-02, 0.00000000e+00, 7.60861295e-05,\n",
       "       1.03401050e-01, 4.58038500e-02, 0.00000000e+00, 1.52172259e-04,\n",
       "       7.79121966e-02, 4.51951609e-02, 2.96735905e-02, 4.71734003e-02,\n",
       "       6.89340333e-02, 8.36186563e-02, 0.00000000e+00, 4.56516777e-04,\n",
       "       3.46952751e-02, 6.92383778e-02, 1.43802785e-02, 2.09997717e-02,\n",
       "       5.35646352e-02])"
      ]
     },
     "execution_count": 13,
     "metadata": {},
     "output_type": "execute_result"
    }
   ],
   "source": [
    "a"
   ]
  },
  {
   "cell_type": "code",
   "execution_count": 14,
   "metadata": {},
   "outputs": [
    {
     "data": {
      "text/plain": [
       "array([0.00000000e+00, 1.11770524e-01, 0.00000000e+00, 0.00000000e+00,\n",
       "       4.56516777e-04, 0.00000000e+00, 1.30944229e-01, 1.05759720e-01,\n",
       "       0.00000000e+00, 0.00000000e+00, 1.36574602e-01, 1.36650689e-01,\n",
       "       0.00000000e+00, 0.00000000e+00, 0.00000000e+00, 0.00000000e+00,\n",
       "       0.00000000e+00, 7.60861295e-05, 2.03834741e-01, 1.14813969e-01,\n",
       "       0.00000000e+00, 0.00000000e+00, 5.63798220e-02, 0.00000000e+00,\n",
       "       2.73910066e-03])"
      ]
     },
     "execution_count": 14,
     "metadata": {},
     "output_type": "execute_result"
    }
   ],
   "source": [
    "b"
   ]
  },
  {
   "cell_type": "code",
   "execution_count": 11,
   "metadata": {},
   "outputs": [
    {
     "data": {
      "image/png": "[encoded data removed]",
      "text/plain": [
       "<Figure size 500x500 with 1 Axes>"
      ]
     },
     "metadata": {},
     "output_type": "display_data"
    }
   ],
   "source": [
    "fig = plt.figure(figsize=(2.5, 2.5), dpi=200)\n",
    "fig.add_subplot(111).tick_params(axis='both', which='major', labelsize=8)\n",
    "plt.xlim([0, 1])\n",
    "plt.ylim([0, 1])\n",
    "plt.xlabel('Recall', fontsize=12)\n",
    "plt.ylabel('Precision', fontsize=12)\n",
    "plt.plot(data_for_plots[0], data_for_plots[1], label = \"VAE\")\n",
    "plt.plot(data_for_plots2[0], data_for_plots2[1], label = \"GAN\")\n",
    "plt.legend()\n",
    "plt.show()"
   ]
  },
  {
   "cell_type": "markdown",
   "metadata": {},
   "source": [
    "**What curves were obtained for the first(VAE) and the second(GAN) models? What can we say about the advantages and disadvantages of each model?**"
   ]
  },
  {
   "cell_type": "markdown",
   "metadata": {
    "collapsed": true
   },
   "source": [
    "According to the plot, we may see that in the current task GANs show themselves a lot better than VAEs."
   ]
  },
  {
   "cell_type": "markdown",
   "metadata": {
    "collapsed": true
   },
   "source": [
    "## Bonus: about features' space##\n",
    "\n",
    "It is possible to transfer the picture-> embedding, for example, using the 1st part of the Inception network as a feature extraxtor. This embedding can be used for bin counts also"
   ]
  },
  {
   "cell_type": "code",
   "execution_count": null,
   "metadata": {
    "collapsed": true
   },
   "outputs": [],
   "source": [
    "# if you came here and still alive, the implementation of idea above will give you extra points =)"
   ]
  }
 ],
 "metadata": {
  "kernelspec": {
   "display_name": "Python 3",
   "language": "python",
   "name": "python3"
  },
  "language_info": {
   "codemirror_mode": {
    "name": "ipython",
    "version": 3
   },
   "file_extension": ".py",
   "mimetype": "text/x-python",
   "name": "python",
   "nbconvert_exporter": "python",
   "pygments_lexer": "ipython3",
   "version": "3.6.3"
  }
 },
 "nbformat": 4,
 "nbformat_minor": 2
}

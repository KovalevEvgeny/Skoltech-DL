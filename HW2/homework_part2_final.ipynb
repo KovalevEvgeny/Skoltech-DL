{
 "cells": [
  {
   "cell_type": "markdown",
   "metadata": {
    "collapsed": true
   },
   "source": [
    "# Homework 2, *part 2* (60 points)\n",
    "\n",
    "In this assignment you will build a heavy convolutional neural net (CNN) to solve Tiny ImageNet image classification. Try to achieve as high accuracy as possible."
   ]
  },
  {
   "cell_type": "markdown",
   "metadata": {},
   "source": [
    "## Deliverables\n",
    "\n",
    "* This file,\n",
    "* a \"checkpoint file\" from `torch.save(model.state_dict(), ...)` that contains model's weights (which a TA should be able to load to verify your accuracy).\n",
    "\n",
    "## Grading\n",
    "\n",
    "* 9 points for reproducible training code and a filled report below.\n",
    "* 12 points for building a network that gets above 20% accuracy.\n",
    "* 6.5 points for beating each of these milestones on the validation set:\n",
    "  * 25.0%\n",
    "  * 30.0%\n",
    "  * 32.5%\n",
    "  * 35.0%\n",
    "  * 37.5%\n",
    "  * 40.0%\n",
    "    \n",
    "## Restrictions\n",
    "\n",
    "* Don't use pretrained networks.\n",
    "\n",
    "## Tips\n",
    "\n",
    "* One change at a time: never test several new things at once.\n",
    "* Google a lot.\n",
    "* Use GPU.\n",
    "* Use regularization: L2, batch normalization, dropout, data augmentation.\n",
    "* Use Tensorboard ([non-Colab](https://github.com/lanpa/tensorboardX) or [Colab](https://medium.com/@tommytao_54597/use-tensorboard-in-google-colab-16b4bb9812a6)) or a similar interactive tool for viewing progress."
   ]
  },
  {
   "cell_type": "code",
   "execution_count": 5,
   "metadata": {},
   "outputs": [
    {
     "name": "stdout",
     "output_type": "stream",
     "text": [
      "cuda:2\n"
     ]
    }
   ],
   "source": [
    "import glob\n",
    "import numpy as np\n",
    "import matplotlib.pyplot as plt\n",
    "import PIL.Image as Image\n",
    "import random\n",
    "import torch\n",
    "import torch.nn.functional as F\n",
    "from IPython import display\n",
    "from torch import nn\n",
    "from torch.utils.data import DataLoader, Dataset\n",
    "from torchvision import datasets, transforms\n",
    "from tqdm import trange\n",
    "\n",
    "%matplotlib inline\n",
    "\n",
    "device = torch.device(\"cuda:2\" if torch.cuda.is_available() else \"cpu\")\n",
    "print(device)"
   ]
  },
  {
   "cell_type": "code",
   "execution_count": 6,
   "metadata": {},
   "outputs": [
    {
     "name": "stdout",
     "output_type": "stream",
     "text": [
      "./tiny-imagenet-200 already exists, not downloading\n"
     ]
    }
   ],
   "source": [
    "import tiny_imagenet\n",
    "tiny_imagenet.download(\".\")"
   ]
  },
  {
   "cell_type": "markdown",
   "metadata": {},
   "source": [
    "Training and validation images are now in `tiny-imagenet-200/train` and `tiny-imagenet-200/val`."
   ]
  },
  {
   "cell_type": "code",
   "execution_count": 7,
   "metadata": {
    "collapsed": true
   },
   "outputs": [],
   "source": [
    "f_wnids = open('tiny-imagenet-200/wnids.txt', 'r').readlines()\n",
    "labels = set([x[:-1] for x in f_wnids])\n",
    "train_images = {i: glob.glob('tiny-imagenet-200/train/' + str(label) + '/images/*') for i, label in enumerate(labels)}\n",
    "val_images = {i: glob.glob('tiny-imagenet-200/val/' + str(label) + '/*') for i, label in enumerate(labels)}\n",
    "\n",
    "class CustomDataset(Dataset):\n",
    "    def __init__(self, root_dir='tiny-imagenet-200/', mode='train', transform=None):\n",
    "        self.root_dir = root_dir\n",
    "        self.mode = mode\n",
    "        self.transform = transform\n",
    "        if self.mode == 'train':\n",
    "            self.images_per_class = 500\n",
    "        elif self.mode == 'val':\n",
    "            self.images_per_class = 50\n",
    "        self.num_classes = 200\n",
    "\n",
    "    def __getitem__(self, idx):\n",
    "        class_idx = idx // self.images_per_class\n",
    "        image_idx = idx % self.images_per_class\n",
    "\n",
    "        if self.mode == 'train':\n",
    "            img = Image.open(train_images[class_idx][image_idx])\n",
    "        elif self.mode == 'val':\n",
    "            img = Image.open(val_images[class_idx][image_idx])\n",
    "\n",
    "        if self.transform:\n",
    "            img = self.transform(img)\n",
    "            if img.shape[0] == 1:\n",
    "                img = torch.cat((img, img, img), dim=0)\n",
    "        else:\n",
    "            img = np.array(img) / 255\n",
    "            if img.ndim == 2:\n",
    "                img = img[np.newaxis, :]\n",
    "                img = np.concatenate((img, img, img), axis=0)\n",
    "            else:\n",
    "                img = img.transpose((2, 0, 1))\n",
    "            img = torch.tensor(img, dtype=torch.float32)\n",
    "        y = class_idx\n",
    "        return img, torch.tensor(y)\n",
    "    \n",
    "    def __len__(self):\n",
    "        return self.images_per_class * self.num_classes\n",
    "\n",
    "batch_size = 256\n",
    "epochs_n = 40 \n",
    "\n",
    "data_transform = {\n",
    "    'train': transforms.Compose([\n",
    "        transforms.RandomHorizontalFlip(),\n",
    "        transforms.RandomGrayscale(),\n",
    "        transforms.ToTensor()\n",
    "    ]),\n",
    "    'val': transforms.Compose([\n",
    "        transforms.ToTensor()\n",
    "    ])}\n",
    "\n",
    "dataset_train = CustomDataset(mode='train', transform=data_transform['train'])\n",
    "dataset_val = CustomDataset(mode='val', transform=data_transform['val'])\n",
    "train_loader = DataLoader(dataset_train, batch_size=batch_size, shuffle=True)\n",
    "val_loader = DataLoader(dataset_val, batch_size=batch_size, shuffle=False)\n",
    "\n",
    "\n",
    "def set_random_seeds(seed_value=0, device='cpu'):\n",
    "    '''source https://forums.fast.ai/t/solved-reproducibility-where-is-the-randomness-coming-in/31628/5'''\n",
    "    np.random.seed(seed_value)\n",
    "    torch.manual_seed(seed_value)\n",
    "    random.seed(seed_value)\n",
    "    if device != 'cpu': \n",
    "        torch.cuda.manual_seed(seed_value)\n",
    "        torch.cuda.manual_seed_all(seed_value)\n",
    "        torch.backends.cudnn.deterministic = True\n",
    "        torch.backends.cudnn.benchmark = False\n",
    "\n",
    "train_size = len(train_loader.dataset)\n",
    "val_size = len(val_loader.dataset)\n",
    "\n",
    "def train(model, optimizer, PATH, epochs_n=20, batch_size=512):\n",
    "    model.to(device)\n",
    "    \n",
    "    train_loss_curve = [np.nan] * epochs_n\n",
    "    val_loss_curve = [np.nan] * epochs_n\n",
    "    train_accuracy_curve = [np.nan] * epochs_n\n",
    "    val_accuracy_curve = [np.nan] * epochs_n\n",
    "    max_val_accuracy = 0\n",
    "    max_val_accuracy_epoch = 0\n",
    "\n",
    "    n_batches_train = (train_size - 1) // batch_size + 1\n",
    "    n_batches_val = (val_size - 1) // batch_size + 1\n",
    "\n",
    "    for epoch in trange(epochs_n):\n",
    "        model.train()\n",
    "\n",
    "        train_loss_curve[epoch] = 0\n",
    "        train_accuracy_curve[epoch] = 0\n",
    "        \n",
    "        for x, y in train_loader:\n",
    "            x = x.to(device)\n",
    "            y = y.to(device)\n",
    "            optimizer.zero_grad()\n",
    "            prediction = model(x)\n",
    "            \n",
    "            labels_pred = prediction.argmax(dim=-1, keepdim=True).view(-1)\n",
    "            train_accuracy_curve[epoch] += labels_pred.eq(y).sum().item() / len(y)\n",
    "            \n",
    "            loss = criterion(prediction, y)\n",
    "            train_loss_curve[epoch] += loss.item()\n",
    "            loss.backward()\n",
    "            optimizer.step()\n",
    "        \n",
    "        train_accuracy_curve[epoch] /= n_batches_train\n",
    "\n",
    "        display.clear_output(wait=True)\n",
    "        f, axes = plt.subplots(1, 2, figsize=(15, 3))\n",
    "\n",
    "        train_loss_curve[epoch] /= n_batches_train\n",
    "        axes[0].plot(train_loss_curve, label='train')\n",
    "\n",
    "        model.eval()\n",
    "\n",
    "        val_loss_curve[epoch] = 0\n",
    "        val_accuracy_curve[epoch] = 0\n",
    "        for x, y in val_loader:\n",
    "            x = x.to(device)\n",
    "            y = y.to(device)\n",
    "            prediction = model(x)\n",
    "            \n",
    "            labels_pred = prediction.argmax(dim=-1, keepdim=True).view(-1)\n",
    "            val_accuracy_curve[epoch] += labels_pred.eq(y).sum().item() / len(y)\n",
    "\n",
    "            loss = criterion(prediction, y)\n",
    "            val_loss_curve[epoch] += loss.item()\n",
    "        \n",
    "        val_accuracy_curve[epoch] /= n_batches_val\n",
    "        val_loss_curve[epoch] /= n_batches_val\n",
    "        axes[0].plot(val_loss_curve, label='val')\n",
    "        axes[0].set_title('Loss: train {:.4f}, val {:.4f}'.format(train_loss_curve[epoch], val_loss_curve[epoch]))\n",
    "        axes[0].legend()\n",
    "        \n",
    "        val_accuracy = val_accuracy_curve[epoch]\n",
    "        if val_accuracy > max_val_accuracy:\n",
    "            max_val_accuracy = val_accuracy\n",
    "            max_val_accuracy_epoch = epoch\n",
    "            torch.save(model.state_dict(), PATH)\n",
    "        \n",
    "        axes[1].set_title('Accuracy: train {:.4f}, val {:.4f}'.format(train_accuracy_curve[epoch], val_accuracy))\n",
    "        axes[1].plot(train_accuracy_curve, label='train')\n",
    "        axes[1].plot(val_accuracy_curve, label='val')\n",
    "        axes[1].legend()\n",
    "\n",
    "        plt.tight_layout()\n",
    "        plt.show()"
   ]
  },
  {
   "cell_type": "code",
   "execution_count": 8,
   "metadata": {},
   "outputs": [
    {
     "data": {
      "image/png": "[encoded data removed]",
      "text/plain": [
       "<Figure size 1080x216 with 2 Axes>"
      ]
     },
     "metadata": {
      "needs_background": "light"
     },
     "output_type": "display_data"
    },
    {
     "name": "stderr",
     "output_type": "stream",
     "text": [
      "100%|██████████| 40/40 [30:01<00:00, 45.02s/it]\n"
     ]
    },
    {
     "data": {
      "text/plain": [
       "BlacKitteNet(\n",
       "  (feature_extractor): Sequential(\n",
       "    (0): Conv2d(3, 64, kernel_size=(5, 5), stride=(1, 1))\n",
       "    (1): BatchNorm2d(64, eps=1e-05, momentum=0.1, affine=True, track_running_stats=True)\n",
       "    (2): ReLU()\n",
       "    (3): MaxPool2d(kernel_size=2, stride=2, padding=0, dilation=1, ceil_mode=False)\n",
       "    (4): Conv2d(64, 128, kernel_size=(3, 3), stride=(1, 1))\n",
       "    (5): BatchNorm2d(128, eps=1e-05, momentum=0.1, affine=True, track_running_stats=True)\n",
       "    (6): ReLU()\n",
       "    (7): MaxPool2d(kernel_size=2, stride=2, padding=0, dilation=1, ceil_mode=False)\n",
       "    (8): Conv2d(128, 256, kernel_size=(3, 3), stride=(1, 1))\n",
       "    (9): BatchNorm2d(256, eps=1e-05, momentum=0.1, affine=True, track_running_stats=True)\n",
       "    (10): ReLU()\n",
       "    (11): MaxPool2d(kernel_size=2, stride=2, padding=0, dilation=1, ceil_mode=False)\n",
       "    (12): Conv2d(256, 512, kernel_size=(3, 3), stride=(1, 1))\n",
       "    (13): BatchNorm2d(512, eps=1e-05, momentum=0.1, affine=True, track_running_stats=True)\n",
       "    (14): ReLU()\n",
       "    (15): MaxPool2d(kernel_size=2, stride=2, padding=0, dilation=1, ceil_mode=False)\n",
       "  )\n",
       "  (classifier): Sequential(\n",
       "    (0): Dropout(p=0.4)\n",
       "    (1): Linear(in_features=2048, out_features=1000, bias=True)\n",
       "    (2): BatchNorm1d(1000, eps=1e-05, momentum=0.1, affine=True, track_running_stats=True)\n",
       "    (3): ReLU()\n",
       "    (4): Linear(in_features=1000, out_features=200, bias=True)\n",
       "  )\n",
       ")"
      ]
     },
     "execution_count": 8,
     "metadata": {},
     "output_type": "execute_result"
    }
   ],
   "source": [
    "class BlacKitteNet(nn.Module):\n",
    "    def __init__(self):\n",
    "        super().__init__()\n",
    "        self.feature_extractor = nn.Sequential(\n",
    "            nn.Conv2d(3, 64, kernel_size=5),\n",
    "            nn.BatchNorm2d(64),\n",
    "            nn.ReLU(),\n",
    "            nn.MaxPool2d(kernel_size=2),\n",
    "            nn.Conv2d(64, 128, kernel_size=3),\n",
    "            nn.BatchNorm2d(128),\n",
    "            nn.ReLU(),\n",
    "            nn.MaxPool2d(kernel_size=2),\n",
    "            nn.Conv2d(128, 256, kernel_size=3),\n",
    "            nn.BatchNorm2d(256),\n",
    "            nn.ReLU(),\n",
    "            nn.MaxPool2d(kernel_size=2),\n",
    "            nn.Conv2d(256, 512, kernel_size=3),\n",
    "            nn.BatchNorm2d(512),\n",
    "            nn.ReLU(),\n",
    "            nn.MaxPool2d(kernel_size=2)\n",
    "        )\n",
    "        \n",
    "        self.classifier = nn.Sequential(\n",
    "            nn.Dropout(0.4),\n",
    "            nn.Linear(2048, 1000),\n",
    "            nn.BatchNorm1d(1000),\n",
    "            nn.ReLU(),\n",
    "            nn.Linear(1000, 200)\n",
    "        )\n",
    "\n",
    "    def forward(self, input):\n",
    "        out = self.feature_extractor(input)\n",
    "        out = out.view(out.size(0), -1)\n",
    "        out = self.classifier(out)\n",
    "        return F.log_softmax(out, dim=-1)\n",
    "    \n",
    "model = BlacKitteNet().to(device)\n",
    "criterion = F.nll_loss\n",
    "opt = torch.optim.RMSprop(model.parameters(), lr=0.001)\n",
    "\n",
    "PATH = 'models/BlacKitteNet.pt'\n",
    "set_random_seeds(device=device)\n",
    "train(model, opt, PATH=PATH, epochs_n=epochs_n, batch_size=batch_size)\n",
    "model.load_state_dict(torch.load(PATH))\n",
    "model.eval()"
   ]
  },
  {
   "cell_type": "markdown",
   "metadata": {},
   "source": [
    "When everything is done, please compute accuracy on the validation set and report it below."
   ]
  },
  {
   "cell_type": "code",
   "execution_count": 9,
   "metadata": {},
   "outputs": [
    {
     "name": "stdout",
     "output_type": "stream",
     "text": [
      "Validation accuracy: 41.88%\n"
     ]
    }
   ],
   "source": [
    "correct = 0\n",
    "for x, y in val_loader:\n",
    "    x = x.to(device)\n",
    "    y = y.to(device)\n",
    "    prediction = model(x)\n",
    "\n",
    "    labels_pred = prediction.argmax(dim=-1, keepdim=True).view(-1)\n",
    "    correct += labels_pred.eq(y).sum().item() / len(y)\n",
    "val_accuracy = correct / len(val_loader)\n",
    "print(\"Validation accuracy: %.2f%%\" % (val_accuracy * 100))"
   ]
  },
  {
   "cell_type": "markdown",
   "metadata": {},
   "source": [
    "# Report\n",
    "\n",
    "Below, please mention\n",
    "\n",
    "* a brief history of tweaks and improvements;\n",
    "* what is the final architecture and why?\n",
    "* what is the training method (batch size, optimization algorithm, ...) and why?\n",
    "* Any regularization and other techniques applied and their effects;\n",
    "\n",
    "The reference format is:\n",
    "\n",
    "*\"I have analyzed these and these articles|sources|blog posts, tried that and that to adapt them to my problem and the conclusions are such and such\".*"
   ]
  },
  {
   "cell_type": "markdown",
   "metadata": {},
   "source": [
    "1. For this task, I adapted my code for the second homework in Machine Learning course, where we also were asked to construct a CNN model in `pytorch`. However, when I just added it, it didn't reach 40% on the validation set. I used ELU function, so I changed it to ReLU and faced a slight improvement. What helped me next was adding one more convolutional layer and one more fully-connected layer before the last one. Finally, adding augmentation transforms helped to get the desired accuracy.\n",
    "\n",
    "2. The final architecture is a sequence of blocks Conv-BN-ReLU-MaxPool which is a pretty standard pipeline. Next, there is an aggregating block of Dropout-Dense-BN-ReLU, followed by the classifying dense layer with Log-Softmax.\n",
    "\n",
    "3. I took batch size 256 - the number seems to be neither too big nor too small for the training set of 100k samples and is a pretty standard one. Optimization algorithm is RMSprop with a learning rate 0.001 - the default one 0.01 showed itself not so good in the experiments. The number of epochs is 40, however, I saved only the weights which achieved the best quality on the validation set.\n",
    "\n",
    "4.\n",
    "\n",
    "* Dropout 0.4 between the convolutional and fully-connected parts - helped not to overfit too fast.\n",
    "\n",
    "* BN - gave a nice boost in accuracy and training time.\n",
    "\n",
    "* data augmentation - also helped to achieve better quality on the validation set."
   ]
  },
  {
   "cell_type": "code",
   "execution_count": null,
   "metadata": {
    "collapsed": true
   },
   "outputs": [],
   "source": []
  }
 ],
 "metadata": {
  "kernelspec": {
   "display_name": "Python 3",
   "language": "python",
   "name": "python3"
  },
  "language_info": {
   "codemirror_mode": {
    "name": "ipython",
    "version": 3
   },
   "file_extension": ".py",
   "mimetype": "text/x-python",
   "name": "python",
   "nbconvert_exporter": "python",
   "pygments_lexer": "ipython3",
   "version": "3.6.3"
  }
 },
 "nbformat": 4,
 "nbformat_minor": 1
}

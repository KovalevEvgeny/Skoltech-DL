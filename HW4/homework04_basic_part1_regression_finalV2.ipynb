{
 "cells": [
  {
   "cell_type": "markdown",
   "metadata": {},
   "source": [
    "# Natural Language Processing with Deep Learning (7 points)\n",
    "\n",
    "Today we're gonna apply the newly learned DL tools for sequence processing to the task of predicting job salary.\n",
    "\n",
    "Special thanks to [Oleg Vasilev](https://github.com/Omrigan/) for the assignment core (orignally written for theano/tensorflow)."
   ]
  },
  {
   "cell_type": "code",
   "execution_count": 1,
   "metadata": {
    "collapsed": true
   },
   "outputs": [],
   "source": [
    "import numpy as np\n",
    "import pandas as pd\n",
    "import matplotlib.pyplot as plt\n",
    "%matplotlib inline"
   ]
  },
  {
   "cell_type": "markdown",
   "metadata": {},
   "source": [
    "### About the challenge\n",
    "For starters, let's download the data from __[here](https://yadi.sk/d/vVEOWPFY3NruT7)__.\n",
    "\n",
    "You can also get it from the competition [page](https://www.kaggle.com/c/job-salary-prediction/data) (in that case, pick `Train_rev1.*`).\n",
    "\n",
    "\n",
    "Our task is to predict one number, __SalaryNormalized__, in the sense of minimizing __Mean Absolute Error__.\n",
    "\n",
    "<img src=\"https://storage.googleapis.com/kaggle-competitions/kaggle/3342/media/salary%20prediction%20engine%20v2.png\" width=400px>\n",
    "\n",
    "To do so, our model ca access a number of features:\n",
    "* Free text: __`Title`__ and  __`FullDescription`__\n",
    "* Categorical: __`Category`__, __`Company`__, __`LocationNormalized`__, __`ContractType`__, and __`ContractTime`__.\n",
    "\n",
    "\n",
    "You can read more [in the official description](https://www.kaggle.com/c/job-salary-prediction#description)."
   ]
  },
  {
   "cell_type": "code",
   "execution_count": 2,
   "metadata": {},
   "outputs": [
    {
     "data": {
      "text/plain": [
       "137458    Staff Nurse  Registered Mental Nurse / RMN / R...\n",
       "157368    This role will be working for an international...\n",
       "225054    Our client is an award winning hotel located i...\n",
       "Name: FullDescription, dtype: object"
      ]
     },
     "execution_count": 2,
     "metadata": {},
     "output_type": "execute_result"
    }
   ],
   "source": [
    "data = pd.read_csv(\"./Train_rev1.csv\", index_col=None)\n",
    "data['Log1pSalary'] = np.log1p(data['SalaryNormalized']).astype('float32')\n",
    "\n",
    "text_columns = [\"Title\", \"FullDescription\"]\n",
    "categorical_columns = [\"Category\", \"Company\", \"LocationNormalized\", \"ContractType\", \"ContractTime\"]\n",
    "target_column = \"Log1pSalary\"\n",
    "data[categorical_columns] = data[categorical_columns].fillna('NaN') # cast nan to string\n",
    "\n",
    "data.sample(3)['FullDescription']"
   ]
  },
  {
   "cell_type": "code",
   "execution_count": 3,
   "metadata": {},
   "outputs": [
    {
     "data": {
      "text/html": [
       "<div>\n",
       "<style scoped>\n",
       "    .dataframe tbody tr th:only-of-type {\n",
       "        vertical-align: middle;\n",
       "    }\n",
       "\n",
       "    .dataframe tbody tr th {\n",
       "        vertical-align: top;\n",
       "    }\n",
       "\n",
       "    .dataframe thead th {\n",
       "        text-align: right;\n",
       "    }\n",
       "</style>\n",
       "<table border=\"1\" class=\"dataframe\">\n",
       "  <thead>\n",
       "    <tr style=\"text-align: right;\">\n",
       "      <th></th>\n",
       "      <th>Id</th>\n",
       "      <th>Title</th>\n",
       "      <th>FullDescription</th>\n",
       "      <th>LocationRaw</th>\n",
       "      <th>LocationNormalized</th>\n",
       "      <th>ContractType</th>\n",
       "      <th>ContractTime</th>\n",
       "      <th>Company</th>\n",
       "      <th>Category</th>\n",
       "      <th>SalaryRaw</th>\n",
       "      <th>SalaryNormalized</th>\n",
       "      <th>SourceName</th>\n",
       "      <th>Log1pSalary</th>\n",
       "    </tr>\n",
       "  </thead>\n",
       "  <tbody>\n",
       "    <tr>\n",
       "      <th>22989</th>\n",
       "      <td>67441962</td>\n",
       "      <td>Car Park Attendant</td>\n",
       "      <td>Our Client requires a Car Park Attendant to st...</td>\n",
       "      <td>Liverpool</td>\n",
       "      <td>Liverpool</td>\n",
       "      <td>full_time</td>\n",
       "      <td>NaN</td>\n",
       "      <td>Recruit Right</td>\n",
       "      <td>Customer Services Jobs</td>\n",
       "      <td>6.19 - 6.19 per hour</td>\n",
       "      <td>11884</td>\n",
       "      <td>Jobcentre Plus</td>\n",
       "      <td>9.383033</td>\n",
       "    </tr>\n",
       "    <tr>\n",
       "      <th>233167</th>\n",
       "      <td>72480497</td>\n",
       "      <td>Field Service Engineer  Food Manufacturing</td>\n",
       "      <td>Are you a Maintenance Engineer, experienced in...</td>\n",
       "      <td>Northamptonshire,Bedfordshire,Cambridgeshire,N...</td>\n",
       "      <td>UK</td>\n",
       "      <td>NaN</td>\n",
       "      <td>permanent</td>\n",
       "      <td>Mark Burnard</td>\n",
       "      <td>Engineering Jobs</td>\n",
       "      <td>31k - 35k per year</td>\n",
       "      <td>33000</td>\n",
       "      <td>jobsite.co.uk</td>\n",
       "      <td>10.404293</td>\n",
       "    </tr>\n",
       "    <tr>\n",
       "      <th>175903</th>\n",
       "      <td>71451049</td>\n",
       "      <td>Senior Accountant</td>\n",
       "      <td>Senior Accountant / Auditor Two Senior Account...</td>\n",
       "      <td>Stoke on Trent</td>\n",
       "      <td>Stoke-On-Trent</td>\n",
       "      <td>NaN</td>\n",
       "      <td>permanent</td>\n",
       "      <td>NaN</td>\n",
       "      <td>Accounting &amp; Finance Jobs</td>\n",
       "      <td>20000- 27000</td>\n",
       "      <td>23500</td>\n",
       "      <td>hays.co.uk</td>\n",
       "      <td>10.064798</td>\n",
       "    </tr>\n",
       "  </tbody>\n",
       "</table>\n",
       "</div>"
      ],
      "text/plain": [
       "              Id                                       Title  \\\n",
       "22989   67441962                          Car Park Attendant   \n",
       "233167  72480497  Field Service Engineer  Food Manufacturing   \n",
       "175903  71451049                           Senior Accountant   \n",
       "\n",
       "                                          FullDescription  \\\n",
       "22989   Our Client requires a Car Park Attendant to st...   \n",
       "233167  Are you a Maintenance Engineer, experienced in...   \n",
       "175903  Senior Accountant / Auditor Two Senior Account...   \n",
       "\n",
       "                                              LocationRaw LocationNormalized  \\\n",
       "22989                                           Liverpool          Liverpool   \n",
       "233167  Northamptonshire,Bedfordshire,Cambridgeshire,N...                 UK   \n",
       "175903                                     Stoke on Trent     Stoke-On-Trent   \n",
       "\n",
       "       ContractType ContractTime        Company                   Category  \\\n",
       "22989     full_time          NaN  Recruit Right     Customer Services Jobs   \n",
       "233167          NaN    permanent   Mark Burnard           Engineering Jobs   \n",
       "175903          NaN    permanent            NaN  Accounting & Finance Jobs   \n",
       "\n",
       "                   SalaryRaw  SalaryNormalized      SourceName  Log1pSalary  \n",
       "22989   6.19 - 6.19 per hour             11884  Jobcentre Plus     9.383033  \n",
       "233167    31k - 35k per year             33000   jobsite.co.uk    10.404293  \n",
       "175903          20000- 27000             23500      hays.co.uk    10.064798  "
      ]
     },
     "execution_count": 3,
     "metadata": {},
     "output_type": "execute_result"
    }
   ],
   "source": [
    "data.sample(3)"
   ]
  },
  {
   "cell_type": "markdown",
   "metadata": {},
   "source": [
    "### The NLP part\n",
    "\n",
    "To even begin training our neural network, we're gonna need to preprocess the text features: tokenize it and build the token vocabularies.\n",
    "\n",
    "Since it is not an NLP course, we're gonna use simple built-in NLTK tokenization."
   ]
  },
  {
   "cell_type": "code",
   "execution_count": 4,
   "metadata": {},
   "outputs": [
    {
     "name": "stdout",
     "output_type": "stream",
     "text": [
      "Before\n",
      "0         Engineering Systems Analyst\n",
      "100000                   HR Assistant\n",
      "200000           Senior EC&I Engineer\n",
      "Name: Title, dtype: object\n"
     ]
    }
   ],
   "source": [
    "print(\"Before\")\n",
    "print(data[\"Title\"][::100000])"
   ]
  },
  {
   "cell_type": "code",
   "execution_count": 5,
   "metadata": {
    "collapsed": true
   },
   "outputs": [],
   "source": [
    "import nltk\n",
    "tokenizer = nltk.tokenize.WordPunctTokenizer()\n",
    "\n",
    "for col in text_columns:\n",
    "    data[col] = data[col].apply(lambda l: ' '.join(tokenizer.tokenize(str(l).lower())))"
   ]
  },
  {
   "cell_type": "markdown",
   "metadata": {},
   "source": [
    "Now we can assume that our text is a space-separated list of tokens:"
   ]
  },
  {
   "cell_type": "code",
   "execution_count": 6,
   "metadata": {},
   "outputs": [
    {
     "name": "stdout",
     "output_type": "stream",
     "text": [
      "After\n",
      "0         engineering systems analyst\n",
      "100000                   hr assistant\n",
      "200000         senior ec & i engineer\n",
      "Name: Title, dtype: object\n"
     ]
    }
   ],
   "source": [
    "print(\"After\")\n",
    "print(data[\"Title\"][::100000])"
   ]
  },
  {
   "cell_type": "markdown",
   "metadata": {},
   "source": [
    "Not all words are equally useful. Some of them are typos or rare words that are only present a few times. \n",
    "\n",
    "Let's see how many times is each word present in the data so that we can build a \"white list\" of known words."
   ]
  },
  {
   "cell_type": "code",
   "execution_count": 7,
   "metadata": {
    "scrolled": false
   },
   "outputs": [
    {
     "data": {
      "text/plain": [
       "0                               engineering systems analyst\n",
       "1                                   stress engineer glasgow\n",
       "2                          modelling and simulation analyst\n",
       "3         engineering systems analyst / mathematical mod...\n",
       "4               pioneer , miser engineering systems analyst\n",
       "5                engineering systems analyst water industry\n",
       "6                 senior subsea pipeline integrity engineer\n",
       "7         recruitment consultant industrial / commercial...\n",
       "8         recruitment consultant construction / technica...\n",
       "9                                    subsea cables engineer\n",
       "10                   trainee mortgage advisor east midlands\n",
       "11                        project engineer , pharmaceutical\n",
       "12                      principal composite stress engineer\n",
       "13                 senior fatigue damage tolerance engineer\n",
       "14        chef de partie award winning restaurant excell...\n",
       "15                                         quality engineer\n",
       "16                              principal controls engineer\n",
       "17        chef de partie award winning dining live in sh...\n",
       "18             senior fatigue and damage tolerance engineer\n",
       "19                                      c i design engineer\n",
       "20                                lead engineers ( stress )\n",
       "21           relief chef de partie croydon , surrey live in\n",
       "22              senior control and instrumentation engineer\n",
       "23                     control and instrumentation engineer\n",
       "24                                electrical / ica engineer\n",
       "25        pastry chef for **** red star **** rosette hot...\n",
       "26                                  senior process engineer\n",
       "27        chef de partie position in **** rosette hotel ...\n",
       "28        senior sous chef for **** rosette kitchen , up...\n",
       "29        general manager funky , cool restaurant concep...\n",
       "                                ...                        \n",
       "244738                                            payroller\n",
       "244739                           commercial account manager\n",
       "244740                                          salaried gp\n",
       "244741                      hr ops manager ( north region )\n",
       "244742                                        legal cashier\n",
       "244743                                    postroom operator\n",
       "244744         senior business travel consultant birmingham\n",
       "244745                       salaried general practitioners\n",
       "244746    salaried gp , essex , 4 days per week , **** k...\n",
       "244747            long haul travel consultant staffordshire\n",
       "244748                       home working cruise consultant\n",
       "244749                 personal travel expert luxury travel\n",
       "244750         senior business travel consultant birmingham\n",
       "244751                                       data architect\n",
       "244752                        curriculum leader mathematics\n",
       "244753                                     teacher of maths\n",
       "244754                                marketing officer job\n",
       "244755                                      english teacher\n",
       "244756                                     cover supervisor\n",
       "244757                  teacher of business studies and law\n",
       "244758                                      supply teachers\n",
       "244759                  teacher of business studies and ict\n",
       "244760                                      history teacher\n",
       "244761                                   teacher of science\n",
       "244762                                   teacher of english\n",
       "244763                                   teacher of science\n",
       "244764                  teacher of business studies and ict\n",
       "244765                                      english teacher\n",
       "244766                                      supply teachers\n",
       "244767                                           accountant\n",
       "Name: Title, Length: 244768, dtype: object"
      ]
     },
     "execution_count": 7,
     "metadata": {},
     "output_type": "execute_result"
    }
   ],
   "source": [
    "data['Title']"
   ]
  },
  {
   "cell_type": "code",
   "execution_count": 8,
   "metadata": {},
   "outputs": [
    {
     "name": "stderr",
     "output_type": "stream",
     "text": [
      "100%|█████████████████████████████████████████████████████████████████████████| 244768/244768 [05:01<00:00, 831.60it/s]\n"
     ]
    }
   ],
   "source": [
    "from collections import Counter\n",
    "token_counts = Counter()\n",
    "\n",
    "# Count how many times does each token occur in \"Title\" and \"FullDescription\"\n",
    "from tqdm import tqdm\n",
    "\n",
    "for i in tqdm(range(len(data))):\n",
    "    title_tokens = data.loc[[i]]['Title'].values[0].split()\n",
    "    token_counts.update(title_tokens)\n",
    "    descr_tokens = data.loc[[i]]['FullDescription'].values[0].split()\n",
    "    token_counts.update(descr_tokens)"
   ]
  },
  {
   "cell_type": "code",
   "execution_count": 9,
   "metadata": {},
   "outputs": [
    {
     "name": "stdout",
     "output_type": "stream",
     "text": [
      "Total unique tokens : 202704\n",
      "('and', 2657388)\n",
      "('.', 2523216)\n",
      "(',', 2318606)\n",
      "('the', 2080994)\n",
      "('to', 2019884)\n",
      "...\n",
      "('stephanietraveltraderecruitmnt', 1)\n",
      "('ruabon', 1)\n",
      "('lowehays', 1)\n",
      "Correct!\n"
     ]
    }
   ],
   "source": [
    "print(\"Total unique tokens :\", len(token_counts))\n",
    "print('\\n'.join(map(str, token_counts.most_common(n=5))))\n",
    "print('...')\n",
    "print('\\n'.join(map(str, token_counts.most_common()[-3:])))\n",
    "\n",
    "assert token_counts.most_common(1)[0][1] in  range(2600000, 2700000)\n",
    "assert len(token_counts) in range(200000, 210000)\n",
    "print('Correct!')"
   ]
  },
  {
   "cell_type": "code",
   "execution_count": 10,
   "metadata": {},
   "outputs": [
    {
     "data": {
      "text/plain": [
       "Text(0.5, 0, 'Counts')"
      ]
     },
     "execution_count": 10,
     "metadata": {},
     "output_type": "execute_result"
    },
    {
     "data": {
      "image/png": "[encoded data removed]",
      "text/plain": [
       "<Figure size 432x288 with 1 Axes>"
      ]
     },
     "metadata": {},
     "output_type": "display_data"
    }
   ],
   "source": [
    "# Let's see how many words are there for each count\n",
    "\n",
    "_ = plt.hist(list(token_counts.values()), range=[0, 10**4], bins=50, log=True)\n",
    "plt.xlabel(\"Counts\")"
   ]
  },
  {
   "cell_type": "markdown",
   "metadata": {},
   "source": [
    "__Task 1.1__ Get a list of all tokens that occur at least 10 times."
   ]
  },
  {
   "cell_type": "code",
   "execution_count": 11,
   "metadata": {
    "collapsed": true
   },
   "outputs": [],
   "source": [
    "min_count = 10\n",
    "\n",
    "# tokens from token_counts keys that had at least min_count occurrences throughout the dataset\n",
    "tokens = [token for (token, count) in token_counts.items() if count >= 10]\n",
    "\n",
    "# Add a special tokens for unknown and empty words\n",
    "UNK, PAD = \"UNK\", \"PAD\"\n",
    "tokens = [UNK, PAD] + tokens"
   ]
  },
  {
   "cell_type": "code",
   "execution_count": 12,
   "metadata": {},
   "outputs": [
    {
     "name": "stdout",
     "output_type": "stream",
     "text": [
      "Tokens left: 34158\n",
      "Correct!\n"
     ]
    }
   ],
   "source": [
    "print(\"Tokens left:\", len(tokens))\n",
    "assert type(tokens)==list\n",
    "assert len(tokens) in range(32000,35000)\n",
    "assert 'me' in tokens\n",
    "assert UNK in tokens\n",
    "print(\"Correct!\")"
   ]
  },
  {
   "cell_type": "markdown",
   "metadata": {},
   "source": [
    "__Task 1.2__ Build an inverse token index: a dictionary from token(string) to it's index in `tokens` (int)"
   ]
  },
  {
   "cell_type": "code",
   "execution_count": 13,
   "metadata": {
    "collapsed": true
   },
   "outputs": [],
   "source": [
    "token_to_id = {token: index for (index, token) in enumerate(tokens)}"
   ]
  },
  {
   "cell_type": "code",
   "execution_count": 14,
   "metadata": {},
   "outputs": [
    {
     "name": "stdout",
     "output_type": "stream",
     "text": [
      "Correct!\n"
     ]
    }
   ],
   "source": [
    "assert isinstance(token_to_id, dict)\n",
    "assert len(token_to_id) == len(tokens)\n",
    "for tok in tokens:\n",
    "    assert tokens[token_to_id[tok]] == tok\n",
    "\n",
    "print(\"Correct!\")"
   ]
  },
  {
   "cell_type": "markdown",
   "metadata": {},
   "source": [
    "And finally, let's use the vocabulary you've built to map text lines into torch-digestible matrices."
   ]
  },
  {
   "cell_type": "code",
   "execution_count": 15,
   "metadata": {
    "collapsed": true
   },
   "outputs": [],
   "source": [
    "UNK_IX, PAD_IX = map(token_to_id.get, [UNK, PAD])\n",
    "\n",
    "def as_matrix(sequences, max_len=None):\n",
    "    \"\"\" Convert a list of tokens into a matrix with padding \"\"\"\n",
    "    if isinstance(sequences[0], str):\n",
    "        sequences = list(map(str.split, sequences))\n",
    "        \n",
    "    max_len = min(max(map(len, sequences)), max_len or float('inf'))\n",
    "    \n",
    "    matrix = np.full((len(sequences), max_len), np.int32(PAD_IX))\n",
    "    for i,seq in enumerate(sequences):\n",
    "        row_ix = [token_to_id.get(word, UNK_IX) for word in seq[:max_len]]\n",
    "        matrix[i, :len(row_ix)] = row_ix\n",
    "    \n",
    "    return matrix"
   ]
  },
  {
   "cell_type": "code",
   "execution_count": 16,
   "metadata": {},
   "outputs": [
    {
     "name": "stdout",
     "output_type": "stream",
     "text": [
      "engineering systems analyst\n",
      "hr assistant\n",
      "senior ec & i engineer\n",
      "\n",
      "Matrix:\n",
      "[[    2     3     4     1     1]\n",
      " [  550  2380     1     1     1]\n",
      " [  320 10714   392   307    32]]\n"
     ]
    }
   ],
   "source": [
    "#### print(\"Lines:\")\n",
    "print('\\n'.join(data[\"Title\"][::100000].values), end='\\n\\n')\n",
    "print(\"Matrix:\")\n",
    "print(as_matrix(data[\"Title\"][::100000]))"
   ]
  },
  {
   "cell_type": "markdown",
   "metadata": {},
   "source": [
    "Now let's  encode the categirical data we have.\n",
    "\n",
    "As usual, we shall use one-hot encoding for simplicity. Kudos if you implement tf-idf, target averaging or pseudo-counter-based encoding."
   ]
  },
  {
   "cell_type": "code",
   "execution_count": 17,
   "metadata": {},
   "outputs": [
    {
     "data": {
      "text/plain": [
       "DictVectorizer(dtype=<class 'numpy.float32'>, separator='=', sort=True,\n",
       "        sparse=False)"
      ]
     },
     "execution_count": 17,
     "metadata": {},
     "output_type": "execute_result"
    }
   ],
   "source": [
    "from sklearn.feature_extraction import DictVectorizer\n",
    "\n",
    "# we only consider top-1k most frequent companies to minimize memory usage\n",
    "top_companies, top_counts = zip(*Counter(data['Company']).most_common(1000))\n",
    "recognized_companies = set(top_companies)\n",
    "data[\"Company\"] = data[\"Company\"].apply(lambda comp: comp if comp in recognized_companies else \"Other\")\n",
    "\n",
    "categorical_vectorizer = DictVectorizer(dtype=np.float32, sparse=False)\n",
    "categorical_vectorizer.fit(data[categorical_columns].apply(dict, axis=1))"
   ]
  },
  {
   "cell_type": "markdown",
   "metadata": {},
   "source": [
    "### The data science part\n",
    "\n",
    "Once we've learned to tokenize the data, let's design a machine learning experiment.\n",
    "\n",
    "As before, we won't focus too much on validation, opting for a simple train-test split.\n",
    "\n",
    "__To be completely rigorous,__ we've comitted a small crime here: we used the whole data for tokenization and vocabulary building. A more strict way would be to do that part on training set only. You may want to do that and measure the magnitude of changes."
   ]
  },
  {
   "cell_type": "code",
   "execution_count": 18,
   "metadata": {},
   "outputs": [
    {
     "name": "stdout",
     "output_type": "stream",
     "text": [
      "Train size =  220291\n",
      "Validation size =  24477\n"
     ]
    }
   ],
   "source": [
    "from sklearn.model_selection import train_test_split\n",
    "\n",
    "data_train, data_val = train_test_split(data, test_size=0.1, random_state=42)\n",
    "\n",
    "print(\"Train size = \", len(data_train))\n",
    "print(\"Validation size = \", len(data_val))"
   ]
  },
  {
   "cell_type": "code",
   "execution_count": 19,
   "metadata": {
    "collapsed": true
   },
   "outputs": [],
   "source": [
    "def generate_batch(data, batch_size=None, replace=True, max_len=None):\n",
    "    \"\"\"\n",
    "    Creates a pytorch-friendly dict from the batch data.\n",
    "    :returns: a dict with {'title' : int64[batch, title_max_len]\n",
    "    \"\"\"\n",
    "    if batch_size is not None:\n",
    "        data = data.sample(batch_size, replace=replace)\n",
    "    \n",
    "    batch = {}\n",
    "    for col in text_columns:\n",
    "        batch[col] = as_matrix(data[col].values, max_len)\n",
    "    \n",
    "    batch['Categorical'] = categorical_vectorizer.transform(data[categorical_columns].apply(dict, axis=1))\n",
    "    \n",
    "    if target_column in data.columns:\n",
    "        batch[target_column] = data[target_column].values\n",
    "    \n",
    "    return batch"
   ]
  },
  {
   "cell_type": "code",
   "execution_count": 20,
   "metadata": {},
   "outputs": [
    {
     "data": {
      "text/plain": [
       "{'Categorical': array([[0., 0., 0., ..., 0., 0., 0.],\n",
       "        [0., 0., 0., ..., 0., 0., 0.],\n",
       "        [1., 0., 0., ..., 0., 0., 0.]], dtype=float32),\n",
       " 'FullDescription': array([[  31,   32,  328, 8453, 1020,    3,   16, 3106,  267, 1226],\n",
       "        [7770,    0,   12,   18,   19,  183,  420,    0,  130,    0],\n",
       "        [ 156,  130,  906,  422, 2045,  130, 1402,   75,  272, 5321]]),\n",
       " 'Log1pSalary': array([10.71444 ,  9.431963, 10.491302], dtype=float32),\n",
       " 'Title': array([[   31,    32,   328,   392,   393,     2,   101],\n",
       "        [15992,     1,     1,     1,     1,     1,     1],\n",
       "        [  906,   422,  1402,    75,     1,     1,     1]])}"
      ]
     },
     "execution_count": 20,
     "metadata": {},
     "output_type": "execute_result"
    }
   ],
   "source": [
    "generate_batch(data_train, 3, max_len=10)"
   ]
  },
  {
   "cell_type": "markdown",
   "metadata": {},
   "source": [
    "### Finally, let's talk deep learning\n",
    "\n",
    "Out model consists of three branches:\n",
    "* Title encoder\n",
    "* Description encoder\n",
    "* Categorical features encoder\n",
    "\n",
    "We will then feed all 3 branches into one common network that predicts salary.\n",
    "\n",
    "![scheme](https://github.com/yandexdataschool/Practical_DL/raw/master/homework04/conv_salary_architecture.png)"
   ]
  },
  {
   "cell_type": "markdown",
   "metadata": {},
   "source": [
    "By default, both text vectorizers shall use 1d convolutions, followed by global pooling over time."
   ]
  },
  {
   "cell_type": "code",
   "execution_count": 21,
   "metadata": {
    "collapsed": true
   },
   "outputs": [],
   "source": [
    "import torch, torch.nn as nn\n",
    "import torch.nn.functional as F\n",
    "from torch.autograd import Variable\n",
    "\n",
    "class GlobalMaxPooling(nn.Module):\n",
    "    def __init__(self, dim=-1):\n",
    "        super(self.__class__, self).__init__()\n",
    "        self.dim = dim\n",
    "        \n",
    "    def forward(self, x):\n",
    "        return x.max(dim=self.dim)[0]"
   ]
  },
  {
   "cell_type": "code",
   "execution_count": 22,
   "metadata": {
    "collapsed": true
   },
   "outputs": [],
   "source": [
    "class TitleEncoder(nn.Module):\n",
    "    def __init__(self, n_tokens=len(tokens), out_size=64):\n",
    "        \"\"\" \n",
    "        A simple sequential encoder for titles.\n",
    "        x -> emb -> conv -> global_max -> relu -> dense\n",
    "        \"\"\"\n",
    "        super(self.__class__, self).__init__()\n",
    "        self.emb = nn.Embedding(n_tokens, 64, padding_idx=PAD_IX)\n",
    "        self.conv1 = nn.Conv1d(64, out_size, kernel_size=3, padding=1)\n",
    "        self.pool1 = GlobalMaxPooling()\n",
    "        self.dense = nn.Linear(out_size, out_size)\n",
    "\n",
    "    def forward(self, text_ix):\n",
    "        \"\"\"\n",
    "        :param text_ix: int64 Variable of shape [batch_size, max_len]\n",
    "        :returns: float32 Variable of shape [batch_size, out_size]\n",
    "        \"\"\"\n",
    "        h = self.emb(text_ix)\n",
    "\n",
    "        # we transpose from [batch, time, units] to [batch, units, time] to fit Conv1d dim order\n",
    "        h = torch.transpose(h, 1, 2)\n",
    "        \n",
    "        # Apply the layers as defined above. Add some ReLUs before dense.\n",
    "        h = self.conv1(h)\n",
    "        h = self.pool1(h)\n",
    "        h = nn.ReLU()(h)\n",
    "        h = self.dense(h)\n",
    "        \n",
    "        return h"
   ]
  },
  {
   "cell_type": "code",
   "execution_count": 23,
   "metadata": {},
   "outputs": [
    {
     "name": "stdout",
     "output_type": "stream",
     "text": [
      "Seems fine\n"
     ]
    }
   ],
   "source": [
    "title_encoder = TitleEncoder(out_size=64)\n",
    "\n",
    "dummy_x = Variable(torch.LongTensor(generate_batch(data_train, 3)['Title']))\n",
    "dummy_v = title_encoder(dummy_x)\n",
    "\n",
    "assert isinstance(dummy_v, Variable)\n",
    "assert tuple(dummy_v.shape) == (dummy_x.shape[0], 64)\n",
    "\n",
    "del title_encoder\n",
    "print(\"Seems fine\")"
   ]
  },
  {
   "cell_type": "markdown",
   "metadata": {},
   "source": [
    "__Task 2.1__ Create description encoder"
   ]
  },
  {
   "cell_type": "code",
   "execution_count": 24,
   "metadata": {
    "collapsed": true
   },
   "outputs": [],
   "source": [
    "# Define an encoder for job descriptions.\n",
    "# Use any means you want so long as it's torch.nn.Module.\n",
    "class DescriptionEncoder(nn.Module):\n",
    "    def __init__(self, n_tokens=len(tokens), out_size=64):\n",
    "        super(self.__class__, self).__init__()\n",
    "        self.emb = nn.Embedding(n_tokens, 64, padding_idx=PAD_IX)\n",
    "        self.conv1 = nn.Conv1d(64, out_size, kernel_size=3, padding=1)\n",
    "        self.pool1 = GlobalMaxPooling()        \n",
    "        self.dense = nn.Linear(out_size, out_size)\n",
    "\n",
    "    def forward(self, text_ix):\n",
    "        h = self.emb(text_ix)\n",
    "        h = torch.transpose(h, 1, 2)\n",
    "        h = self.conv1(h)\n",
    "        h = self.pool1(h)\n",
    "        h = nn.ReLU()(h)\n",
    "        h = self.dense(h)\n",
    "        return h"
   ]
  },
  {
   "cell_type": "code",
   "execution_count": 25,
   "metadata": {},
   "outputs": [
    {
     "name": "stdout",
     "output_type": "stream",
     "text": [
      "Seems fine too\n"
     ]
    }
   ],
   "source": [
    "desc_encoder = DescriptionEncoder(out_size=64)\n",
    "\n",
    "dummy_x = Variable(torch.LongTensor(generate_batch(data_train, 3)['FullDescription']))\n",
    "dummy_v = desc_encoder(dummy_x)\n",
    "\n",
    "assert isinstance(dummy_v, Variable)\n",
    "assert tuple(dummy_v.shape) == (dummy_x.shape[0], 64)\n",
    "del desc_encoder\n",
    "print(\"Seems fine too\")"
   ]
  },
  {
   "cell_type": "markdown",
   "metadata": {},
   "source": [
    "__Task 2.2__ Build one network ~~to rule them all~~"
   ]
  },
  {
   "cell_type": "code",
   "execution_count": 26,
   "metadata": {
    "collapsed": true
   },
   "outputs": [],
   "source": [
    "class FullNetwork(nn.Module):\n",
    "    \"\"\"\n",
    "    This class does all the steps from (title, desc, categorical) features -> predicted target\n",
    "    It unites title & desc encoders you defined above as long as some layers for head and categorical branch.\n",
    "    \"\"\"\n",
    "    \n",
    "    def __init__(self, n_tokens=len(tokens), n_cat_features=len(categorical_vectorizer.vocabulary_)):\n",
    "        super(self.__class__, self).__init__()\n",
    "        \n",
    "        self.title_encoder = TitleEncoder(out_size=64)\n",
    "        self.desc_encoder = DescriptionEncoder(out_size=64)\n",
    "        \n",
    "        # define layers for categorical features. A few dense layers would do.\n",
    "        self.cat_encoder = nn.Sequential(\n",
    "            nn.Linear(n_cat_features, 256),\n",
    "            nn.ReLU(),\n",
    "            nn.Linear(256, 64)\n",
    "        )\n",
    "        \n",
    "        # define \"output\" layers that process depend the three encoded vectors into answer\n",
    "        self.out_layers = nn.Sequential(\n",
    "            nn.Linear(192, 64),\n",
    "            nn.ReLU(),\n",
    "            nn.Linear(64, 1)\n",
    "        )\n",
    "        \n",
    "        \n",
    "    def forward(self, title_ix, desc_ix, cat_features):\n",
    "        \"\"\"\n",
    "        :param title_ix: int32 Variable [batch, title_len], job titles encoded by as_matrix\n",
    "        :param desc_ix:  int32 Variable [batch, desc_len] , job descriptions encoded by as_matrix\n",
    "        :param cat_features: float32 Variable [batch, n_cat_features]\n",
    "        :returns: float32 Variable 1d [batch], predicted log1p-salary\n",
    "        \"\"\"\n",
    "        \n",
    "        # process each data source with it's respective encoder\n",
    "        title_h = self.title_encoder(title_ix)\n",
    "        desc_h = self.desc_encoder(desc_ix)\n",
    "        \n",
    "        # apply categorical encoder\n",
    "        cat_h = self.cat_encoder(cat_features)\n",
    "        \n",
    "        # concatenate all vectors together...\n",
    "        joint_h = torch.cat([title_h, desc_h, cat_h], dim=1)\n",
    "        \n",
    "        # ... and stack a few more layers at the top\n",
    "        out = self.out_layers(joint_h)\n",
    "        \n",
    "        # Note 1: do not forget to select first columns, [:, 0], to get to 1d outputs\n",
    "        # Note 2: please do not use output nonlinearities.\n",
    "        \n",
    "        return out[:, 0]"
   ]
  },
  {
   "cell_type": "code",
   "execution_count": 27,
   "metadata": {
    "collapsed": true
   },
   "outputs": [],
   "source": [
    "model = FullNetwork()\n",
    "opt = torch.optim.Adam(model.parameters(), lr=1e-3)"
   ]
  },
  {
   "cell_type": "code",
   "execution_count": 28,
   "metadata": {
    "collapsed": true
   },
   "outputs": [],
   "source": [
    "# test it on one batch\n",
    "\n",
    "batch = generate_batch(data_train, 32)\n",
    "\n",
    "title_ix = torch.tensor(batch[\"Title\"], dtype=torch.int64)\n",
    "desc_ix = torch.tensor(batch[\"FullDescription\"], dtype=torch.int64)\n",
    "cat_features = torch.tensor(batch[\"Categorical\"], dtype=torch.float32)\n",
    "reference = torch.tensor(batch[target_column], dtype=torch.float32)\n",
    "\n",
    "prediction = model(title_ix, desc_ix, cat_features)\n",
    "\n",
    "assert len(prediction.shape) == 1 and prediction.shape[0] == title_ix.shape[0]"
   ]
  },
  {
   "cell_type": "code",
   "execution_count": 29,
   "metadata": {
    "collapsed": true
   },
   "outputs": [],
   "source": [
    "def compute_loss(reference, prediction):\n",
    "    \"\"\"\n",
    "    Computes objective for minimization.\n",
    "    By deafult we minimize MSE, but you are encouraged to try mix up MSE, MAE, huber loss, etc.\n",
    "    \"\"\"\n",
    "    return torch.mean((prediction - reference) ** 2)\n",
    "\n",
    "def compute_mae(reference, prediction):\n",
    "    \"\"\" Compute MAE on actual salary, assuming your model outputs log1p(salary)\"\"\"\n",
    "    return torch.abs(torch.exp(reference) - torch.exp(prediction)).mean()"
   ]
  },
  {
   "cell_type": "code",
   "execution_count": 30,
   "metadata": {
    "collapsed": true
   },
   "outputs": [],
   "source": [
    "loss = compute_loss(reference, prediction)\n",
    "dummy_grads = torch.autograd.grad(loss, model.parameters(), retain_graph=True)\n",
    "for grad in dummy_grads:\n",
    "    assert grad is not None and not (grad == 0).all(), \"Some model parameters received zero grads. \" \\\n",
    "                                                       \"Double-check that your model uses all it's layers.\""
   ]
  },
  {
   "cell_type": "markdown",
   "metadata": {},
   "source": [
    "### Let's train it!"
   ]
  },
  {
   "cell_type": "code",
   "execution_count": 31,
   "metadata": {
    "collapsed": true
   },
   "outputs": [],
   "source": [
    "from tqdm import tnrange\n",
    "def iterate_minibatches(data, batch_size=32, max_len=None,\n",
    "                        max_batches=None, shuffle=True, verbose=True):\n",
    "    indices = np.arange(len(data))\n",
    "    if shuffle:\n",
    "        indices = np.random.permutation(indices)\n",
    "    if max_batches is not None:\n",
    "        indices = indices[: batch_size * max_batches]\n",
    "        \n",
    "    irange = tnrange if verbose else range\n",
    "    \n",
    "    for start in irange(0, len(indices), batch_size):\n",
    "        yield generate_batch(data.iloc[indices[start : start + batch_size]], max_len=max_len)"
   ]
  },
  {
   "cell_type": "code",
   "execution_count": 32,
   "metadata": {
    "collapsed": true
   },
   "outputs": [],
   "source": [
    "num_epochs = 100\n",
    "max_len = 100\n",
    "batch_size = 32\n",
    "batches_per_epoch = 100"
   ]
  },
  {
   "cell_type": "code",
   "execution_count": 33,
   "metadata": {},
   "outputs": [
    {
     "name": "stdout",
     "output_type": "stream",
     "text": [
      "Training:\n"
     ]
    },
    {
     "data": {
      "application/vnd.jupyter.widget-view+json": {
       "model_id": "9304913142fe4f3a8166ffc1e699fbdc",
       "version_major": 2,
       "version_minor": 0
      },
      "text/plain": [
       "A Jupyter Widget"
      ]
     },
     "metadata": {},
     "output_type": "display_data"
    },
    {
     "name": "stdout",
     "output_type": "stream",
     "text": [
      "\n",
      "\tLoss:\t10.92411\n",
      "\tMAE:\t83792.30479\n",
      "\n",
      "\n",
      "\n",
      "Validation:\n"
     ]
    },
    {
     "data": {
      "application/vnd.jupyter.widget-view+json": {
       "model_id": "5485c2278bc44da3928451760dc719cc",
       "version_major": 2,
       "version_minor": 0
      },
      "text/plain": [
       "A Jupyter Widget"
      ]
     },
     "metadata": {},
     "output_type": "display_data"
    },
    {
     "name": "stdout",
     "output_type": "stream",
     "text": [
      "\n",
      "\tLoss:\t0.56162\n",
      "\tMAE:\t19575.01747\n",
      "\n",
      "\n",
      "\n",
      "Training:\n"
     ]
    },
    {
     "data": {
      "application/vnd.jupyter.widget-view+json": {
       "model_id": "2663f7094e2845a7ab4f007cf5ee00d9",
       "version_major": 2,
       "version_minor": 0
      },
      "text/plain": [
       "A Jupyter Widget"
      ]
     },
     "metadata": {},
     "output_type": "display_data"
    },
    {
     "name": "stdout",
     "output_type": "stream",
     "text": [
      "\n",
      "\tLoss:\t0.45527\n",
      "\tMAE:\t17582.85221\n",
      "\n",
      "\n",
      "\n",
      "Validation:\n"
     ]
    },
    {
     "data": {
      "application/vnd.jupyter.widget-view+json": {
       "model_id": "54023e8e61a44cbd88493d3f6695e015",
       "version_major": 2,
       "version_minor": 0
      },
      "text/plain": [
       "A Jupyter Widget"
      ]
     },
     "metadata": {},
     "output_type": "display_data"
    },
    {
     "name": "stdout",
     "output_type": "stream",
     "text": [
      "\n",
      "\tLoss:\t0.38956\n",
      "\tMAE:\t16798.62333\n",
      "\n",
      "\n",
      "\n",
      "Training:\n"
     ]
    },
    {
     "data": {
      "application/vnd.jupyter.widget-view+json": {
       "model_id": "65e33ccb5ccd4c948e4f5d3c102249f1",
       "version_major": 2,
       "version_minor": 0
      },
      "text/plain": [
       "A Jupyter Widget"
      ]
     },
     "metadata": {},
     "output_type": "display_data"
    },
    {
     "name": "stdout",
     "output_type": "stream",
     "text": [
      "\n",
      "\tLoss:\t0.35637\n",
      "\tMAE:\t15468.93521\n",
      "\n",
      "\n",
      "\n",
      "Validation:\n"
     ]
    },
    {
     "data": {
      "application/vnd.jupyter.widget-view+json": {
       "model_id": "6b875b2f0edb450a92d6ca9ff762d90a",
       "version_major": 2,
       "version_minor": 0
      },
      "text/plain": [
       "A Jupyter Widget"
      ]
     },
     "metadata": {},
     "output_type": "display_data"
    },
    {
     "name": "stdout",
     "output_type": "stream",
     "text": [
      "\n",
      "\tLoss:\t0.31223\n",
      "\tMAE:\t13968.95580\n",
      "\n",
      "\n",
      "\n",
      "Training:\n"
     ]
    },
    {
     "data": {
      "application/vnd.jupyter.widget-view+json": {
       "model_id": "aac023d8a36742828a24d93ab388b040",
       "version_major": 2,
       "version_minor": 0
      },
      "text/plain": [
       "A Jupyter Widget"
      ]
     },
     "metadata": {},
     "output_type": "display_data"
    },
    {
     "name": "stdout",
     "output_type": "stream",
     "text": [
      "\n",
      "\tLoss:\t0.28720\n",
      "\tMAE:\t13614.12872\n",
      "\n",
      "\n",
      "\n",
      "Validation:\n"
     ]
    },
    {
     "data": {
      "application/vnd.jupyter.widget-view+json": {
       "model_id": "8208305b8961443eb374a37ba96c91a7",
       "version_major": 2,
       "version_minor": 0
      },
      "text/plain": [
       "A Jupyter Widget"
      ]
     },
     "metadata": {},
     "output_type": "display_data"
    },
    {
     "name": "stdout",
     "output_type": "stream",
     "text": [
      "\n",
      "\tLoss:\t0.27749\n",
      "\tMAE:\t12753.73839\n",
      "\n",
      "\n",
      "\n",
      "Training:\n"
     ]
    },
    {
     "data": {
      "application/vnd.jupyter.widget-view+json": {
       "model_id": "704a723f7d454638b6a03556fa950aad",
       "version_major": 2,
       "version_minor": 0
      },
      "text/plain": [
       "A Jupyter Widget"
      ]
     },
     "metadata": {},
     "output_type": "display_data"
    },
    {
     "name": "stdout",
     "output_type": "stream",
     "text": [
      "\n",
      "\tLoss:\t0.26147\n",
      "\tMAE:\t12867.24640\n",
      "\n",
      "\n",
      "\n",
      "Validation:\n"
     ]
    },
    {
     "data": {
      "application/vnd.jupyter.widget-view+json": {
       "model_id": "f9a1a58397094af9b5a283a13f0f4b3d",
       "version_major": 2,
       "version_minor": 0
      },
      "text/plain": [
       "A Jupyter Widget"
      ]
     },
     "metadata": {},
     "output_type": "display_data"
    },
    {
     "name": "stdout",
     "output_type": "stream",
     "text": [
      "\n",
      "\tLoss:\t0.26245\n",
      "\tMAE:\t12289.61476\n",
      "\n",
      "\n",
      "\n",
      "Training:\n"
     ]
    },
    {
     "data": {
      "application/vnd.jupyter.widget-view+json": {
       "model_id": "480ad916190d437f8174cf4d7c8226c1",
       "version_major": 2,
       "version_minor": 0
      },
      "text/plain": [
       "A Jupyter Widget"
      ]
     },
     "metadata": {},
     "output_type": "display_data"
    },
    {
     "name": "stdout",
     "output_type": "stream",
     "text": [
      "\n",
      "\tLoss:\t0.25824\n",
      "\tMAE:\t12857.56745\n",
      "\n",
      "\n",
      "\n",
      "Validation:\n"
     ]
    },
    {
     "data": {
      "application/vnd.jupyter.widget-view+json": {
       "model_id": "c23b27b981c44761929cf8f69be5f80a",
       "version_major": 2,
       "version_minor": 0
      },
      "text/plain": [
       "A Jupyter Widget"
      ]
     },
     "metadata": {},
     "output_type": "display_data"
    },
    {
     "name": "stdout",
     "output_type": "stream",
     "text": [
      "\n",
      "\tLoss:\t0.23679\n",
      "\tMAE:\t11699.86771\n",
      "\n",
      "\n",
      "\n",
      "Training:\n"
     ]
    },
    {
     "data": {
      "application/vnd.jupyter.widget-view+json": {
       "model_id": "cbf6399b817643aeb4b30f9d0b86af90",
       "version_major": 2,
       "version_minor": 0
      },
      "text/plain": [
       "A Jupyter Widget"
      ]
     },
     "metadata": {},
     "output_type": "display_data"
    },
    {
     "name": "stdout",
     "output_type": "stream",
     "text": [
      "\n",
      "\tLoss:\t0.22907\n",
      "\tMAE:\t12168.86751\n",
      "\n",
      "\n",
      "\n",
      "Validation:\n"
     ]
    },
    {
     "data": {
      "application/vnd.jupyter.widget-view+json": {
       "model_id": "d89783014004418dafbb1414884d3cec",
       "version_major": 2,
       "version_minor": 0
      },
      "text/plain": [
       "A Jupyter Widget"
      ]
     },
     "metadata": {},
     "output_type": "display_data"
    },
    {
     "name": "stdout",
     "output_type": "stream",
     "text": [
      "\n",
      "\tLoss:\t0.25784\n",
      "\tMAE:\t15019.86033\n",
      "\n",
      "\n",
      "\n",
      "Training:\n"
     ]
    },
    {
     "data": {
      "application/vnd.jupyter.widget-view+json": {
       "model_id": "0de740994da74496b2e76601d46bcce8",
       "version_major": 2,
       "version_minor": 0
      },
      "text/plain": [
       "A Jupyter Widget"
      ]
     },
     "metadata": {},
     "output_type": "display_data"
    },
    {
     "name": "stdout",
     "output_type": "stream",
     "text": [
      "\n",
      "\tLoss:\t0.21514\n",
      "\tMAE:\t11768.54860\n",
      "\n",
      "\n",
      "\n",
      "Validation:\n"
     ]
    },
    {
     "data": {
      "application/vnd.jupyter.widget-view+json": {
       "model_id": "858e32a9715345278fc6a3bf32e5d91b",
       "version_major": 2,
       "version_minor": 0
      },
      "text/plain": [
       "A Jupyter Widget"
      ]
     },
     "metadata": {},
     "output_type": "display_data"
    },
    {
     "name": "stdout",
     "output_type": "stream",
     "text": [
      "\n",
      "\tLoss:\t0.19688\n",
      "\tMAE:\t11422.91269\n",
      "\n",
      "\n",
      "\n",
      "Training:\n"
     ]
    },
    {
     "data": {
      "application/vnd.jupyter.widget-view+json": {
       "model_id": "d2a1b30ce5ee454d9cba30c7e0ddccd0",
       "version_major": 2,
       "version_minor": 0
      },
      "text/plain": [
       "A Jupyter Widget"
      ]
     },
     "metadata": {},
     "output_type": "display_data"
    },
    {
     "name": "stdout",
     "output_type": "stream",
     "text": [
      "\n",
      "\tLoss:\t0.20849\n",
      "\tMAE:\t11464.38806\n",
      "\n",
      "\n",
      "\n",
      "Validation:\n"
     ]
    },
    {
     "data": {
      "application/vnd.jupyter.widget-view+json": {
       "model_id": "7e13d9a468ae45e9a65aa2433ab126a6",
       "version_major": 2,
       "version_minor": 0
      },
      "text/plain": [
       "A Jupyter Widget"
      ]
     },
     "metadata": {},
     "output_type": "display_data"
    },
    {
     "name": "stdout",
     "output_type": "stream",
     "text": [
      "\n",
      "\tLoss:\t0.20615\n",
      "\tMAE:\t12630.19946\n",
      "\n",
      "\n",
      "\n",
      "Training:\n"
     ]
    },
    {
     "data": {
      "application/vnd.jupyter.widget-view+json": {
       "model_id": "a0daa9848a5e4decb4f0ce78381ed9af",
       "version_major": 2,
       "version_minor": 0
      },
      "text/plain": [
       "A Jupyter Widget"
      ]
     },
     "metadata": {},
     "output_type": "display_data"
    },
    {
     "name": "stdout",
     "output_type": "stream",
     "text": [
      "\n",
      "\tLoss:\t0.21083\n",
      "\tMAE:\t12010.53401\n",
      "\n",
      "\n",
      "\n",
      "Validation:\n"
     ]
    },
    {
     "data": {
      "application/vnd.jupyter.widget-view+json": {
       "model_id": "74de4a6956824ff5b75f8f8380b22952",
       "version_major": 2,
       "version_minor": 0
      },
      "text/plain": [
       "A Jupyter Widget"
      ]
     },
     "metadata": {},
     "output_type": "display_data"
    },
    {
     "name": "stdout",
     "output_type": "stream",
     "text": [
      "\n",
      "\tLoss:\t0.23624\n",
      "\tMAE:\t14363.88203\n",
      "\n",
      "\n",
      "\n",
      "Training:\n"
     ]
    },
    {
     "data": {
      "application/vnd.jupyter.widget-view+json": {
       "model_id": "3a4b9dd802fa4deba3f50887440313e8",
       "version_major": 2,
       "version_minor": 0
      },
      "text/plain": [
       "A Jupyter Widget"
      ]
     },
     "metadata": {},
     "output_type": "display_data"
    },
    {
     "name": "stdout",
     "output_type": "stream",
     "text": [
      "\n",
      "\tLoss:\t0.18775\n",
      "\tMAE:\t10853.54232\n",
      "\n",
      "\n",
      "\n",
      "Validation:\n"
     ]
    },
    {
     "data": {
      "application/vnd.jupyter.widget-view+json": {
       "model_id": "db673cd3c8a2491cab49504263b34746",
       "version_major": 2,
       "version_minor": 0
      },
      "text/plain": [
       "A Jupyter Widget"
      ]
     },
     "metadata": {},
     "output_type": "display_data"
    },
    {
     "name": "stdout",
     "output_type": "stream",
     "text": [
      "\n",
      "\tLoss:\t0.18702\n",
      "\tMAE:\t10428.06043\n",
      "\n",
      "\n",
      "\n",
      "Training:\n"
     ]
    },
    {
     "data": {
      "application/vnd.jupyter.widget-view+json": {
       "model_id": "fe9ebb62b26d4aa58e44b0fee1ec55c9",
       "version_major": 2,
       "version_minor": 0
      },
      "text/plain": [
       "A Jupyter Widget"
      ]
     },
     "metadata": {},
     "output_type": "display_data"
    },
    {
     "name": "stdout",
     "output_type": "stream",
     "text": [
      "\n",
      "\tLoss:\t0.17926\n",
      "\tMAE:\t11054.09083\n",
      "\n",
      "\n",
      "\n",
      "Validation:\n"
     ]
    },
    {
     "data": {
      "application/vnd.jupyter.widget-view+json": {
       "model_id": "b06ab2f52e4d44f79c893d3198b225d5",
       "version_major": 2,
       "version_minor": 0
      },
      "text/plain": [
       "A Jupyter Widget"
      ]
     },
     "metadata": {},
     "output_type": "display_data"
    },
    {
     "name": "stdout",
     "output_type": "stream",
     "text": [
      "\n",
      "\tLoss:\t0.16627\n",
      "\tMAE:\t10288.24597\n",
      "\n",
      "\n",
      "\n",
      "Training:\n"
     ]
    },
    {
     "data": {
      "application/vnd.jupyter.widget-view+json": {
       "model_id": "9d23359765504d4b8de028ec4ff2734f",
       "version_major": 2,
       "version_minor": 0
      },
      "text/plain": [
       "A Jupyter Widget"
      ]
     },
     "metadata": {},
     "output_type": "display_data"
    },
    {
     "name": "stdout",
     "output_type": "stream",
     "text": [
      "\n",
      "\tLoss:\t0.16538\n",
      "\tMAE:\t10380.83806\n",
      "\n",
      "\n",
      "\n",
      "Validation:\n"
     ]
    },
    {
     "data": {
      "application/vnd.jupyter.widget-view+json": {
       "model_id": "d1c9efa6d6064bd5bc2370d86e659e43",
       "version_major": 2,
       "version_minor": 0
      },
      "text/plain": [
       "A Jupyter Widget"
      ]
     },
     "metadata": {},
     "output_type": "display_data"
    },
    {
     "name": "stdout",
     "output_type": "stream",
     "text": [
      "\n",
      "\tLoss:\t0.16686\n",
      "\tMAE:\t10014.92919\n",
      "\n",
      "\n",
      "\n",
      "Training:\n"
     ]
    },
    {
     "data": {
      "application/vnd.jupyter.widget-view+json": {
       "model_id": "a7bf2f751ed74036a9e1cb166d8e16e1",
       "version_major": 2,
       "version_minor": 0
      },
      "text/plain": [
       "A Jupyter Widget"
      ]
     },
     "metadata": {},
     "output_type": "display_data"
    },
    {
     "name": "stdout",
     "output_type": "stream",
     "text": [
      "\n",
      "\tLoss:\t0.16332\n",
      "\tMAE:\t10669.88619\n",
      "\n",
      "\n",
      "\n",
      "Validation:\n"
     ]
    },
    {
     "data": {
      "application/vnd.jupyter.widget-view+json": {
       "model_id": "819437592a64440d813e8f1d2f9a7dac",
       "version_major": 2,
       "version_minor": 0
      },
      "text/plain": [
       "A Jupyter Widget"
      ]
     },
     "metadata": {},
     "output_type": "display_data"
    },
    {
     "name": "stdout",
     "output_type": "stream",
     "text": [
      "\n",
      "\tLoss:\t0.15567\n",
      "\tMAE:\t9944.21524\n",
      "\n",
      "\n",
      "\n",
      "Training:\n"
     ]
    },
    {
     "data": {
      "application/vnd.jupyter.widget-view+json": {
       "model_id": "48c363eaa0094f55ade82843c2b30951",
       "version_major": 2,
       "version_minor": 0
      },
      "text/plain": [
       "A Jupyter Widget"
      ]
     },
     "metadata": {},
     "output_type": "display_data"
    },
    {
     "name": "stdout",
     "output_type": "stream",
     "text": [
      "\n",
      "\tLoss:\t0.15889\n",
      "\tMAE:\t10094.08950\n",
      "\n",
      "\n",
      "\n",
      "Validation:\n"
     ]
    },
    {
     "data": {
      "application/vnd.jupyter.widget-view+json": {
       "model_id": "20474caf8d0d4055b57da6c2e7957da3",
       "version_major": 2,
       "version_minor": 0
      },
      "text/plain": [
       "A Jupyter Widget"
      ]
     },
     "metadata": {},
     "output_type": "display_data"
    },
    {
     "name": "stdout",
     "output_type": "stream",
     "text": [
      "\n",
      "\tLoss:\t0.16182\n",
      "\tMAE:\t9856.78757\n",
      "\n",
      "\n",
      "\n",
      "Training:\n"
     ]
    },
    {
     "data": {
      "application/vnd.jupyter.widget-view+json": {
       "model_id": "2001063eb4a7465f89faea87e3ee1c92",
       "version_major": 2,
       "version_minor": 0
      },
      "text/plain": [
       "A Jupyter Widget"
      ]
     },
     "metadata": {},
     "output_type": "display_data"
    },
    {
     "name": "stdout",
     "output_type": "stream",
     "text": [
      "\n",
      "\tLoss:\t0.16977\n",
      "\tMAE:\t10632.88897\n",
      "\n",
      "\n",
      "\n",
      "Validation:\n"
     ]
    },
    {
     "data": {
      "application/vnd.jupyter.widget-view+json": {
       "model_id": "4249da1c1f314a65aecc6ca43e4959b4",
       "version_major": 2,
       "version_minor": 0
      },
      "text/plain": [
       "A Jupyter Widget"
      ]
     },
     "metadata": {},
     "output_type": "display_data"
    },
    {
     "name": "stdout",
     "output_type": "stream",
     "text": [
      "\n",
      "\tLoss:\t0.16943\n",
      "\tMAE:\t11468.77161\n",
      "\n",
      "\n",
      "\n",
      "Training:\n"
     ]
    },
    {
     "data": {
      "application/vnd.jupyter.widget-view+json": {
       "model_id": "450b7155f01f4177a71b7e22996ea5cc",
       "version_major": 2,
       "version_minor": 0
      },
      "text/plain": [
       "A Jupyter Widget"
      ]
     },
     "metadata": {},
     "output_type": "display_data"
    },
    {
     "name": "stdout",
     "output_type": "stream",
     "text": [
      "\n",
      "\tLoss:\t0.14406\n",
      "\tMAE:\t9774.78976\n",
      "\n",
      "\n",
      "\n",
      "Validation:\n"
     ]
    },
    {
     "data": {
      "application/vnd.jupyter.widget-view+json": {
       "model_id": "da9b3887e37b45e0953e7d254c65e371",
       "version_major": 2,
       "version_minor": 0
      },
      "text/plain": [
       "A Jupyter Widget"
      ]
     },
     "metadata": {},
     "output_type": "display_data"
    },
    {
     "name": "stdout",
     "output_type": "stream",
     "text": [
      "\n",
      "\tLoss:\t0.15747\n",
      "\tMAE:\t10909.35605\n",
      "\n",
      "\n",
      "\n",
      "Training:\n"
     ]
    },
    {
     "data": {
      "application/vnd.jupyter.widget-view+json": {
       "model_id": "8ef08e40ffe64deb9a5931418bb5c741",
       "version_major": 2,
       "version_minor": 0
      },
      "text/plain": [
       "A Jupyter Widget"
      ]
     },
     "metadata": {},
     "output_type": "display_data"
    },
    {
     "name": "stdout",
     "output_type": "stream",
     "text": [
      "\n",
      "\tLoss:\t0.14642\n",
      "\tMAE:\t9678.13228\n",
      "\n",
      "\n",
      "\n",
      "Validation:\n"
     ]
    },
    {
     "data": {
      "application/vnd.jupyter.widget-view+json": {
       "model_id": "860a830f7c7c4ccc8272f2bacaa7e3f3",
       "version_major": 2,
       "version_minor": 0
      },
      "text/plain": [
       "A Jupyter Widget"
      ]
     },
     "metadata": {},
     "output_type": "display_data"
    },
    {
     "name": "stdout",
     "output_type": "stream",
     "text": [
      "\n",
      "\tLoss:\t0.14575\n",
      "\tMAE:\t10103.00836\n",
      "\n",
      "\n",
      "\n",
      "Training:\n"
     ]
    },
    {
     "data": {
      "application/vnd.jupyter.widget-view+json": {
       "model_id": "9915cb6c76aa4367b51db345ac5068cd",
       "version_major": 2,
       "version_minor": 0
      },
      "text/plain": [
       "A Jupyter Widget"
      ]
     },
     "metadata": {},
     "output_type": "display_data"
    },
    {
     "name": "stdout",
     "output_type": "stream",
     "text": [
      "\n",
      "\tLoss:\t0.15039\n",
      "\tMAE:\t9959.22735\n",
      "\n",
      "\n",
      "\n",
      "Validation:\n"
     ]
    },
    {
     "data": {
      "application/vnd.jupyter.widget-view+json": {
       "model_id": "9bbd4696a7a044c3b029079c8dc4134c",
       "version_major": 2,
       "version_minor": 0
      },
      "text/plain": [
       "A Jupyter Widget"
      ]
     },
     "metadata": {},
     "output_type": "display_data"
    },
    {
     "name": "stdout",
     "output_type": "stream",
     "text": [
      "\n",
      "\tLoss:\t0.16714\n",
      "\tMAE:\t9861.03007\n",
      "\n",
      "\n",
      "\n",
      "Training:\n"
     ]
    },
    {
     "data": {
      "application/vnd.jupyter.widget-view+json": {
       "model_id": "3d58955786274b1889eee754b97d2c1c",
       "version_major": 2,
       "version_minor": 0
      },
      "text/plain": [
       "A Jupyter Widget"
      ]
     },
     "metadata": {},
     "output_type": "display_data"
    },
    {
     "name": "stdout",
     "output_type": "stream",
     "text": [
      "\n",
      "\tLoss:\t0.14386\n",
      "\tMAE:\t9646.04441\n",
      "\n",
      "\n",
      "\n",
      "Validation:\n"
     ]
    },
    {
     "data": {
      "application/vnd.jupyter.widget-view+json": {
       "model_id": "54578cd57d214c9594ac3411d963bf6b",
       "version_major": 2,
       "version_minor": 0
      },
      "text/plain": [
       "A Jupyter Widget"
      ]
     },
     "metadata": {},
     "output_type": "display_data"
    },
    {
     "name": "stdout",
     "output_type": "stream",
     "text": [
      "\n",
      "\tLoss:\t0.13283\n",
      "\tMAE:\t9528.97102\n",
      "\n",
      "\n",
      "\n",
      "Training:\n"
     ]
    },
    {
     "data": {
      "application/vnd.jupyter.widget-view+json": {
       "model_id": "643acd8ecaa2496195729b7a1516b534",
       "version_major": 2,
       "version_minor": 0
      },
      "text/plain": [
       "A Jupyter Widget"
      ]
     },
     "metadata": {},
     "output_type": "display_data"
    },
    {
     "name": "stdout",
     "output_type": "stream",
     "text": [
      "\n",
      "\tLoss:\t0.14022\n",
      "\tMAE:\t9729.80182\n",
      "\n",
      "\n",
      "\n",
      "Validation:\n"
     ]
    },
    {
     "data": {
      "application/vnd.jupyter.widget-view+json": {
       "model_id": "a576028240324e7582dab065265c62cd",
       "version_major": 2,
       "version_minor": 0
      },
      "text/plain": [
       "A Jupyter Widget"
      ]
     },
     "metadata": {},
     "output_type": "display_data"
    },
    {
     "name": "stdout",
     "output_type": "stream",
     "text": [
      "\n",
      "\tLoss:\t0.13188\n",
      "\tMAE:\t9346.57157\n",
      "\n",
      "\n",
      "\n",
      "Training:\n"
     ]
    },
    {
     "data": {
      "application/vnd.jupyter.widget-view+json": {
       "model_id": "63782150448e474284e2c9514e413bc4",
       "version_major": 2,
       "version_minor": 0
      },
      "text/plain": [
       "A Jupyter Widget"
      ]
     },
     "metadata": {},
     "output_type": "display_data"
    },
    {
     "name": "stdout",
     "output_type": "stream",
     "text": [
      "\n",
      "\tLoss:\t0.14286\n",
      "\tMAE:\t9663.52842\n",
      "\n",
      "\n",
      "\n",
      "Validation:\n"
     ]
    },
    {
     "data": {
      "application/vnd.jupyter.widget-view+json": {
       "model_id": "74c4c16e8ae94536a6d8d619d04e6dfb",
       "version_major": 2,
       "version_minor": 0
      },
      "text/plain": [
       "A Jupyter Widget"
      ]
     },
     "metadata": {},
     "output_type": "display_data"
    },
    {
     "name": "stdout",
     "output_type": "stream",
     "text": [
      "\n",
      "\tLoss:\t0.12856\n",
      "\tMAE:\t9275.14273\n",
      "\n",
      "\n",
      "\n",
      "Training:\n"
     ]
    },
    {
     "data": {
      "application/vnd.jupyter.widget-view+json": {
       "model_id": "14c9411026694fcabb2bb0d6f950ed96",
       "version_major": 2,
       "version_minor": 0
      },
      "text/plain": [
       "A Jupyter Widget"
      ]
     },
     "metadata": {},
     "output_type": "display_data"
    },
    {
     "name": "stdout",
     "output_type": "stream",
     "text": [
      "\n",
      "\tLoss:\t0.15699\n",
      "\tMAE:\t10520.57104\n",
      "\n",
      "\n",
      "\n",
      "Validation:\n"
     ]
    },
    {
     "data": {
      "application/vnd.jupyter.widget-view+json": {
       "model_id": "37702f2856124f16a68867d22ee1db38",
       "version_major": 2,
       "version_minor": 0
      },
      "text/plain": [
       "A Jupyter Widget"
      ]
     },
     "metadata": {},
     "output_type": "display_data"
    },
    {
     "name": "stdout",
     "output_type": "stream",
     "text": [
      "\n",
      "\tLoss:\t0.14181\n",
      "\tMAE:\t9337.68805\n",
      "\n",
      "\n",
      "\n",
      "Training:\n"
     ]
    },
    {
     "data": {
      "application/vnd.jupyter.widget-view+json": {
       "model_id": "b14cfa572aa843cda16d6e03b24147ee",
       "version_major": 2,
       "version_minor": 0
      },
      "text/plain": [
       "A Jupyter Widget"
      ]
     },
     "metadata": {},
     "output_type": "display_data"
    },
    {
     "name": "stdout",
     "output_type": "stream",
     "text": [
      "\n",
      "\tLoss:\t0.13950\n",
      "\tMAE:\t9617.05858\n",
      "\n",
      "\n",
      "\n",
      "Validation:\n"
     ]
    },
    {
     "data": {
      "application/vnd.jupyter.widget-view+json": {
       "model_id": "05f0a4ca0a8b48ffb01a39a66c8e5aef",
       "version_major": 2,
       "version_minor": 0
      },
      "text/plain": [
       "A Jupyter Widget"
      ]
     },
     "metadata": {},
     "output_type": "display_data"
    },
    {
     "name": "stdout",
     "output_type": "stream",
     "text": [
      "\n",
      "\tLoss:\t0.12746\n",
      "\tMAE:\t9397.09941\n",
      "\n",
      "\n",
      "\n",
      "Training:\n"
     ]
    },
    {
     "data": {
      "application/vnd.jupyter.widget-view+json": {
       "model_id": "1ef6f762b4444293ab2de299c663d60c",
       "version_major": 2,
       "version_minor": 0
      },
      "text/plain": [
       "A Jupyter Widget"
      ]
     },
     "metadata": {},
     "output_type": "display_data"
    },
    {
     "name": "stdout",
     "output_type": "stream",
     "text": [
      "\n",
      "\tLoss:\t0.14690\n",
      "\tMAE:\t9880.17367\n",
      "\n",
      "\n",
      "\n",
      "Validation:\n"
     ]
    },
    {
     "data": {
      "application/vnd.jupyter.widget-view+json": {
       "model_id": "b06a5488cfa747868c1cca31cfd507f1",
       "version_major": 2,
       "version_minor": 0
      },
      "text/plain": [
       "A Jupyter Widget"
      ]
     },
     "metadata": {},
     "output_type": "display_data"
    },
    {
     "name": "stdout",
     "output_type": "stream",
     "text": [
      "\n",
      "\tLoss:\t0.12305\n",
      "\tMAE:\t8879.49060\n",
      "\n",
      "\n",
      "\n",
      "Training:\n"
     ]
    },
    {
     "data": {
      "application/vnd.jupyter.widget-view+json": {
       "model_id": "df3ed7353c9a4135a10d4e7f8d1dc7f1",
       "version_major": 2,
       "version_minor": 0
      },
      "text/plain": [
       "A Jupyter Widget"
      ]
     },
     "metadata": {},
     "output_type": "display_data"
    },
    {
     "name": "stdout",
     "output_type": "stream",
     "text": [
      "\n",
      "\tLoss:\t0.12669\n",
      "\tMAE:\t9216.02381\n",
      "\n",
      "\n",
      "\n",
      "Validation:\n"
     ]
    },
    {
     "data": {
      "application/vnd.jupyter.widget-view+json": {
       "model_id": "da2d096640db410bbf60558a75a854d0",
       "version_major": 2,
       "version_minor": 0
      },
      "text/plain": [
       "A Jupyter Widget"
      ]
     },
     "metadata": {},
     "output_type": "display_data"
    },
    {
     "name": "stdout",
     "output_type": "stream",
     "text": [
      "\n",
      "\tLoss:\t0.13131\n",
      "\tMAE:\t9036.54184\n",
      "\n",
      "\n",
      "\n",
      "Training:\n"
     ]
    },
    {
     "data": {
      "application/vnd.jupyter.widget-view+json": {
       "model_id": "d1085d4880da41c2836e6aa388bbbc2b",
       "version_major": 2,
       "version_minor": 0
      },
      "text/plain": [
       "A Jupyter Widget"
      ]
     },
     "metadata": {},
     "output_type": "display_data"
    },
    {
     "name": "stdout",
     "output_type": "stream",
     "text": [
      "\n",
      "\tLoss:\t0.11515\n",
      "\tMAE:\t8803.93208\n",
      "\n",
      "\n",
      "\n",
      "Validation:\n"
     ]
    },
    {
     "data": {
      "application/vnd.jupyter.widget-view+json": {
       "model_id": "2a6aec4954f74943862a283358e5dde9",
       "version_major": 2,
       "version_minor": 0
      },
      "text/plain": [
       "A Jupyter Widget"
      ]
     },
     "metadata": {},
     "output_type": "display_data"
    },
    {
     "name": "stdout",
     "output_type": "stream",
     "text": [
      "\n",
      "\tLoss:\t0.11764\n",
      "\tMAE:\t8830.21311\n",
      "\n",
      "\n",
      "\n",
      "Training:\n"
     ]
    },
    {
     "data": {
      "application/vnd.jupyter.widget-view+json": {
       "model_id": "3d28f799d865422f90528bca27d96706",
       "version_major": 2,
       "version_minor": 0
      },
      "text/plain": [
       "A Jupyter Widget"
      ]
     },
     "metadata": {},
     "output_type": "display_data"
    },
    {
     "name": "stdout",
     "output_type": "stream",
     "text": [
      "\n",
      "\tLoss:\t0.15525\n",
      "\tMAE:\t10430.86485\n",
      "\n",
      "\n",
      "\n",
      "Validation:\n"
     ]
    },
    {
     "data": {
      "application/vnd.jupyter.widget-view+json": {
       "model_id": "b610176911bf46ccb668032d6a0f1f91",
       "version_major": 2,
       "version_minor": 0
      },
      "text/plain": [
       "A Jupyter Widget"
      ]
     },
     "metadata": {},
     "output_type": "display_data"
    },
    {
     "name": "stdout",
     "output_type": "stream",
     "text": [
      "\n",
      "\tLoss:\t0.16437\n",
      "\tMAE:\t9920.61051\n",
      "\n",
      "\n",
      "\n",
      "Training:\n"
     ]
    },
    {
     "data": {
      "application/vnd.jupyter.widget-view+json": {
       "model_id": "8b8485f76e8845f2a84043ad566d6d06",
       "version_major": 2,
       "version_minor": 0
      },
      "text/plain": [
       "A Jupyter Widget"
      ]
     },
     "metadata": {},
     "output_type": "display_data"
    },
    {
     "name": "stdout",
     "output_type": "stream",
     "text": [
      "\n",
      "\tLoss:\t0.14374\n",
      "\tMAE:\t10280.60314\n",
      "\n",
      "\n",
      "\n",
      "Validation:\n"
     ]
    },
    {
     "data": {
      "application/vnd.jupyter.widget-view+json": {
       "model_id": "8a881bbed6ec49568a20989b0e32664b",
       "version_major": 2,
       "version_minor": 0
      },
      "text/plain": [
       "A Jupyter Widget"
      ]
     },
     "metadata": {},
     "output_type": "display_data"
    },
    {
     "name": "stdout",
     "output_type": "stream",
     "text": [
      "\n",
      "\tLoss:\t0.11869\n",
      "\tMAE:\t8659.85901\n",
      "\n",
      "\n",
      "\n",
      "Training:\n"
     ]
    },
    {
     "data": {
      "application/vnd.jupyter.widget-view+json": {
       "model_id": "a54088a73bec408494282aeffec63b59",
       "version_major": 2,
       "version_minor": 0
      },
      "text/plain": [
       "A Jupyter Widget"
      ]
     },
     "metadata": {},
     "output_type": "display_data"
    },
    {
     "name": "stdout",
     "output_type": "stream",
     "text": [
      "\n",
      "\tLoss:\t0.12751\n",
      "\tMAE:\t9391.82905\n",
      "\n",
      "\n",
      "\n",
      "Validation:\n"
     ]
    },
    {
     "data": {
      "application/vnd.jupyter.widget-view+json": {
       "model_id": "d264843ea32c4329b6c63712ff45327d",
       "version_major": 2,
       "version_minor": 0
      },
      "text/plain": [
       "A Jupyter Widget"
      ]
     },
     "metadata": {},
     "output_type": "display_data"
    },
    {
     "name": "stdout",
     "output_type": "stream",
     "text": [
      "\n",
      "\tLoss:\t0.13706\n",
      "\tMAE:\t10236.41803\n",
      "\n",
      "\n",
      "\n",
      "Training:\n"
     ]
    },
    {
     "data": {
      "application/vnd.jupyter.widget-view+json": {
       "model_id": "b73b1617a5b5467baa049cd4f2933403",
       "version_major": 2,
       "version_minor": 0
      },
      "text/plain": [
       "A Jupyter Widget"
      ]
     },
     "metadata": {},
     "output_type": "display_data"
    },
    {
     "name": "stdout",
     "output_type": "stream",
     "text": [
      "\n",
      "\tLoss:\t0.12135\n",
      "\tMAE:\t8844.67552\n",
      "\n",
      "\n",
      "\n",
      "Validation:\n"
     ]
    },
    {
     "data": {
      "application/vnd.jupyter.widget-view+json": {
       "model_id": "95350a2cb2be4d788a9eb7fb54457f3e",
       "version_major": 2,
       "version_minor": 0
      },
      "text/plain": [
       "A Jupyter Widget"
      ]
     },
     "metadata": {},
     "output_type": "display_data"
    },
    {
     "name": "stdout",
     "output_type": "stream",
     "text": [
      "\n",
      "\tLoss:\t0.11467\n",
      "\tMAE:\t8864.19049\n",
      "\n",
      "\n",
      "\n",
      "Training:\n"
     ]
    },
    {
     "data": {
      "application/vnd.jupyter.widget-view+json": {
       "model_id": "ac81328342b644679528b512a2cb6728",
       "version_major": 2,
       "version_minor": 0
      },
      "text/plain": [
       "A Jupyter Widget"
      ]
     },
     "metadata": {},
     "output_type": "display_data"
    },
    {
     "name": "stdout",
     "output_type": "stream",
     "text": [
      "\n",
      "\tLoss:\t0.11239\n",
      "\tMAE:\t8973.27014\n",
      "\n",
      "\n",
      "\n",
      "Validation:\n"
     ]
    },
    {
     "data": {
      "application/vnd.jupyter.widget-view+json": {
       "model_id": "96d2c245e1c44c82b4363d18b6af0c0b",
       "version_major": 2,
       "version_minor": 0
      },
      "text/plain": [
       "A Jupyter Widget"
      ]
     },
     "metadata": {},
     "output_type": "display_data"
    },
    {
     "name": "stdout",
     "output_type": "stream",
     "text": [
      "\n",
      "\tLoss:\t0.12499\n",
      "\tMAE:\t9661.33498\n",
      "\n",
      "\n",
      "\n",
      "Training:\n"
     ]
    },
    {
     "data": {
      "application/vnd.jupyter.widget-view+json": {
       "model_id": "ed3fee56efc54bb3b53feb1c8f999cd0",
       "version_major": 2,
       "version_minor": 0
      },
      "text/plain": [
       "A Jupyter Widget"
      ]
     },
     "metadata": {},
     "output_type": "display_data"
    },
    {
     "name": "stdout",
     "output_type": "stream",
     "text": [
      "\n",
      "\tLoss:\t0.14355\n",
      "\tMAE:\t9760.26279\n",
      "\n",
      "\n",
      "\n",
      "Validation:\n"
     ]
    },
    {
     "data": {
      "application/vnd.jupyter.widget-view+json": {
       "model_id": "d5127ac0f9d04f5185024f679a3d6533",
       "version_major": 2,
       "version_minor": 0
      },
      "text/plain": [
       "A Jupyter Widget"
      ]
     },
     "metadata": {},
     "output_type": "display_data"
    },
    {
     "name": "stdout",
     "output_type": "stream",
     "text": [
      "\n",
      "\tLoss:\t0.12109\n",
      "\tMAE:\t9247.31084\n",
      "\n",
      "\n",
      "\n",
      "Training:\n"
     ]
    },
    {
     "data": {
      "application/vnd.jupyter.widget-view+json": {
       "model_id": "d549c7d9d8ff41c389fb4f474bbc3ae3",
       "version_major": 2,
       "version_minor": 0
      },
      "text/plain": [
       "A Jupyter Widget"
      ]
     },
     "metadata": {},
     "output_type": "display_data"
    },
    {
     "name": "stdout",
     "output_type": "stream",
     "text": [
      "\n",
      "\tLoss:\t0.12840\n",
      "\tMAE:\t9456.16130\n",
      "\n",
      "\n",
      "\n",
      "Validation:\n"
     ]
    },
    {
     "data": {
      "application/vnd.jupyter.widget-view+json": {
       "model_id": "b403c3c03fd24d31a94f9f142c9cd9d4",
       "version_major": 2,
       "version_minor": 0
      },
      "text/plain": [
       "A Jupyter Widget"
      ]
     },
     "metadata": {},
     "output_type": "display_data"
    },
    {
     "name": "stdout",
     "output_type": "stream",
     "text": [
      "\n",
      "\tLoss:\t0.11827\n",
      "\tMAE:\t9141.22016\n",
      "\n",
      "\n",
      "\n",
      "Training:\n"
     ]
    },
    {
     "data": {
      "application/vnd.jupyter.widget-view+json": {
       "model_id": "aa63bdf3a22a488fbd3de4e39185493c",
       "version_major": 2,
       "version_minor": 0
      },
      "text/plain": [
       "A Jupyter Widget"
      ]
     },
     "metadata": {},
     "output_type": "display_data"
    },
    {
     "name": "stdout",
     "output_type": "stream",
     "text": [
      "\n",
      "\tLoss:\t0.11944\n",
      "\tMAE:\t9073.24559\n",
      "\n",
      "\n",
      "\n",
      "Validation:\n"
     ]
    },
    {
     "data": {
      "application/vnd.jupyter.widget-view+json": {
       "model_id": "1768e6545bb34355a505429b10612c0a",
       "version_major": 2,
       "version_minor": 0
      },
      "text/plain": [
       "A Jupyter Widget"
      ]
     },
     "metadata": {},
     "output_type": "display_data"
    },
    {
     "name": "stdout",
     "output_type": "stream",
     "text": [
      "\n",
      "\tLoss:\t0.12295\n",
      "\tMAE:\t9559.42164\n",
      "\n",
      "\n",
      "\n",
      "Training:\n"
     ]
    },
    {
     "data": {
      "application/vnd.jupyter.widget-view+json": {
       "model_id": "a8c9e4d14af041aab6bedac6d41df097",
       "version_major": 2,
       "version_minor": 0
      },
      "text/plain": [
       "A Jupyter Widget"
      ]
     },
     "metadata": {},
     "output_type": "display_data"
    },
    {
     "name": "stdout",
     "output_type": "stream",
     "text": [
      "\n",
      "\tLoss:\t0.11144\n",
      "\tMAE:\t8475.67231\n",
      "\n",
      "\n",
      "\n",
      "Validation:\n"
     ]
    },
    {
     "data": {
      "application/vnd.jupyter.widget-view+json": {
       "model_id": "1b340606af3347978035cfb8254acb7d",
       "version_major": 2,
       "version_minor": 0
      },
      "text/plain": [
       "A Jupyter Widget"
      ]
     },
     "metadata": {},
     "output_type": "display_data"
    },
    {
     "name": "stdout",
     "output_type": "stream",
     "text": [
      "\n",
      "\tLoss:\t0.12478\n",
      "\tMAE:\t8807.34936\n",
      "\n",
      "\n",
      "\n",
      "Training:\n"
     ]
    },
    {
     "data": {
      "application/vnd.jupyter.widget-view+json": {
       "model_id": "32ffbca888944fe387ca30d3962a45b7",
       "version_major": 2,
       "version_minor": 0
      },
      "text/plain": [
       "A Jupyter Widget"
      ]
     },
     "metadata": {},
     "output_type": "display_data"
    },
    {
     "name": "stdout",
     "output_type": "stream",
     "text": [
      "\n",
      "\tLoss:\t0.11187\n",
      "\tMAE:\t8590.04171\n",
      "\n",
      "\n",
      "\n",
      "Validation:\n"
     ]
    },
    {
     "data": {
      "application/vnd.jupyter.widget-view+json": {
       "model_id": "f8dc7525713545a2b20beefba53cd841",
       "version_major": 2,
       "version_minor": 0
      },
      "text/plain": [
       "A Jupyter Widget"
      ]
     },
     "metadata": {},
     "output_type": "display_data"
    },
    {
     "name": "stdout",
     "output_type": "stream",
     "text": [
      "\n",
      "\tLoss:\t0.10934\n",
      "\tMAE:\t8728.36133\n",
      "\n",
      "\n",
      "\n",
      "Training:\n"
     ]
    },
    {
     "data": {
      "application/vnd.jupyter.widget-view+json": {
       "model_id": "0c83782adda940d29605c54b75f4ff2c",
       "version_major": 2,
       "version_minor": 0
      },
      "text/plain": [
       "A Jupyter Widget"
      ]
     },
     "metadata": {},
     "output_type": "display_data"
    },
    {
     "name": "stdout",
     "output_type": "stream",
     "text": [
      "\n",
      "\tLoss:\t0.12332\n",
      "\tMAE:\t9112.07840\n",
      "\n",
      "\n",
      "\n",
      "Validation:\n"
     ]
    },
    {
     "data": {
      "application/vnd.jupyter.widget-view+json": {
       "model_id": "06b453eeafc84d6a900b3f21ea1586f3",
       "version_major": 2,
       "version_minor": 0
      },
      "text/plain": [
       "A Jupyter Widget"
      ]
     },
     "metadata": {},
     "output_type": "display_data"
    },
    {
     "name": "stdout",
     "output_type": "stream",
     "text": [
      "\n",
      "\tLoss:\t0.11445\n",
      "\tMAE:\t8945.84642\n",
      "\n",
      "\n",
      "\n",
      "Training:\n"
     ]
    },
    {
     "data": {
      "application/vnd.jupyter.widget-view+json": {
       "model_id": "904956722bc94197ae885710a14c2dc4",
       "version_major": 2,
       "version_minor": 0
      },
      "text/plain": [
       "A Jupyter Widget"
      ]
     },
     "metadata": {},
     "output_type": "display_data"
    },
    {
     "name": "stdout",
     "output_type": "stream",
     "text": [
      "\n",
      "\tLoss:\t0.10370\n",
      "\tMAE:\t8484.35171\n",
      "\n",
      "\n",
      "\n",
      "Validation:\n"
     ]
    },
    {
     "data": {
      "application/vnd.jupyter.widget-view+json": {
       "model_id": "4d73b15800a240e696cc53958ca0b578",
       "version_major": 2,
       "version_minor": 0
      },
      "text/plain": [
       "A Jupyter Widget"
      ]
     },
     "metadata": {},
     "output_type": "display_data"
    },
    {
     "name": "stdout",
     "output_type": "stream",
     "text": [
      "\n",
      "\tLoss:\t0.10463\n",
      "\tMAE:\t8402.70565\n",
      "\n",
      "\n",
      "\n",
      "Training:\n"
     ]
    },
    {
     "data": {
      "application/vnd.jupyter.widget-view+json": {
       "model_id": "87625b4f5ec445f6a2d055e0e38b62f6",
       "version_major": 2,
       "version_minor": 0
      },
      "text/plain": [
       "A Jupyter Widget"
      ]
     },
     "metadata": {},
     "output_type": "display_data"
    },
    {
     "name": "stdout",
     "output_type": "stream",
     "text": [
      "\n",
      "\tLoss:\t0.11539\n",
      "\tMAE:\t8899.59528\n",
      "\n",
      "\n",
      "\n",
      "Validation:\n"
     ]
    },
    {
     "data": {
      "application/vnd.jupyter.widget-view+json": {
       "model_id": "ca482cd782404b3c9984aa34c59371e5",
       "version_major": 2,
       "version_minor": 0
      },
      "text/plain": [
       "A Jupyter Widget"
      ]
     },
     "metadata": {},
     "output_type": "display_data"
    },
    {
     "name": "stdout",
     "output_type": "stream",
     "text": [
      "\n",
      "\tLoss:\t0.12364\n",
      "\tMAE:\t9833.83747\n",
      "\n",
      "\n",
      "\n",
      "Training:\n"
     ]
    },
    {
     "data": {
      "application/vnd.jupyter.widget-view+json": {
       "model_id": "d726a0f0d24b4043a76aade9e913e98d",
       "version_major": 2,
       "version_minor": 0
      },
      "text/plain": [
       "A Jupyter Widget"
      ]
     },
     "metadata": {},
     "output_type": "display_data"
    },
    {
     "name": "stdout",
     "output_type": "stream",
     "text": [
      "\n",
      "\tLoss:\t0.10749\n",
      "\tMAE:\t8389.99607\n",
      "\n",
      "\n",
      "\n",
      "Validation:\n"
     ]
    },
    {
     "data": {
      "application/vnd.jupyter.widget-view+json": {
       "model_id": "eca2a833e10849828166692991474bdf",
       "version_major": 2,
       "version_minor": 0
      },
      "text/plain": [
       "A Jupyter Widget"
      ]
     },
     "metadata": {},
     "output_type": "display_data"
    },
    {
     "name": "stdout",
     "output_type": "stream",
     "text": [
      "\n",
      "\tLoss:\t0.10400\n",
      "\tMAE:\t8284.59899\n",
      "\n",
      "\n",
      "\n",
      "Training:\n"
     ]
    },
    {
     "data": {
      "application/vnd.jupyter.widget-view+json": {
       "model_id": "49c5e5e58ad84d0cbe7fcd98ace9c046",
       "version_major": 2,
       "version_minor": 0
      },
      "text/plain": [
       "A Jupyter Widget"
      ]
     },
     "metadata": {},
     "output_type": "display_data"
    },
    {
     "name": "stdout",
     "output_type": "stream",
     "text": [
      "\n",
      "\tLoss:\t0.10525\n",
      "\tMAE:\t8491.86324\n",
      "\n",
      "\n",
      "\n",
      "Validation:\n"
     ]
    },
    {
     "data": {
      "application/vnd.jupyter.widget-view+json": {
       "model_id": "fdf8306e31b34e72b9f199565ea7639d",
       "version_major": 2,
       "version_minor": 0
      },
      "text/plain": [
       "A Jupyter Widget"
      ]
     },
     "metadata": {},
     "output_type": "display_data"
    },
    {
     "name": "stdout",
     "output_type": "stream",
     "text": [
      "\n",
      "\tLoss:\t0.11195\n",
      "\tMAE:\t8899.34052\n",
      "\n",
      "\n",
      "\n",
      "Training:\n"
     ]
    },
    {
     "data": {
      "application/vnd.jupyter.widget-view+json": {
       "model_id": "b7af365185ae456597ffd6bb517c8ad0",
       "version_major": 2,
       "version_minor": 0
      },
      "text/plain": [
       "A Jupyter Widget"
      ]
     },
     "metadata": {},
     "output_type": "display_data"
    },
    {
     "name": "stdout",
     "output_type": "stream",
     "text": [
      "\n",
      "\tLoss:\t0.10377\n",
      "\tMAE:\t8151.58870\n",
      "\n",
      "\n",
      "\n",
      "Validation:\n"
     ]
    },
    {
     "data": {
      "application/vnd.jupyter.widget-view+json": {
       "model_id": "69bc1ee02b9f48238f97d813565ac9ee",
       "version_major": 2,
       "version_minor": 0
      },
      "text/plain": [
       "A Jupyter Widget"
      ]
     },
     "metadata": {},
     "output_type": "display_data"
    },
    {
     "name": "stdout",
     "output_type": "stream",
     "text": [
      "\n",
      "\tLoss:\t0.10084\n",
      "\tMAE:\t8148.74309\n",
      "\n",
      "\n",
      "\n",
      "Training:\n"
     ]
    },
    {
     "data": {
      "application/vnd.jupyter.widget-view+json": {
       "model_id": "a66dbc7021974f1fa8038176bcf94d17",
       "version_major": 2,
       "version_minor": 0
      },
      "text/plain": [
       "A Jupyter Widget"
      ]
     },
     "metadata": {},
     "output_type": "display_data"
    },
    {
     "name": "stdout",
     "output_type": "stream",
     "text": [
      "\n",
      "\tLoss:\t0.10440\n",
      "\tMAE:\t8436.10218\n",
      "\n",
      "\n",
      "\n",
      "Validation:\n"
     ]
    },
    {
     "data": {
      "application/vnd.jupyter.widget-view+json": {
       "model_id": "a4858d631cbb462c9e2ac3e725bbe109",
       "version_major": 2,
       "version_minor": 0
      },
      "text/plain": [
       "A Jupyter Widget"
      ]
     },
     "metadata": {},
     "output_type": "display_data"
    },
    {
     "name": "stdout",
     "output_type": "stream",
     "text": [
      "\n",
      "\tLoss:\t0.10530\n",
      "\tMAE:\t8595.29184\n",
      "\n",
      "\n",
      "\n",
      "Training:\n"
     ]
    },
    {
     "data": {
      "application/vnd.jupyter.widget-view+json": {
       "model_id": "094dace942684c32a4a32ca02ee9b09b",
       "version_major": 2,
       "version_minor": 0
      },
      "text/plain": [
       "A Jupyter Widget"
      ]
     },
     "metadata": {},
     "output_type": "display_data"
    },
    {
     "name": "stdout",
     "output_type": "stream",
     "text": [
      "\n",
      "\tLoss:\t0.11040\n",
      "\tMAE:\t8679.34446\n",
      "\n",
      "\n",
      "\n",
      "Validation:\n"
     ]
    },
    {
     "data": {
      "application/vnd.jupyter.widget-view+json": {
       "model_id": "bc4a006f1b344df2962899747e698cd3",
       "version_major": 2,
       "version_minor": 0
      },
      "text/plain": [
       "A Jupyter Widget"
      ]
     },
     "metadata": {},
     "output_type": "display_data"
    },
    {
     "name": "stdout",
     "output_type": "stream",
     "text": [
      "\n",
      "\tLoss:\t0.13602\n",
      "\tMAE:\t10304.29076\n",
      "\n",
      "\n",
      "\n",
      "Training:\n"
     ]
    },
    {
     "data": {
      "application/vnd.jupyter.widget-view+json": {
       "model_id": "f7e95c0196f74e1baad2fa040057b1d6",
       "version_major": 2,
       "version_minor": 0
      },
      "text/plain": [
       "A Jupyter Widget"
      ]
     },
     "metadata": {},
     "output_type": "display_data"
    },
    {
     "name": "stdout",
     "output_type": "stream",
     "text": [
      "\n",
      "\tLoss:\t0.11781\n",
      "\tMAE:\t8991.17251\n",
      "\n",
      "\n",
      "\n",
      "Validation:\n"
     ]
    },
    {
     "data": {
      "application/vnd.jupyter.widget-view+json": {
       "model_id": "894b7b01bb8f4446aed06f66ffc6b28a",
       "version_major": 2,
       "version_minor": 0
      },
      "text/plain": [
       "A Jupyter Widget"
      ]
     },
     "metadata": {},
     "output_type": "display_data"
    },
    {
     "name": "stdout",
     "output_type": "stream",
     "text": [
      "\n",
      "\tLoss:\t0.11659\n",
      "\tMAE:\t9292.91296\n",
      "\n",
      "\n",
      "\n",
      "Training:\n"
     ]
    },
    {
     "data": {
      "application/vnd.jupyter.widget-view+json": {
       "model_id": "db9fa2b945f845e8bbb4490d6674e372",
       "version_major": 2,
       "version_minor": 0
      },
      "text/plain": [
       "A Jupyter Widget"
      ]
     },
     "metadata": {},
     "output_type": "display_data"
    },
    {
     "name": "stdout",
     "output_type": "stream",
     "text": [
      "\n",
      "\tLoss:\t0.11455\n",
      "\tMAE:\t8824.89041\n",
      "\n",
      "\n",
      "\n",
      "Validation:\n"
     ]
    },
    {
     "data": {
      "application/vnd.jupyter.widget-view+json": {
       "model_id": "749eafd12cda4d4586e92cbf587c9b1f",
       "version_major": 2,
       "version_minor": 0
      },
      "text/plain": [
       "A Jupyter Widget"
      ]
     },
     "metadata": {},
     "output_type": "display_data"
    },
    {
     "name": "stdout",
     "output_type": "stream",
     "text": [
      "\n",
      "\tLoss:\t0.13826\n",
      "\tMAE:\t9301.73833\n",
      "\n",
      "\n",
      "\n",
      "Training:\n"
     ]
    },
    {
     "data": {
      "application/vnd.jupyter.widget-view+json": {
       "model_id": "6cbed6c66cfd465d96fcca1aa4925c98",
       "version_major": 2,
       "version_minor": 0
      },
      "text/plain": [
       "A Jupyter Widget"
      ]
     },
     "metadata": {},
     "output_type": "display_data"
    },
    {
     "name": "stdout",
     "output_type": "stream",
     "text": [
      "\n",
      "\tLoss:\t0.11397\n",
      "\tMAE:\t8823.28582\n",
      "\n",
      "\n",
      "\n",
      "Validation:\n"
     ]
    },
    {
     "data": {
      "application/vnd.jupyter.widget-view+json": {
       "model_id": "82ad6e5bc56041e891331af775b982f5",
       "version_major": 2,
       "version_minor": 0
      },
      "text/plain": [
       "A Jupyter Widget"
      ]
     },
     "metadata": {},
     "output_type": "display_data"
    },
    {
     "name": "stdout",
     "output_type": "stream",
     "text": [
      "\n",
      "\tLoss:\t0.10306\n",
      "\tMAE:\t8457.37921\n",
      "\n",
      "\n",
      "\n",
      "Training:\n"
     ]
    },
    {
     "data": {
      "application/vnd.jupyter.widget-view+json": {
       "model_id": "3173868816a748a39928ceea5be5a378",
       "version_major": 2,
       "version_minor": 0
      },
      "text/plain": [
       "A Jupyter Widget"
      ]
     },
     "metadata": {},
     "output_type": "display_data"
    },
    {
     "name": "stdout",
     "output_type": "stream",
     "text": [
      "\n",
      "\tLoss:\t0.10533\n",
      "\tMAE:\t8348.96593\n",
      "\n",
      "\n",
      "\n",
      "Validation:\n"
     ]
    },
    {
     "data": {
      "application/vnd.jupyter.widget-view+json": {
       "model_id": "9e6b53f8808946cb9698916531964563",
       "version_major": 2,
       "version_minor": 0
      },
      "text/plain": [
       "A Jupyter Widget"
      ]
     },
     "metadata": {},
     "output_type": "display_data"
    },
    {
     "name": "stdout",
     "output_type": "stream",
     "text": [
      "\n",
      "\tLoss:\t0.12975\n",
      "\tMAE:\t10272.73088\n",
      "\n",
      "\n",
      "\n",
      "Training:\n"
     ]
    },
    {
     "data": {
      "application/vnd.jupyter.widget-view+json": {
       "model_id": "f0faec9b91974644a53a58b24aedfdfa",
       "version_major": 2,
       "version_minor": 0
      },
      "text/plain": [
       "A Jupyter Widget"
      ]
     },
     "metadata": {},
     "output_type": "display_data"
    },
    {
     "name": "stdout",
     "output_type": "stream",
     "text": [
      "\n",
      "\tLoss:\t0.10702\n",
      "\tMAE:\t8365.90531\n",
      "\n",
      "\n",
      "\n",
      "Validation:\n"
     ]
    },
    {
     "data": {
      "application/vnd.jupyter.widget-view+json": {
       "model_id": "13568aabbd82427ebd83299c6d98fcbe",
       "version_major": 2,
       "version_minor": 0
      },
      "text/plain": [
       "A Jupyter Widget"
      ]
     },
     "metadata": {},
     "output_type": "display_data"
    },
    {
     "name": "stdout",
     "output_type": "stream",
     "text": [
      "\n",
      "\tLoss:\t0.10097\n",
      "\tMAE:\t8017.01590\n",
      "\n",
      "\n",
      "\n",
      "Training:\n"
     ]
    },
    {
     "data": {
      "application/vnd.jupyter.widget-view+json": {
       "model_id": "e9323062272241e98889403ddee04ef3",
       "version_major": 2,
       "version_minor": 0
      },
      "text/plain": [
       "A Jupyter Widget"
      ]
     },
     "metadata": {},
     "output_type": "display_data"
    },
    {
     "name": "stdout",
     "output_type": "stream",
     "text": [
      "\n",
      "\tLoss:\t0.11285\n",
      "\tMAE:\t8928.71280\n",
      "\n",
      "\n",
      "\n",
      "Validation:\n"
     ]
    },
    {
     "data": {
      "application/vnd.jupyter.widget-view+json": {
       "model_id": "89586951394f40048c333fa65dfd6277",
       "version_major": 2,
       "version_minor": 0
      },
      "text/plain": [
       "A Jupyter Widget"
      ]
     },
     "metadata": {},
     "output_type": "display_data"
    },
    {
     "name": "stdout",
     "output_type": "stream",
     "text": [
      "\n",
      "\tLoss:\t0.11471\n",
      "\tMAE:\t9281.91550\n",
      "\n",
      "\n",
      "\n",
      "Training:\n"
     ]
    },
    {
     "data": {
      "application/vnd.jupyter.widget-view+json": {
       "model_id": "010740df261f484faa8236fe52d6b525",
       "version_major": 2,
       "version_minor": 0
      },
      "text/plain": [
       "A Jupyter Widget"
      ]
     },
     "metadata": {},
     "output_type": "display_data"
    },
    {
     "name": "stdout",
     "output_type": "stream",
     "text": [
      "\n",
      "\tLoss:\t0.10288\n",
      "\tMAE:\t8748.62237\n",
      "\n",
      "\n",
      "\n",
      "Validation:\n"
     ]
    },
    {
     "data": {
      "application/vnd.jupyter.widget-view+json": {
       "model_id": "09452500501643e2ac51cd7354ffaa6a",
       "version_major": 2,
       "version_minor": 0
      },
      "text/plain": [
       "A Jupyter Widget"
      ]
     },
     "metadata": {},
     "output_type": "display_data"
    },
    {
     "name": "stdout",
     "output_type": "stream",
     "text": [
      "\n",
      "\tLoss:\t0.13083\n",
      "\tMAE:\t8909.27527\n",
      "\n",
      "\n",
      "\n",
      "Training:\n"
     ]
    },
    {
     "data": {
      "application/vnd.jupyter.widget-view+json": {
       "model_id": "308d3b8bcded42e49ad99dbe7cd5085a",
       "version_major": 2,
       "version_minor": 0
      },
      "text/plain": [
       "A Jupyter Widget"
      ]
     },
     "metadata": {},
     "output_type": "display_data"
    },
    {
     "name": "stdout",
     "output_type": "stream",
     "text": [
      "\n",
      "\tLoss:\t0.10786\n",
      "\tMAE:\t8733.33291\n",
      "\n",
      "\n",
      "\n",
      "Validation:\n"
     ]
    },
    {
     "data": {
      "application/vnd.jupyter.widget-view+json": {
       "model_id": "e77358f40e7f43b5946d6d9d082de6cf",
       "version_major": 2,
       "version_minor": 0
      },
      "text/plain": [
       "A Jupyter Widget"
      ]
     },
     "metadata": {},
     "output_type": "display_data"
    },
    {
     "name": "stdout",
     "output_type": "stream",
     "text": [
      "\n",
      "\tLoss:\t0.11374\n",
      "\tMAE:\t8514.11181\n",
      "\n",
      "\n",
      "\n",
      "Training:\n"
     ]
    },
    {
     "data": {
      "application/vnd.jupyter.widget-view+json": {
       "model_id": "2902f458f4ae4ecd9f1a9e670673c2d4",
       "version_major": 2,
       "version_minor": 0
      },
      "text/plain": [
       "A Jupyter Widget"
      ]
     },
     "metadata": {},
     "output_type": "display_data"
    },
    {
     "name": "stdout",
     "output_type": "stream",
     "text": [
      "\n",
      "\tLoss:\t0.10810\n",
      "\tMAE:\t8585.09967\n",
      "\n",
      "\n",
      "\n",
      "Validation:\n"
     ]
    },
    {
     "data": {
      "application/vnd.jupyter.widget-view+json": {
       "model_id": "a19e7a8017bd406fad06eabd79ce8ef3",
       "version_major": 2,
       "version_minor": 0
      },
      "text/plain": [
       "A Jupyter Widget"
      ]
     },
     "metadata": {},
     "output_type": "display_data"
    },
    {
     "name": "stdout",
     "output_type": "stream",
     "text": [
      "\n",
      "\tLoss:\t0.12458\n",
      "\tMAE:\t9816.61647\n",
      "\n",
      "\n",
      "\n",
      "Training:\n"
     ]
    },
    {
     "data": {
      "application/vnd.jupyter.widget-view+json": {
       "model_id": "6cce58444a4540bf84e2128e7f873339",
       "version_major": 2,
       "version_minor": 0
      },
      "text/plain": [
       "A Jupyter Widget"
      ]
     },
     "metadata": {},
     "output_type": "display_data"
    },
    {
     "name": "stdout",
     "output_type": "stream",
     "text": [
      "\n",
      "\tLoss:\t0.11048\n",
      "\tMAE:\t8708.68886\n",
      "\n",
      "\n",
      "\n",
      "Validation:\n"
     ]
    },
    {
     "data": {
      "application/vnd.jupyter.widget-view+json": {
       "model_id": "29a786de7e5d4d7287ad05ea1e0c14fa",
       "version_major": 2,
       "version_minor": 0
      },
      "text/plain": [
       "A Jupyter Widget"
      ]
     },
     "metadata": {},
     "output_type": "display_data"
    },
    {
     "name": "stdout",
     "output_type": "stream",
     "text": [
      "\n",
      "\tLoss:\t0.11677\n",
      "\tMAE:\t9540.10831\n",
      "\n",
      "\n",
      "\n",
      "Training:\n"
     ]
    },
    {
     "data": {
      "application/vnd.jupyter.widget-view+json": {
       "model_id": "44911c23f55942dcb1522914ce367a29",
       "version_major": 2,
       "version_minor": 0
      },
      "text/plain": [
       "A Jupyter Widget"
      ]
     },
     "metadata": {},
     "output_type": "display_data"
    },
    {
     "name": "stdout",
     "output_type": "stream",
     "text": [
      "\n",
      "\tLoss:\t0.09856\n",
      "\tMAE:\t8072.81511\n",
      "\n",
      "\n",
      "\n",
      "Validation:\n"
     ]
    },
    {
     "data": {
      "application/vnd.jupyter.widget-view+json": {
       "model_id": "333e9302ca4a463c9c8d67ff0c810912",
       "version_major": 2,
       "version_minor": 0
      },
      "text/plain": [
       "A Jupyter Widget"
      ]
     },
     "metadata": {},
     "output_type": "display_data"
    },
    {
     "name": "stdout",
     "output_type": "stream",
     "text": [
      "\n",
      "\tLoss:\t0.11872\n",
      "\tMAE:\t8703.46524\n",
      "\n",
      "\n",
      "\n",
      "Training:\n"
     ]
    },
    {
     "data": {
      "application/vnd.jupyter.widget-view+json": {
       "model_id": "3c95302a4a774cfda60fb2131f4fb00c",
       "version_major": 2,
       "version_minor": 0
      },
      "text/plain": [
       "A Jupyter Widget"
      ]
     },
     "metadata": {},
     "output_type": "display_data"
    },
    {
     "name": "stdout",
     "output_type": "stream",
     "text": [
      "\n",
      "\tLoss:\t0.09685\n",
      "\tMAE:\t8175.59022\n",
      "\n",
      "\n",
      "\n",
      "Validation:\n"
     ]
    },
    {
     "data": {
      "application/vnd.jupyter.widget-view+json": {
       "model_id": "3b60867d75c84d5a8e83d4c1878524be",
       "version_major": 2,
       "version_minor": 0
      },
      "text/plain": [
       "A Jupyter Widget"
      ]
     },
     "metadata": {},
     "output_type": "display_data"
    },
    {
     "name": "stdout",
     "output_type": "stream",
     "text": [
      "\n",
      "\tLoss:\t0.10898\n",
      "\tMAE:\t9090.44585\n",
      "\n",
      "\n",
      "\n",
      "Training:\n"
     ]
    },
    {
     "data": {
      "application/vnd.jupyter.widget-view+json": {
       "model_id": "cb6d89816bc746d38b04ff1dddece40f",
       "version_major": 2,
       "version_minor": 0
      },
      "text/plain": [
       "A Jupyter Widget"
      ]
     },
     "metadata": {},
     "output_type": "display_data"
    },
    {
     "name": "stdout",
     "output_type": "stream",
     "text": [
      "\n",
      "\tLoss:\t0.09966\n",
      "\tMAE:\t8146.67797\n",
      "\n",
      "\n",
      "\n",
      "Validation:\n"
     ]
    },
    {
     "data": {
      "application/vnd.jupyter.widget-view+json": {
       "model_id": "2e128f32c00b4782a06021d7d84533ff",
       "version_major": 2,
       "version_minor": 0
      },
      "text/plain": [
       "A Jupyter Widget"
      ]
     },
     "metadata": {},
     "output_type": "display_data"
    },
    {
     "name": "stdout",
     "output_type": "stream",
     "text": [
      "\n",
      "\tLoss:\t0.14366\n",
      "\tMAE:\t11027.61157\n",
      "\n",
      "\n",
      "\n",
      "Training:\n"
     ]
    },
    {
     "data": {
      "application/vnd.jupyter.widget-view+json": {
       "model_id": "f7d8041f75fe4141aa79f206eea09a76",
       "version_major": 2,
       "version_minor": 0
      },
      "text/plain": [
       "A Jupyter Widget"
      ]
     },
     "metadata": {},
     "output_type": "display_data"
    },
    {
     "name": "stdout",
     "output_type": "stream",
     "text": [
      "\n",
      "\tLoss:\t0.09454\n",
      "\tMAE:\t8030.78565\n",
      "\n",
      "\n",
      "\n",
      "Validation:\n"
     ]
    },
    {
     "data": {
      "application/vnd.jupyter.widget-view+json": {
       "model_id": "c5cc41802a8844feba6d2b0417ca13fd",
       "version_major": 2,
       "version_minor": 0
      },
      "text/plain": [
       "A Jupyter Widget"
      ]
     },
     "metadata": {},
     "output_type": "display_data"
    },
    {
     "name": "stdout",
     "output_type": "stream",
     "text": [
      "\n",
      "\tLoss:\t0.11108\n",
      "\tMAE:\t9097.84021\n",
      "\n",
      "\n",
      "\n",
      "Training:\n"
     ]
    },
    {
     "data": {
      "application/vnd.jupyter.widget-view+json": {
       "model_id": "8df11408cca74edbb51bde7fcd278df7",
       "version_major": 2,
       "version_minor": 0
      },
      "text/plain": [
       "A Jupyter Widget"
      ]
     },
     "metadata": {},
     "output_type": "display_data"
    },
    {
     "name": "stdout",
     "output_type": "stream",
     "text": [
      "\n",
      "\tLoss:\t0.09944\n",
      "\tMAE:\t8254.91341\n",
      "\n",
      "\n",
      "\n",
      "Validation:\n"
     ]
    },
    {
     "data": {
      "application/vnd.jupyter.widget-view+json": {
       "model_id": "60f931703cfa482b87bd42da443ac3f8",
       "version_major": 2,
       "version_minor": 0
      },
      "text/plain": [
       "A Jupyter Widget"
      ]
     },
     "metadata": {},
     "output_type": "display_data"
    },
    {
     "name": "stdout",
     "output_type": "stream",
     "text": [
      "\n",
      "\tLoss:\t0.14106\n",
      "\tMAE:\t10777.10203\n",
      "\n",
      "\n",
      "\n",
      "Training:\n"
     ]
    },
    {
     "data": {
      "application/vnd.jupyter.widget-view+json": {
       "model_id": "95f4c5fbaee5421c827fb62f1703e6e5",
       "version_major": 2,
       "version_minor": 0
      },
      "text/plain": [
       "A Jupyter Widget"
      ]
     },
     "metadata": {},
     "output_type": "display_data"
    },
    {
     "name": "stdout",
     "output_type": "stream",
     "text": [
      "\n",
      "\tLoss:\t0.10131\n",
      "\tMAE:\t8274.24559\n",
      "\n",
      "\n",
      "\n",
      "Validation:\n"
     ]
    },
    {
     "data": {
      "application/vnd.jupyter.widget-view+json": {
       "model_id": "d5988cb8aabe4d1cbe0d9097870057e6",
       "version_major": 2,
       "version_minor": 0
      },
      "text/plain": [
       "A Jupyter Widget"
      ]
     },
     "metadata": {},
     "output_type": "display_data"
    },
    {
     "name": "stdout",
     "output_type": "stream",
     "text": [
      "\n",
      "\tLoss:\t0.11194\n",
      "\tMAE:\t8455.52466\n",
      "\n",
      "\n",
      "\n",
      "Training:\n"
     ]
    },
    {
     "data": {
      "application/vnd.jupyter.widget-view+json": {
       "model_id": "f34f77e999f34d96ba41a6c75aefa906",
       "version_major": 2,
       "version_minor": 0
      },
      "text/plain": [
       "A Jupyter Widget"
      ]
     },
     "metadata": {},
     "output_type": "display_data"
    },
    {
     "name": "stdout",
     "output_type": "stream",
     "text": [
      "\n",
      "\tLoss:\t0.09789\n",
      "\tMAE:\t8314.73218\n",
      "\n",
      "\n",
      "\n",
      "Validation:\n"
     ]
    },
    {
     "data": {
      "application/vnd.jupyter.widget-view+json": {
       "model_id": "288a8121c1404e55a780474e66cd1267",
       "version_major": 2,
       "version_minor": 0
      },
      "text/plain": [
       "A Jupyter Widget"
      ]
     },
     "metadata": {},
     "output_type": "display_data"
    },
    {
     "name": "stdout",
     "output_type": "stream",
     "text": [
      "\n",
      "\tLoss:\t0.09245\n",
      "\tMAE:\t7885.23295\n",
      "\n",
      "\n",
      "\n",
      "Training:\n"
     ]
    },
    {
     "data": {
      "application/vnd.jupyter.widget-view+json": {
       "model_id": "499edde3f2d946408f2ba0d28289d6ea",
       "version_major": 2,
       "version_minor": 0
      },
      "text/plain": [
       "A Jupyter Widget"
      ]
     },
     "metadata": {},
     "output_type": "display_data"
    },
    {
     "name": "stdout",
     "output_type": "stream",
     "text": [
      "\n",
      "\tLoss:\t0.10001\n",
      "\tMAE:\t8145.92016\n",
      "\n",
      "\n",
      "\n",
      "Validation:\n"
     ]
    },
    {
     "data": {
      "application/vnd.jupyter.widget-view+json": {
       "model_id": "c2b57d2772714e2ea1694a1e13be435d",
       "version_major": 2,
       "version_minor": 0
      },
      "text/plain": [
       "A Jupyter Widget"
      ]
     },
     "metadata": {},
     "output_type": "display_data"
    },
    {
     "name": "stdout",
     "output_type": "stream",
     "text": [
      "\n",
      "\tLoss:\t0.09572\n",
      "\tMAE:\t8160.98583\n",
      "\n",
      "\n",
      "\n",
      "Training:\n"
     ]
    },
    {
     "data": {
      "application/vnd.jupyter.widget-view+json": {
       "model_id": "bb0853bf96c84cd084b12c51a81bf10d",
       "version_major": 2,
       "version_minor": 0
      },
      "text/plain": [
       "A Jupyter Widget"
      ]
     },
     "metadata": {},
     "output_type": "display_data"
    },
    {
     "name": "stdout",
     "output_type": "stream",
     "text": [
      "\n",
      "\tLoss:\t0.09127\n",
      "\tMAE:\t7743.46061\n",
      "\n",
      "\n",
      "\n",
      "Validation:\n"
     ]
    },
    {
     "data": {
      "application/vnd.jupyter.widget-view+json": {
       "model_id": "87520534a5eb4146a90a4bd0d2aa43de",
       "version_major": 2,
       "version_minor": 0
      },
      "text/plain": [
       "A Jupyter Widget"
      ]
     },
     "metadata": {},
     "output_type": "display_data"
    },
    {
     "name": "stdout",
     "output_type": "stream",
     "text": [
      "\n",
      "\tLoss:\t0.13185\n",
      "\tMAE:\t10405.67084\n",
      "\n",
      "\n",
      "\n",
      "Training:\n"
     ]
    },
    {
     "data": {
      "application/vnd.jupyter.widget-view+json": {
       "model_id": "4a1e958c2a7a424e811d4f7657f89341",
       "version_major": 2,
       "version_minor": 0
      },
      "text/plain": [
       "A Jupyter Widget"
      ]
     },
     "metadata": {},
     "output_type": "display_data"
    },
    {
     "name": "stdout",
     "output_type": "stream",
     "text": [
      "\n",
      "\tLoss:\t0.09950\n",
      "\tMAE:\t8347.92799\n",
      "\n",
      "\n",
      "\n",
      "Validation:\n"
     ]
    },
    {
     "data": {
      "application/vnd.jupyter.widget-view+json": {
       "model_id": "6ce7cc8b10544bd3a656c13ba7132ec1",
       "version_major": 2,
       "version_minor": 0
      },
      "text/plain": [
       "A Jupyter Widget"
      ]
     },
     "metadata": {},
     "output_type": "display_data"
    },
    {
     "name": "stdout",
     "output_type": "stream",
     "text": [
      "\n",
      "\tLoss:\t0.09484\n",
      "\tMAE:\t8169.17224\n",
      "\n",
      "\n",
      "\n",
      "Training:\n"
     ]
    },
    {
     "data": {
      "application/vnd.jupyter.widget-view+json": {
       "model_id": "d1fb306a1dd4473980e3922de7e4de18",
       "version_major": 2,
       "version_minor": 0
      },
      "text/plain": [
       "A Jupyter Widget"
      ]
     },
     "metadata": {},
     "output_type": "display_data"
    },
    {
     "name": "stdout",
     "output_type": "stream",
     "text": [
      "\n",
      "\tLoss:\t0.08941\n",
      "\tMAE:\t8047.50102\n",
      "\n",
      "\n",
      "\n",
      "Validation:\n"
     ]
    },
    {
     "data": {
      "application/vnd.jupyter.widget-view+json": {
       "model_id": "2bef1f4dbbea4c689d1ff8e30e3f10b9",
       "version_major": 2,
       "version_minor": 0
      },
      "text/plain": [
       "A Jupyter Widget"
      ]
     },
     "metadata": {},
     "output_type": "display_data"
    },
    {
     "name": "stdout",
     "output_type": "stream",
     "text": [
      "\n",
      "\tLoss:\t0.09099\n",
      "\tMAE:\t7820.43900\n",
      "\n",
      "\n",
      "\n",
      "Training:\n"
     ]
    },
    {
     "data": {
      "application/vnd.jupyter.widget-view+json": {
       "model_id": "755d73fd99b849efa326a14c6853e910",
       "version_major": 2,
       "version_minor": 0
      },
      "text/plain": [
       "A Jupyter Widget"
      ]
     },
     "metadata": {},
     "output_type": "display_data"
    },
    {
     "name": "stdout",
     "output_type": "stream",
     "text": [
      "\n",
      "\tLoss:\t0.10736\n",
      "\tMAE:\t8474.35007\n",
      "\n",
      "\n",
      "\n",
      "Validation:\n"
     ]
    },
    {
     "data": {
      "application/vnd.jupyter.widget-view+json": {
       "model_id": "1f78a8170d4a4d0b90c1b0df78d31e8c",
       "version_major": 2,
       "version_minor": 0
      },
      "text/plain": [
       "A Jupyter Widget"
      ]
     },
     "metadata": {},
     "output_type": "display_data"
    },
    {
     "name": "stdout",
     "output_type": "stream",
     "text": [
      "\n",
      "\tLoss:\t0.10135\n",
      "\tMAE:\t8056.08923\n",
      "\n",
      "\n",
      "\n",
      "Training:\n"
     ]
    },
    {
     "data": {
      "application/vnd.jupyter.widget-view+json": {
       "model_id": "afc66e7137d941578afba8883f53a05e",
       "version_major": 2,
       "version_minor": 0
      },
      "text/plain": [
       "A Jupyter Widget"
      ]
     },
     "metadata": {},
     "output_type": "display_data"
    },
    {
     "name": "stdout",
     "output_type": "stream",
     "text": [
      "\n",
      "\tLoss:\t0.09065\n",
      "\tMAE:\t7942.91083\n",
      "\n",
      "\n",
      "\n",
      "Validation:\n"
     ]
    },
    {
     "data": {
      "application/vnd.jupyter.widget-view+json": {
       "model_id": "ab2f2417e04d4c8f8f35e61eda1ad81b",
       "version_major": 2,
       "version_minor": 0
      },
      "text/plain": [
       "A Jupyter Widget"
      ]
     },
     "metadata": {},
     "output_type": "display_data"
    },
    {
     "name": "stdout",
     "output_type": "stream",
     "text": [
      "\n",
      "\tLoss:\t0.09143\n",
      "\tMAE:\t7892.08585\n",
      "\n",
      "\n",
      "\n",
      "Training:\n"
     ]
    },
    {
     "data": {
      "application/vnd.jupyter.widget-view+json": {
       "model_id": "b142b448a21d467e84f409250c733ec8",
       "version_major": 2,
       "version_minor": 0
      },
      "text/plain": [
       "A Jupyter Widget"
      ]
     },
     "metadata": {},
     "output_type": "display_data"
    },
    {
     "name": "stdout",
     "output_type": "stream",
     "text": [
      "\n",
      "\tLoss:\t0.09010\n",
      "\tMAE:\t8026.64821\n",
      "\n",
      "\n",
      "\n",
      "Validation:\n"
     ]
    },
    {
     "data": {
      "application/vnd.jupyter.widget-view+json": {
       "model_id": "684cdc4171ed49448070a51861a633a7",
       "version_major": 2,
       "version_minor": 0
      },
      "text/plain": [
       "A Jupyter Widget"
      ]
     },
     "metadata": {},
     "output_type": "display_data"
    },
    {
     "name": "stdout",
     "output_type": "stream",
     "text": [
      "\n",
      "\tLoss:\t0.10462\n",
      "\tMAE:\t8792.87579\n",
      "\n",
      "\n",
      "\n",
      "Training:\n"
     ]
    },
    {
     "data": {
      "application/vnd.jupyter.widget-view+json": {
       "model_id": "abb4ba836d864253bec526b67e9ff8cf",
       "version_major": 2,
       "version_minor": 0
      },
      "text/plain": [
       "A Jupyter Widget"
      ]
     },
     "metadata": {},
     "output_type": "display_data"
    },
    {
     "name": "stdout",
     "output_type": "stream",
     "text": [
      "\n",
      "\tLoss:\t0.10197\n",
      "\tMAE:\t8381.82453\n",
      "\n",
      "\n",
      "\n",
      "Validation:\n"
     ]
    },
    {
     "data": {
      "application/vnd.jupyter.widget-view+json": {
       "model_id": "80243d7833884b6085c0c5a550308004",
       "version_major": 2,
       "version_minor": 0
      },
      "text/plain": [
       "A Jupyter Widget"
      ]
     },
     "metadata": {},
     "output_type": "display_data"
    },
    {
     "name": "stdout",
     "output_type": "stream",
     "text": [
      "\n",
      "\tLoss:\t0.12562\n",
      "\tMAE:\t10132.29104\n",
      "\n",
      "\n",
      "\n",
      "Training:\n"
     ]
    },
    {
     "data": {
      "application/vnd.jupyter.widget-view+json": {
       "model_id": "aacfdf536d7048809ccc7884b038c8fc",
       "version_major": 2,
       "version_minor": 0
      },
      "text/plain": [
       "A Jupyter Widget"
      ]
     },
     "metadata": {},
     "output_type": "display_data"
    },
    {
     "name": "stdout",
     "output_type": "stream",
     "text": [
      "\n",
      "\tLoss:\t0.09112\n",
      "\tMAE:\t8003.67519\n",
      "\n",
      "\n",
      "\n",
      "Validation:\n"
     ]
    },
    {
     "data": {
      "application/vnd.jupyter.widget-view+json": {
       "model_id": "0dfc997bba044584a76efd2f1fd4fbbf",
       "version_major": 2,
       "version_minor": 0
      },
      "text/plain": [
       "A Jupyter Widget"
      ]
     },
     "metadata": {},
     "output_type": "display_data"
    },
    {
     "name": "stdout",
     "output_type": "stream",
     "text": [
      "\n",
      "\tLoss:\t0.09430\n",
      "\tMAE:\t7765.95179\n",
      "\n",
      "\n",
      "\n",
      "Training:\n"
     ]
    },
    {
     "data": {
      "application/vnd.jupyter.widget-view+json": {
       "model_id": "cb51be3f4b1d440f8566ee3c97f1835a",
       "version_major": 2,
       "version_minor": 0
      },
      "text/plain": [
       "A Jupyter Widget"
      ]
     },
     "metadata": {},
     "output_type": "display_data"
    },
    {
     "name": "stdout",
     "output_type": "stream",
     "text": [
      "\n",
      "\tLoss:\t0.09105\n",
      "\tMAE:\t7889.08958\n",
      "\n",
      "\n",
      "\n",
      "Validation:\n"
     ]
    },
    {
     "data": {
      "application/vnd.jupyter.widget-view+json": {
       "model_id": "64184c86c20f4496aee55107720599e5",
       "version_major": 2,
       "version_minor": 0
      },
      "text/plain": [
       "A Jupyter Widget"
      ]
     },
     "metadata": {},
     "output_type": "display_data"
    },
    {
     "name": "stdout",
     "output_type": "stream",
     "text": [
      "\n",
      "\tLoss:\t0.09616\n",
      "\tMAE:\t7928.74651\n",
      "\n",
      "\n",
      "\n",
      "Training:\n"
     ]
    },
    {
     "data": {
      "application/vnd.jupyter.widget-view+json": {
       "model_id": "df139a063f104a6bb9e88fb33fcf9d01",
       "version_major": 2,
       "version_minor": 0
      },
      "text/plain": [
       "A Jupyter Widget"
      ]
     },
     "metadata": {},
     "output_type": "display_data"
    },
    {
     "name": "stdout",
     "output_type": "stream",
     "text": [
      "\n",
      "\tLoss:\t0.11754\n",
      "\tMAE:\t9084.83242\n",
      "\n",
      "\n",
      "\n",
      "Validation:\n"
     ]
    },
    {
     "data": {
      "application/vnd.jupyter.widget-view+json": {
       "model_id": "5ed03d30b7074c59be56af43ffa5f67f",
       "version_major": 2,
       "version_minor": 0
      },
      "text/plain": [
       "A Jupyter Widget"
      ]
     },
     "metadata": {},
     "output_type": "display_data"
    },
    {
     "name": "stdout",
     "output_type": "stream",
     "text": [
      "\n",
      "\tLoss:\t0.14356\n",
      "\tMAE:\t9552.59644\n",
      "\n",
      "\n",
      "\n",
      "Training:\n"
     ]
    },
    {
     "data": {
      "application/vnd.jupyter.widget-view+json": {
       "model_id": "479ed50ea864465da071664119cb1b8a",
       "version_major": 2,
       "version_minor": 0
      },
      "text/plain": [
       "A Jupyter Widget"
      ]
     },
     "metadata": {},
     "output_type": "display_data"
    },
    {
     "name": "stdout",
     "output_type": "stream",
     "text": [
      "\n",
      "\tLoss:\t0.09481\n",
      "\tMAE:\t8005.63304\n",
      "\n",
      "\n",
      "\n",
      "Validation:\n"
     ]
    },
    {
     "data": {
      "application/vnd.jupyter.widget-view+json": {
       "model_id": "fc2acbaaadcf4e54bc7fc0641bfbfe96",
       "version_major": 2,
       "version_minor": 0
      },
      "text/plain": [
       "A Jupyter Widget"
      ]
     },
     "metadata": {},
     "output_type": "display_data"
    },
    {
     "name": "stdout",
     "output_type": "stream",
     "text": [
      "\n",
      "\tLoss:\t0.10769\n",
      "\tMAE:\t8945.00759\n",
      "\n",
      "\n",
      "\n",
      "Training:\n"
     ]
    },
    {
     "data": {
      "application/vnd.jupyter.widget-view+json": {
       "model_id": "425b4125b5f1445d902edd4ac7bd187e",
       "version_major": 2,
       "version_minor": 0
      },
      "text/plain": [
       "A Jupyter Widget"
      ]
     },
     "metadata": {},
     "output_type": "display_data"
    },
    {
     "name": "stdout",
     "output_type": "stream",
     "text": [
      "\n",
      "\tLoss:\t0.09714\n",
      "\tMAE:\t8110.25314\n",
      "\n",
      "\n",
      "\n",
      "Validation:\n"
     ]
    },
    {
     "data": {
      "application/vnd.jupyter.widget-view+json": {
       "model_id": "67295a6c401a4344942b53cf8ca077ac",
       "version_major": 2,
       "version_minor": 0
      },
      "text/plain": [
       "A Jupyter Widget"
      ]
     },
     "metadata": {},
     "output_type": "display_data"
    },
    {
     "name": "stdout",
     "output_type": "stream",
     "text": [
      "\n",
      "\tLoss:\t0.10544\n",
      "\tMAE:\t8914.91246\n",
      "\n",
      "\n",
      "\n",
      "Training:\n"
     ]
    },
    {
     "data": {
      "application/vnd.jupyter.widget-view+json": {
       "model_id": "db64dbe4ed36480f981f550bc7fc0372",
       "version_major": 2,
       "version_minor": 0
      },
      "text/plain": [
       "A Jupyter Widget"
      ]
     },
     "metadata": {},
     "output_type": "display_data"
    },
    {
     "name": "stdout",
     "output_type": "stream",
     "text": [
      "\n",
      "\tLoss:\t0.09516\n",
      "\tMAE:\t7955.17339\n",
      "\n",
      "\n",
      "\n",
      "Validation:\n"
     ]
    },
    {
     "data": {
      "application/vnd.jupyter.widget-view+json": {
       "model_id": "3694b320b0254ba7b2df6c72fdeb7ba9",
       "version_major": 2,
       "version_minor": 0
      },
      "text/plain": [
       "A Jupyter Widget"
      ]
     },
     "metadata": {},
     "output_type": "display_data"
    },
    {
     "name": "stdout",
     "output_type": "stream",
     "text": [
      "\n",
      "\tLoss:\t0.08987\n",
      "\tMAE:\t7719.98788\n",
      "\n",
      "\n",
      "\n",
      "Training:\n"
     ]
    },
    {
     "data": {
      "application/vnd.jupyter.widget-view+json": {
       "model_id": "7dc0131fc2d342648bea40c612bd45ae",
       "version_major": 2,
       "version_minor": 0
      },
      "text/plain": [
       "A Jupyter Widget"
      ]
     },
     "metadata": {},
     "output_type": "display_data"
    },
    {
     "name": "stdout",
     "output_type": "stream",
     "text": [
      "\n",
      "\tLoss:\t0.08661\n",
      "\tMAE:\t7812.12059\n",
      "\n",
      "\n",
      "\n",
      "Validation:\n"
     ]
    },
    {
     "data": {
      "application/vnd.jupyter.widget-view+json": {
       "model_id": "47edd1719f7849dea9c3b54214963312",
       "version_major": 2,
       "version_minor": 0
      },
      "text/plain": [
       "A Jupyter Widget"
      ]
     },
     "metadata": {},
     "output_type": "display_data"
    },
    {
     "name": "stdout",
     "output_type": "stream",
     "text": [
      "\n",
      "\tLoss:\t0.08763\n",
      "\tMAE:\t7572.80670\n",
      "\n",
      "\n",
      "\n",
      "Training:\n"
     ]
    },
    {
     "data": {
      "application/vnd.jupyter.widget-view+json": {
       "model_id": "b6bac363c92a43bd80959f8ae7c8065c",
       "version_major": 2,
       "version_minor": 0
      },
      "text/plain": [
       "A Jupyter Widget"
      ]
     },
     "metadata": {},
     "output_type": "display_data"
    },
    {
     "name": "stdout",
     "output_type": "stream",
     "text": [
      "\n",
      "\tLoss:\t0.08721\n",
      "\tMAE:\t7626.46363\n",
      "\n",
      "\n",
      "\n",
      "Validation:\n"
     ]
    },
    {
     "data": {
      "application/vnd.jupyter.widget-view+json": {
       "model_id": "9e568655ac5c489494002603236560d4",
       "version_major": 2,
       "version_minor": 0
      },
      "text/plain": [
       "A Jupyter Widget"
      ]
     },
     "metadata": {},
     "output_type": "display_data"
    },
    {
     "name": "stdout",
     "output_type": "stream",
     "text": [
      "\n",
      "\tLoss:\t0.08569\n",
      "\tMAE:\t7585.24717\n",
      "\n",
      "\n",
      "\n",
      "Training:\n"
     ]
    },
    {
     "data": {
      "application/vnd.jupyter.widget-view+json": {
       "model_id": "7da4628175af4ed9b400166c7bbcdff9",
       "version_major": 2,
       "version_minor": 0
      },
      "text/plain": [
       "A Jupyter Widget"
      ]
     },
     "metadata": {},
     "output_type": "display_data"
    },
    {
     "name": "stdout",
     "output_type": "stream",
     "text": [
      "\n",
      "\tLoss:\t0.08741\n",
      "\tMAE:\t7936.93152\n",
      "\n",
      "\n",
      "\n",
      "Validation:\n"
     ]
    },
    {
     "data": {
      "application/vnd.jupyter.widget-view+json": {
       "model_id": "6bbe33ca5e8e4c9699a537d23d4997d9",
       "version_major": 2,
       "version_minor": 0
      },
      "text/plain": [
       "A Jupyter Widget"
      ]
     },
     "metadata": {},
     "output_type": "display_data"
    },
    {
     "name": "stdout",
     "output_type": "stream",
     "text": [
      "\n",
      "\tLoss:\t0.08719\n",
      "\tMAE:\t7674.63083\n",
      "\n",
      "\n",
      "\n",
      "Training:\n"
     ]
    },
    {
     "data": {
      "application/vnd.jupyter.widget-view+json": {
       "model_id": "1b810483231145c98f68a68e32552e2d",
       "version_major": 2,
       "version_minor": 0
      },
      "text/plain": [
       "A Jupyter Widget"
      ]
     },
     "metadata": {},
     "output_type": "display_data"
    },
    {
     "name": "stdout",
     "output_type": "stream",
     "text": [
      "\n",
      "\tLoss:\t0.09122\n",
      "\tMAE:\t7839.05499\n",
      "\n",
      "\n",
      "\n",
      "Validation:\n"
     ]
    },
    {
     "data": {
      "application/vnd.jupyter.widget-view+json": {
       "model_id": "448761e3c45e402e921a6268774eccd7",
       "version_major": 2,
       "version_minor": 0
      },
      "text/plain": [
       "A Jupyter Widget"
      ]
     },
     "metadata": {},
     "output_type": "display_data"
    },
    {
     "name": "stdout",
     "output_type": "stream",
     "text": [
      "\n",
      "\tLoss:\t0.08790\n",
      "\tMAE:\t7596.72766\n",
      "\n",
      "\n",
      "\n",
      "Training:\n"
     ]
    },
    {
     "data": {
      "application/vnd.jupyter.widget-view+json": {
       "model_id": "b5a539affd184d0cadae5f0d9c6e1711",
       "version_major": 2,
       "version_minor": 0
      },
      "text/plain": [
       "A Jupyter Widget"
      ]
     },
     "metadata": {},
     "output_type": "display_data"
    },
    {
     "name": "stdout",
     "output_type": "stream",
     "text": [
      "\n",
      "\tLoss:\t0.08027\n",
      "\tMAE:\t7373.58349\n",
      "\n",
      "\n",
      "\n",
      "Validation:\n"
     ]
    },
    {
     "data": {
      "application/vnd.jupyter.widget-view+json": {
       "model_id": "482392c9c8bc4d0499b1e3da11a487b8",
       "version_major": 2,
       "version_minor": 0
      },
      "text/plain": [
       "A Jupyter Widget"
      ]
     },
     "metadata": {},
     "output_type": "display_data"
    },
    {
     "name": "stdout",
     "output_type": "stream",
     "text": [
      "\n",
      "\tLoss:\t0.08585\n",
      "\tMAE:\t7473.34325\n",
      "\n",
      "\n",
      "\n",
      "Training:\n"
     ]
    },
    {
     "data": {
      "application/vnd.jupyter.widget-view+json": {
       "model_id": "4f0b20d476084ce89ced2bd21e75b833",
       "version_major": 2,
       "version_minor": 0
      },
      "text/plain": [
       "A Jupyter Widget"
      ]
     },
     "metadata": {},
     "output_type": "display_data"
    },
    {
     "name": "stdout",
     "output_type": "stream",
     "text": [
      "\n",
      "\tLoss:\t0.08634\n",
      "\tMAE:\t7566.42399\n",
      "\n",
      "\n",
      "\n",
      "Validation:\n"
     ]
    },
    {
     "data": {
      "application/vnd.jupyter.widget-view+json": {
       "model_id": "dc9e06617c5b4fa0b6e411f910e1fb08",
       "version_major": 2,
       "version_minor": 0
      },
      "text/plain": [
       "A Jupyter Widget"
      ]
     },
     "metadata": {},
     "output_type": "display_data"
    },
    {
     "name": "stdout",
     "output_type": "stream",
     "text": [
      "\n",
      "\tLoss:\t0.11461\n",
      "\tMAE:\t8551.13908\n",
      "\n",
      "\n",
      "\n",
      "Training:\n"
     ]
    },
    {
     "data": {
      "application/vnd.jupyter.widget-view+json": {
       "model_id": "368f49fe147d4d6ca6d60d83bf223564",
       "version_major": 2,
       "version_minor": 0
      },
      "text/plain": [
       "A Jupyter Widget"
      ]
     },
     "metadata": {},
     "output_type": "display_data"
    },
    {
     "name": "stdout",
     "output_type": "stream",
     "text": [
      "\n",
      "\tLoss:\t0.09215\n",
      "\tMAE:\t8081.87882\n",
      "\n",
      "\n",
      "\n",
      "Validation:\n"
     ]
    },
    {
     "data": {
      "application/vnd.jupyter.widget-view+json": {
       "model_id": "d5cce1d0a8f94ff4b67a74396fea3580",
       "version_major": 2,
       "version_minor": 0
      },
      "text/plain": [
       "A Jupyter Widget"
      ]
     },
     "metadata": {},
     "output_type": "display_data"
    },
    {
     "name": "stdout",
     "output_type": "stream",
     "text": [
      "\n",
      "\tLoss:\t0.09433\n",
      "\tMAE:\t7789.48164\n",
      "\n",
      "\n",
      "\n",
      "Training:\n"
     ]
    },
    {
     "data": {
      "application/vnd.jupyter.widget-view+json": {
       "model_id": "a57ced29431e406282621224573bc288",
       "version_major": 2,
       "version_minor": 0
      },
      "text/plain": [
       "A Jupyter Widget"
      ]
     },
     "metadata": {},
     "output_type": "display_data"
    },
    {
     "name": "stdout",
     "output_type": "stream",
     "text": [
      "\n",
      "\tLoss:\t0.09932\n",
      "\tMAE:\t8331.95583\n",
      "\n",
      "\n",
      "\n",
      "Validation:\n"
     ]
    },
    {
     "data": {
      "application/vnd.jupyter.widget-view+json": {
       "model_id": "d6fe0cc448604a729f40d2762e6b99d3",
       "version_major": 2,
       "version_minor": 0
      },
      "text/plain": [
       "A Jupyter Widget"
      ]
     },
     "metadata": {},
     "output_type": "display_data"
    },
    {
     "name": "stdout",
     "output_type": "stream",
     "text": [
      "\n",
      "\tLoss:\t0.10234\n",
      "\tMAE:\t8869.10512\n",
      "\n",
      "\n",
      "\n",
      "Training:\n"
     ]
    },
    {
     "data": {
      "application/vnd.jupyter.widget-view+json": {
       "model_id": "b5a5a0c7d7ee406cb194338f30996aab",
       "version_major": 2,
       "version_minor": 0
      },
      "text/plain": [
       "A Jupyter Widget"
      ]
     },
     "metadata": {},
     "output_type": "display_data"
    },
    {
     "name": "stdout",
     "output_type": "stream",
     "text": [
      "\n",
      "\tLoss:\t0.08550\n",
      "\tMAE:\t7637.14380\n",
      "\n",
      "\n",
      "\n",
      "Validation:\n"
     ]
    },
    {
     "data": {
      "application/vnd.jupyter.widget-view+json": {
       "model_id": "f2e95dc010cd42f9aa9846d41935572d",
       "version_major": 2,
       "version_minor": 0
      },
      "text/plain": [
       "A Jupyter Widget"
      ]
     },
     "metadata": {},
     "output_type": "display_data"
    },
    {
     "name": "stdout",
     "output_type": "stream",
     "text": [
      "\n",
      "\tLoss:\t0.09788\n",
      "\tMAE:\t8539.94117\n",
      "\n",
      "\n",
      "\n",
      "Training:\n"
     ]
    },
    {
     "data": {
      "application/vnd.jupyter.widget-view+json": {
       "model_id": "4f8c3dba02db437f8891afdc62ee744b",
       "version_major": 2,
       "version_minor": 0
      },
      "text/plain": [
       "A Jupyter Widget"
      ]
     },
     "metadata": {},
     "output_type": "display_data"
    },
    {
     "name": "stdout",
     "output_type": "stream",
     "text": [
      "\n",
      "\tLoss:\t0.08150\n",
      "\tMAE:\t7361.76409\n",
      "\n",
      "\n",
      "\n",
      "Validation:\n"
     ]
    },
    {
     "data": {
      "application/vnd.jupyter.widget-view+json": {
       "model_id": "6e918af3870b4e91a69a5601bb90034f",
       "version_major": 2,
       "version_minor": 0
      },
      "text/plain": [
       "A Jupyter Widget"
      ]
     },
     "metadata": {},
     "output_type": "display_data"
    },
    {
     "name": "stdout",
     "output_type": "stream",
     "text": [
      "\n",
      "\tLoss:\t0.09072\n",
      "\tMAE:\t7653.35029\n",
      "\n",
      "\n",
      "\n",
      "Training:\n"
     ]
    },
    {
     "data": {
      "application/vnd.jupyter.widget-view+json": {
       "model_id": "555cfae4aa844793a7186e80527a4dfc",
       "version_major": 2,
       "version_minor": 0
      },
      "text/plain": [
       "A Jupyter Widget"
      ]
     },
     "metadata": {},
     "output_type": "display_data"
    },
    {
     "name": "stdout",
     "output_type": "stream",
     "text": [
      "\n",
      "\tLoss:\t0.08028\n",
      "\tMAE:\t7416.88623\n",
      "\n",
      "\n",
      "\n",
      "Validation:\n"
     ]
    },
    {
     "data": {
      "application/vnd.jupyter.widget-view+json": {
       "model_id": "0770dd4bb3ca48258871015a5302441d",
       "version_major": 2,
       "version_minor": 0
      },
      "text/plain": [
       "A Jupyter Widget"
      ]
     },
     "metadata": {},
     "output_type": "display_data"
    },
    {
     "name": "stdout",
     "output_type": "stream",
     "text": [
      "\n",
      "\tLoss:\t0.08556\n",
      "\tMAE:\t7669.67538\n",
      "\n",
      "\n",
      "\n",
      "Training:\n"
     ]
    },
    {
     "data": {
      "application/vnd.jupyter.widget-view+json": {
       "model_id": "fbffe7725de2445daa9f332b6d1a6bfe",
       "version_major": 2,
       "version_minor": 0
      },
      "text/plain": [
       "A Jupyter Widget"
      ]
     },
     "metadata": {},
     "output_type": "display_data"
    },
    {
     "name": "stdout",
     "output_type": "stream",
     "text": [
      "\n",
      "\tLoss:\t0.09248\n",
      "\tMAE:\t8173.84979\n",
      "\n",
      "\n",
      "\n",
      "Validation:\n"
     ]
    },
    {
     "data": {
      "application/vnd.jupyter.widget-view+json": {
       "model_id": "ded75801d5bc46b6a7b41da6d7f90bb7",
       "version_major": 2,
       "version_minor": 0
      },
      "text/plain": [
       "A Jupyter Widget"
      ]
     },
     "metadata": {},
     "output_type": "display_data"
    },
    {
     "name": "stdout",
     "output_type": "stream",
     "text": [
      "\n",
      "\tLoss:\t0.09375\n",
      "\tMAE:\t7760.73484\n",
      "\n",
      "\n",
      "\n",
      "Training:\n"
     ]
    },
    {
     "data": {
      "application/vnd.jupyter.widget-view+json": {
       "model_id": "2878f69a1af1403fa06929710c020dee",
       "version_major": 2,
       "version_minor": 0
      },
      "text/plain": [
       "A Jupyter Widget"
      ]
     },
     "metadata": {},
     "output_type": "display_data"
    },
    {
     "name": "stdout",
     "output_type": "stream",
     "text": [
      "\n",
      "\tLoss:\t0.08149\n",
      "\tMAE:\t7685.34576\n",
      "\n",
      "\n",
      "\n",
      "Validation:\n"
     ]
    },
    {
     "data": {
      "application/vnd.jupyter.widget-view+json": {
       "model_id": "80f1bfa8e4d34cd4a62a104f019e73ad",
       "version_major": 2,
       "version_minor": 0
      },
      "text/plain": [
       "A Jupyter Widget"
      ]
     },
     "metadata": {},
     "output_type": "display_data"
    },
    {
     "name": "stdout",
     "output_type": "stream",
     "text": [
      "\n",
      "\tLoss:\t0.08742\n",
      "\tMAE:\t7745.50628\n",
      "\n",
      "\n",
      "\n",
      "Training:\n"
     ]
    },
    {
     "data": {
      "application/vnd.jupyter.widget-view+json": {
       "model_id": "36abfd4777b047dba553803ee71aae6a",
       "version_major": 2,
       "version_minor": 0
      },
      "text/plain": [
       "A Jupyter Widget"
      ]
     },
     "metadata": {},
     "output_type": "display_data"
    },
    {
     "name": "stdout",
     "output_type": "stream",
     "text": [
      "\n",
      "\tLoss:\t0.08661\n",
      "\tMAE:\t7477.60731\n",
      "\n",
      "\n",
      "\n",
      "Validation:\n"
     ]
    },
    {
     "data": {
      "application/vnd.jupyter.widget-view+json": {
       "model_id": "9ed512d9128e4070bd9e6db25b49a9e6",
       "version_major": 2,
       "version_minor": 0
      },
      "text/plain": [
       "A Jupyter Widget"
      ]
     },
     "metadata": {},
     "output_type": "display_data"
    },
    {
     "name": "stdout",
     "output_type": "stream",
     "text": [
      "\n",
      "\tLoss:\t0.09222\n",
      "\tMAE:\t7691.65672\n",
      "\n",
      "\n",
      "\n",
      "Training:\n"
     ]
    },
    {
     "data": {
      "application/vnd.jupyter.widget-view+json": {
       "model_id": "df8d8cf86af749bebc2b66ffaba2e08a",
       "version_major": 2,
       "version_minor": 0
      },
      "text/plain": [
       "A Jupyter Widget"
      ]
     },
     "metadata": {},
     "output_type": "display_data"
    },
    {
     "name": "stdout",
     "output_type": "stream",
     "text": [
      "\n",
      "\tLoss:\t0.10034\n",
      "\tMAE:\t8370.61219\n",
      "\n",
      "\n",
      "\n",
      "Validation:\n"
     ]
    },
    {
     "data": {
      "application/vnd.jupyter.widget-view+json": {
       "model_id": "b4081a4c436e479fb99f161334f45b06",
       "version_major": 2,
       "version_minor": 0
      },
      "text/plain": [
       "A Jupyter Widget"
      ]
     },
     "metadata": {},
     "output_type": "display_data"
    },
    {
     "name": "stdout",
     "output_type": "stream",
     "text": [
      "\n",
      "\tLoss:\t0.08419\n",
      "\tMAE:\t7482.37874\n",
      "\n",
      "\n",
      "\n",
      "Training:\n"
     ]
    },
    {
     "data": {
      "application/vnd.jupyter.widget-view+json": {
       "model_id": "a71e96db47f4448fac8c76177147838d",
       "version_major": 2,
       "version_minor": 0
      },
      "text/plain": [
       "A Jupyter Widget"
      ]
     },
     "metadata": {},
     "output_type": "display_data"
    },
    {
     "name": "stdout",
     "output_type": "stream",
     "text": [
      "\n",
      "\tLoss:\t0.08219\n",
      "\tMAE:\t7411.60985\n",
      "\n",
      "\n",
      "\n",
      "Validation:\n"
     ]
    },
    {
     "data": {
      "application/vnd.jupyter.widget-view+json": {
       "model_id": "920c1649a04c43358a553769774dfab5",
       "version_major": 2,
       "version_minor": 0
      },
      "text/plain": [
       "A Jupyter Widget"
      ]
     },
     "metadata": {},
     "output_type": "display_data"
    },
    {
     "name": "stdout",
     "output_type": "stream",
     "text": [
      "\n",
      "\tLoss:\t0.08330\n",
      "\tMAE:\t7487.57008\n",
      "\n",
      "\n",
      "\n",
      "Training:\n"
     ]
    },
    {
     "data": {
      "application/vnd.jupyter.widget-view+json": {
       "model_id": "e45b1a09b7af4f8bb99ee49a3fa868e3",
       "version_major": 2,
       "version_minor": 0
      },
      "text/plain": [
       "A Jupyter Widget"
      ]
     },
     "metadata": {},
     "output_type": "display_data"
    },
    {
     "name": "stdout",
     "output_type": "stream",
     "text": [
      "\n",
      "\tLoss:\t0.08466\n",
      "\tMAE:\t7481.53269\n",
      "\n",
      "\n",
      "\n",
      "Validation:\n"
     ]
    },
    {
     "data": {
      "application/vnd.jupyter.widget-view+json": {
       "model_id": "00d45aaa17544219929c3b0b499ae838",
       "version_major": 2,
       "version_minor": 0
      },
      "text/plain": [
       "A Jupyter Widget"
      ]
     },
     "metadata": {},
     "output_type": "display_data"
    },
    {
     "name": "stdout",
     "output_type": "stream",
     "text": [
      "\n",
      "\tLoss:\t0.08407\n",
      "\tMAE:\t7424.67709\n",
      "\n",
      "\n",
      "\n",
      "Training:\n"
     ]
    },
    {
     "data": {
      "application/vnd.jupyter.widget-view+json": {
       "model_id": "6619f12d5ad64460b3be09ade05230db",
       "version_major": 2,
       "version_minor": 0
      },
      "text/plain": [
       "A Jupyter Widget"
      ]
     },
     "metadata": {},
     "output_type": "display_data"
    },
    {
     "name": "stdout",
     "output_type": "stream",
     "text": [
      "\n",
      "\tLoss:\t0.08249\n",
      "\tMAE:\t7499.79583\n",
      "\n",
      "\n",
      "\n",
      "Validation:\n"
     ]
    },
    {
     "data": {
      "application/vnd.jupyter.widget-view+json": {
       "model_id": "f7945794bc36455f88e1f9c57f083a05",
       "version_major": 2,
       "version_minor": 0
      },
      "text/plain": [
       "A Jupyter Widget"
      ]
     },
     "metadata": {},
     "output_type": "display_data"
    },
    {
     "name": "stdout",
     "output_type": "stream",
     "text": [
      "\n",
      "\tLoss:\t0.10714\n",
      "\tMAE:\t8309.50164\n",
      "\n",
      "\n",
      "\n",
      "Training:\n"
     ]
    },
    {
     "data": {
      "application/vnd.jupyter.widget-view+json": {
       "model_id": "6dab547e714a417983b80fad629b56ec",
       "version_major": 2,
       "version_minor": 0
      },
      "text/plain": [
       "A Jupyter Widget"
      ]
     },
     "metadata": {},
     "output_type": "display_data"
    },
    {
     "name": "stdout",
     "output_type": "stream",
     "text": [
      "\n",
      "\tLoss:\t0.08281\n",
      "\tMAE:\t7604.49429\n",
      "\n",
      "\n",
      "\n",
      "Validation:\n"
     ]
    },
    {
     "data": {
      "application/vnd.jupyter.widget-view+json": {
       "model_id": "9f9c44198e22496bb725ace95e8ca9b8",
       "version_major": 2,
       "version_minor": 0
      },
      "text/plain": [
       "A Jupyter Widget"
      ]
     },
     "metadata": {},
     "output_type": "display_data"
    },
    {
     "name": "stdout",
     "output_type": "stream",
     "text": [
      "\n",
      "\tLoss:\t0.09781\n",
      "\tMAE:\t8549.07092\n",
      "\n",
      "\n",
      "\n",
      "Training:\n"
     ]
    },
    {
     "data": {
      "application/vnd.jupyter.widget-view+json": {
       "model_id": "f372fc390a4f4e6da4e6011c0efe87e4",
       "version_major": 2,
       "version_minor": 0
      },
      "text/plain": [
       "A Jupyter Widget"
      ]
     },
     "metadata": {},
     "output_type": "display_data"
    },
    {
     "name": "stdout",
     "output_type": "stream",
     "text": [
      "\n",
      "\tLoss:\t0.08624\n",
      "\tMAE:\t7560.23395\n",
      "\n",
      "\n",
      "\n",
      "Validation:\n"
     ]
    },
    {
     "data": {
      "application/vnd.jupyter.widget-view+json": {
       "model_id": "eaef29b227b749589f7989f7b8a6f300",
       "version_major": 2,
       "version_minor": 0
      },
      "text/plain": [
       "A Jupyter Widget"
      ]
     },
     "metadata": {},
     "output_type": "display_data"
    },
    {
     "name": "stdout",
     "output_type": "stream",
     "text": [
      "\n",
      "\tLoss:\t0.11949\n",
      "\tMAE:\t8702.57486\n",
      "\n",
      "\n",
      "\n",
      "Training:\n"
     ]
    },
    {
     "data": {
      "application/vnd.jupyter.widget-view+json": {
       "model_id": "08a86ef4c6024cb5b64a147eef39538b",
       "version_major": 2,
       "version_minor": 0
      },
      "text/plain": [
       "A Jupyter Widget"
      ]
     },
     "metadata": {},
     "output_type": "display_data"
    },
    {
     "name": "stdout",
     "output_type": "stream",
     "text": [
      "\n",
      "\tLoss:\t0.09109\n",
      "\tMAE:\t7968.47387\n",
      "\n",
      "\n",
      "\n",
      "Validation:\n"
     ]
    },
    {
     "data": {
      "application/vnd.jupyter.widget-view+json": {
       "model_id": "5f40676e467d4bc081ffab306fbc9c52",
       "version_major": 2,
       "version_minor": 0
      },
      "text/plain": [
       "A Jupyter Widget"
      ]
     },
     "metadata": {},
     "output_type": "display_data"
    },
    {
     "name": "stdout",
     "output_type": "stream",
     "text": [
      "\n",
      "\tLoss:\t0.08296\n",
      "\tMAE:\t7442.41838\n",
      "\n",
      "\n",
      "\n",
      "Training:\n"
     ]
    },
    {
     "data": {
      "application/vnd.jupyter.widget-view+json": {
       "model_id": "cff0511a49274fb882593be557023571",
       "version_major": 2,
       "version_minor": 0
      },
      "text/plain": [
       "A Jupyter Widget"
      ]
     },
     "metadata": {},
     "output_type": "display_data"
    },
    {
     "name": "stdout",
     "output_type": "stream",
     "text": [
      "\n",
      "\tLoss:\t0.09043\n",
      "\tMAE:\t7797.46667\n",
      "\n",
      "\n",
      "\n",
      "Validation:\n"
     ]
    },
    {
     "data": {
      "application/vnd.jupyter.widget-view+json": {
       "model_id": "a6f50a60b3ae4cc09690d0cc8cfe8d06",
       "version_major": 2,
       "version_minor": 0
      },
      "text/plain": [
       "A Jupyter Widget"
      ]
     },
     "metadata": {},
     "output_type": "display_data"
    },
    {
     "name": "stdout",
     "output_type": "stream",
     "text": [
      "\n",
      "\tLoss:\t0.08389\n",
      "\tMAE:\t7471.89499\n",
      "\n",
      "\n",
      "\n",
      "Training:\n"
     ]
    },
    {
     "data": {
      "application/vnd.jupyter.widget-view+json": {
       "model_id": "0d099bbed3524340aefc40adba406314",
       "version_major": 2,
       "version_minor": 0
      },
      "text/plain": [
       "A Jupyter Widget"
      ]
     },
     "metadata": {},
     "output_type": "display_data"
    },
    {
     "name": "stdout",
     "output_type": "stream",
     "text": [
      "\n",
      "\tLoss:\t0.08558\n",
      "\tMAE:\t7583.00506\n",
      "\n",
      "\n",
      "\n",
      "Validation:\n"
     ]
    },
    {
     "data": {
      "application/vnd.jupyter.widget-view+json": {
       "model_id": "267fd7bf667249d9bc0bdd3eba807cfa",
       "version_major": 2,
       "version_minor": 0
      },
      "text/plain": [
       "A Jupyter Widget"
      ]
     },
     "metadata": {},
     "output_type": "display_data"
    },
    {
     "name": "stdout",
     "output_type": "stream",
     "text": [
      "\n",
      "\tLoss:\t0.08388\n",
      "\tMAE:\t7445.63172\n",
      "\n",
      "\n",
      "\n",
      "Training:\n"
     ]
    },
    {
     "data": {
      "application/vnd.jupyter.widget-view+json": {
       "model_id": "73abbef195e54be9b27b381fd0f7a9c7",
       "version_major": 2,
       "version_minor": 0
      },
      "text/plain": [
       "A Jupyter Widget"
      ]
     },
     "metadata": {},
     "output_type": "display_data"
    },
    {
     "name": "stdout",
     "output_type": "stream",
     "text": [
      "\n",
      "\tLoss:\t0.08493\n",
      "\tMAE:\t7466.17749\n",
      "\n",
      "\n",
      "\n",
      "Validation:\n"
     ]
    },
    {
     "data": {
      "application/vnd.jupyter.widget-view+json": {
       "model_id": "9b8c56dbb6144e2b90c2793d908c8c5f",
       "version_major": 2,
       "version_minor": 0
      },
      "text/plain": [
       "A Jupyter Widget"
      ]
     },
     "metadata": {},
     "output_type": "display_data"
    },
    {
     "name": "stdout",
     "output_type": "stream",
     "text": [
      "\n",
      "\tLoss:\t0.14501\n",
      "\tMAE:\t9707.35125\n",
      "\n",
      "\n",
      "\n"
     ]
    }
   ],
   "source": [
    "for epoch_i in range(num_epochs):\n",
    "    \n",
    "    print(\"Training:\")\n",
    "    train_loss = train_mae = train_batches = 0    \n",
    "    model.train(True)\n",
    "    \n",
    "    for batch in iterate_minibatches(data_train, max_batches=batches_per_epoch):\n",
    "        title_ix = torch.tensor(batch[\"Title\"], dtype=torch.int64)\n",
    "        desc_ix = torch.tensor(batch[\"FullDescription\"], dtype=torch.int64)\n",
    "        cat_features = torch.tensor(batch[\"Categorical\"], dtype=torch.float32)\n",
    "        reference = torch.tensor(batch[target_column], dtype=torch.float32)\n",
    "\n",
    "        prediction = model(title_ix, desc_ix, cat_features)\n",
    "\n",
    "        loss = compute_loss(reference, prediction)\n",
    "        loss.backward()\n",
    "        opt.step()\n",
    "        opt.zero_grad()\n",
    "\n",
    "        train_loss += loss.data.numpy()\n",
    "        train_mae += compute_mae(reference, prediction).data.numpy()\n",
    "        train_batches += 1\n",
    "    \n",
    "    print(\"\\tLoss:\\t%.5f\" % (train_loss / train_batches))\n",
    "    print(\"\\tMAE:\\t%.5f\" % (train_mae / train_batches))\n",
    "    print('\\n\\n')\n",
    "    \n",
    "    print(\"Validation:\")\n",
    "    val_loss = val_mae = val_batches = 0\n",
    "    model.train(False)\n",
    "    \n",
    "    for batch in iterate_minibatches(data_val, shuffle=False):\n",
    "        title_ix = torch.tensor(batch[\"Title\"], dtype=torch.int64)\n",
    "        desc_ix = torch.tensor(batch[\"FullDescription\"], dtype=torch.int64)\n",
    "        cat_features = torch.tensor(batch[\"Categorical\"], dtype=torch.float32)\n",
    "        reference = torch.tensor(batch[target_column], dtype=torch.float32)\n",
    "        prediction = model(title_ix, desc_ix, cat_features)\n",
    "        loss = compute_loss(reference, prediction)\n",
    "\n",
    "        val_loss += loss.data.numpy()\n",
    "        val_mae += compute_mae(reference, prediction).data.numpy()\n",
    "        val_batches += 1\n",
    "        \n",
    "    print(\"\\tLoss:\\t%.5f\" % (val_loss / val_batches))\n",
    "    print(\"\\tMAE:\\t%.5f\" % (val_mae / val_batches))\n",
    "    print('\\n\\n')"
   ]
  },
  {
   "cell_type": "code",
   "execution_count": 34,
   "metadata": {
    "scrolled": true
   },
   "outputs": [
    {
     "name": "stdout",
     "output_type": "stream",
     "text": [
      "Final eval:\n"
     ]
    },
    {
     "data": {
      "application/vnd.jupyter.widget-view+json": {
       "model_id": "29c17b7589e247108201203580b09bcd",
       "version_major": 2,
       "version_minor": 0
      },
      "text/plain": [
       "A Jupyter Widget"
      ]
     },
     "metadata": {},
     "output_type": "display_data"
    },
    {
     "name": "stdout",
     "output_type": "stream",
     "text": [
      "\n",
      "\tLoss:\t0.14501\n",
      "\tMAE:\t9707.35125\n",
      "\n",
      "\n",
      "\n"
     ]
    }
   ],
   "source": [
    "print(\"Final eval:\")\n",
    "val_loss = val_mae = val_batches = 0\n",
    "\n",
    "for batch in iterate_minibatches(data_val, shuffle=False):\n",
    "    title_ix = torch.tensor(batch[\"Title\"], dtype=torch.int64)\n",
    "    desc_ix = torch.tensor(batch[\"FullDescription\"], dtype=torch.int64)\n",
    "    cat_features = torch.tensor(batch[\"Categorical\"], dtype=torch.float32)\n",
    "    reference = torch.tensor(batch[target_column], dtype=torch.float32)\n",
    "\n",
    "    prediction = model(title_ix, desc_ix, cat_features)\n",
    "    loss = compute_loss(reference, prediction)\n",
    "\n",
    "    val_loss += loss.data.numpy()\n",
    "    val_mae += compute_mae(reference, prediction).data.numpy()\n",
    "    val_batches += 1\n",
    "\n",
    "print(\"\\tLoss:\\t%.5f\" % (val_loss / val_batches))\n",
    "print(\"\\tMAE:\\t%.5f\" % (val_mae / val_batches))\n",
    "print('\\n\\n')"
   ]
  },
  {
   "cell_type": "markdown",
   "metadata": {},
   "source": [
    "### Task 3: explaining network predictions\n",
    "\n",
    "It's usually a good idea to understand what your model does before you let it make actual decisions. It's simple for linear models: just see which words learned positive or negative weights. However, its much harder for neural networks that learn complex nonlinear dependencies.\n",
    "\n",
    "There are, however, some ways to look inside the black box:\n",
    "* Seeing how model responds to input perturbations\n",
    "* Finding inputs that maximize/minimize activation of some chosen neurons (_read more [on distill.pub](https://distill.pub/2018/building-blocks/)_)\n",
    "* Building local linear approximations to your neural network: [article](https://arxiv.org/abs/1602.04938), [eli5 library](https://github.com/TeamHG-Memex/eli5/tree/master/eli5/formatters)\n",
    "\n",
    "Today we gonna try the first method just because it's the simplest one.\n",
    "\n",
    "__Your task__ is to measure how does model prediction change if you replace certain tokens with UNKs. The core idea is that if dropping a word from text causes model to predict lower log-salary, than this word probably has positive contribution to salary (and vice versa)."
   ]
  },
  {
   "cell_type": "code",
   "execution_count": 35,
   "metadata": {
    "collapsed": true
   },
   "outputs": [],
   "source": [
    "def explain(model, sample, col_name='Title'):\n",
    "    \"\"\" Computes the effect each word had on model predictions \"\"\"\n",
    "    \n",
    "    # compute model prediction on sample (scalar float log-salary)\n",
    "    sample_batch = generate_batch(pd.DataFrame(sample).T)\n",
    "    title_ix = torch.tensor(sample_batch[\"Title\"], dtype=torch.int64)\n",
    "    desc_ix = torch.tensor(sample_batch[\"FullDescription\"], dtype=torch.int64)\n",
    "    cat_features = torch.tensor(sample_batch[\"Categorical\"], dtype=torch.float32)\n",
    "    baseline_pred = model(title_ix, desc_ix, cat_features)\n",
    "    \n",
    "    # for each i-th token in :col_name:, compute predictions on a copy of data\n",
    "    # where i-th token is dropped (UNK)\n",
    "    predictions_without_word = []\n",
    "    if col_name == 'Title':\n",
    "        for i in range(title_ix.shape[1]):\n",
    "            title_ix_copy = title_ix.clone()\n",
    "            title_ix_copy[0][i] = 0\n",
    "            predictions_without_word.append(model(title_ix_copy, desc_ix, cat_features))\n",
    "    elif col_name == 'FullDescription':\n",
    "        for i in range(desc_ix.shape[1]):\n",
    "            desc_ix_copy = desc_ix.clone()\n",
    "            desc_ix_copy[0][i] = 0\n",
    "            predictions_without_word.append(model(title_ix, desc_ix_copy, cat_features))\n",
    "                \n",
    "    \n",
    "    score_differences = [\n",
    "        (prediction - baseline_pred).item() for prediction in predictions_without_word\n",
    "    ]\n",
    "        \n",
    "    # return a list of pairs: [(token, score_difference)]\n",
    "    return list(zip([list(token_to_id.keys())[token_id] for token_id in sample_batch[col_name][0]], score_differences))"
   ]
  },
  {
   "cell_type": "code",
   "execution_count": 36,
   "metadata": {},
   "outputs": [
    {
     "name": "stdout",
     "output_type": "stream",
     "text": [
      "Input: Id                                                             69213988\n",
      "Title                 design and technology teacher qts supply teach...\n",
      "FullDescription       design and technology dt teaching job stafford...\n",
      "LocationRaw                                                    STAFFORD\n",
      "LocationNormalized                                             Stafford\n",
      "ContractType                                                  part_time\n",
      "ContractTime                                                  permanent\n",
      "Company                                                           Other\n",
      "Category                                                  Teaching Jobs\n",
      "SalaryRaw                                       From 105 to 135 per day\n",
      "SalaryNormalized                                                  28800\n",
      "SourceName                                                  fish4.co.uk\n",
      "Log1pSalary                                                     10.2682\n",
      "Name: 95294, dtype: object\n",
      "[('design', -0.02131938934326172), ('and', 0.03097248077392578), ('technology', 0.06427860260009766), ('teacher', -0.13625240325927734), ('qts', -0.0798044204711914), ('supply', -0.021872520446777344), ('teacher', 0.011637687683105469), ('stafford', 0.0790243148803711)]\n"
     ]
    }
   ],
   "source": [
    "# debugging area\n",
    "sample = data.loc[np.random.randint(len(data))]\n",
    "print(\"Input:\", sample)\n",
    "\n",
    "tokens_and_weights = explain(model, sample, \"Title\")\n",
    "print(tokens_and_weights)"
   ]
  },
  {
   "cell_type": "code",
   "execution_count": 37,
   "metadata": {
    "collapsed": true
   },
   "outputs": [],
   "source": [
    "from IPython.display import HTML, display_html\n",
    "\n",
    "def draw_html(tokens_and_weights, cmap=plt.get_cmap(\"bwr\"), display=True,\n",
    "              token_template=\"\"\"<span style=\"background-color: {color_hex}\">{token}</span>\"\"\",\n",
    "              font_style=\"font-size:14px;\"\n",
    "             ):\n",
    "    \n",
    "    def get_color_hex(weight):\n",
    "        rgba = cmap(1. / (1 + np.exp(weight)), bytes=True)\n",
    "        return '#%02X%02X%02X' % rgba[:3]\n",
    "    \n",
    "    tokens_html = [\n",
    "        token_template.format(token=token, color_hex=get_color_hex(weight))\n",
    "        for token, weight in tokens_and_weights\n",
    "    ]\n",
    "    \n",
    "    \n",
    "    raw_html = \"\"\"<p style=\"{}\">{}</p>\"\"\".format(font_style, ' '.join(tokens_html))\n",
    "    if display:\n",
    "        display_html(HTML(raw_html))\n",
    "        \n",
    "    return raw_html\n",
    "    "
   ]
  },
  {
   "cell_type": "code",
   "execution_count": 38,
   "metadata": {},
   "outputs": [
    {
     "name": "stdout",
     "output_type": "stream",
     "text": [
      "Index: 141235\n",
      "Salary (gbp): 10.553901672363281\n"
     ]
    },
    {
     "data": {
      "text/html": [
       "<p style=\"font-size:20px;\"><span style=\"background-color: #FEFEFF\">messaging</span> <span style=\"background-color: #C8C8FF\">/</span> <span style=\"background-color: #D3D3FF\">directory</span> <span style=\"background-color: #F2F2FF\">services</span> <span style=\"background-color: #FFC0C0\">cloud</span> <span style=\"background-color: #FFE2E2\">architect</span></p>"
      ]
     },
     "metadata": {},
     "output_type": "display_data"
    },
    {
     "data": {
      "text/html": [
       "<p style=\"font-size:14px;\"><span style=\"background-color: #FFF6F6\">we</span> <span style=\"background-color: #FAFAFF\">are</span> <span style=\"background-color: #F3F3FF\">urgently</span> <span style=\"background-color: #F8F8FF\">seeking</span> <span style=\"background-color: #FFFAFA\">infrastructure</span> <span style=\"background-color: #FFF4F4\">solution</span> <span style=\"background-color: #FAFAFF\">architects</span> <span style=\"background-color: #F8F8FF\">,</span> <span style=\"background-color: #FFFEFE\">preferably</span> <span style=\"background-color: #FAFAFF\">with</span> <span style=\"background-color: #FEFEFF\">experience</span> <span style=\"background-color: #FEFEFF\">of</span> <span style=\"background-color: #FFFAFA\">cloud</span> <span style=\"background-color: #FFFAFA\">based</span> <span style=\"background-color: #FFF4F4\">infrastructure</span> <span style=\"background-color: #FAFAFF\">solutions</span> <span style=\"background-color: #F3F3FF\">including</span> <span style=\"background-color: #FEFEFF\">messaging</span> <span style=\"background-color: #F6F6FF\">,</span> <span style=\"background-color: #FEFEFF\">directory</span> <span style=\"background-color: #FFFEFE\">services</span> <span style=\"background-color: #FFFEFE\">and</span> <span style=\"background-color: #FFFEFE\">other</span> <span style=\"background-color: #FFFEFE\">such</span> <span style=\"background-color: #FFFEFE\">solutions</span> <span style=\"background-color: #FFFEFE\">for</span> <span style=\"background-color: #FEFEFF\">our</span> <span style=\"background-color: #FFFEFE\">clients</span> <span style=\"background-color: #FFFEFE\">highly</span> <span style=\"background-color: #FEFEFF\">successful</span> <span style=\"background-color: #FFFEFE\">and</span> <span style=\"background-color: #FFFEFE\">expanding</span> <span style=\"background-color: #F3F3FF\">business</span> <span style=\"background-color: #FEFEFF\">.</span> <span style=\"background-color: #FFFEFE\">the</span> <span style=\"background-color: #FFFEFE\">successful</span> <span style=\"background-color: #F0F0FF\">applicant</span> <span style=\"background-color: #FFFEFE\">will</span> <span style=\"background-color: #FCFCFF\">work</span> <span style=\"background-color: #FFFEFE\">closely</span> <span style=\"background-color: #FCFCFF\">with</span> <span style=\"background-color: #FEFEFF\">sales</span> <span style=\"background-color: #FCFCFF\">and</span> <span style=\"background-color: #F0F0FF\">data</span> <span style=\"background-color: #FFFEFE\">centre</span> <span style=\"background-color: #FFFEFE\">services</span> <span style=\"background-color: #F3F3FF\">operations</span> <span style=\"background-color: #FFE6E6\">.</span> <span style=\"background-color: #FFFEFE\">you</span> <span style=\"background-color: #FFFEFE\">will</span> <span style=\"background-color: #F8F8FF\">preferably</span> <span style=\"background-color: #FEFEFF\">have</span> <span style=\"background-color: #FAFAFF\">worked</span> <span style=\"background-color: #FFF4F4\">with</span> <span style=\"background-color: #FFF2F2\">a</span> <span style=\"background-color: #FFF4F4\">major</span> <span style=\"background-color: #F6F6FF\">solution</span> <span style=\"background-color: #FAFAFF\">or</span> <span style=\"background-color: #FCFCFF\">service</span> <span style=\"background-color: #FFFEFE\">provider</span> <span style=\"background-color: #F6F6FF\">within</span> <span style=\"background-color: #FFFEFE\">the</span> <span style=\"background-color: #FFFEFE\">cloud</span> <span style=\"background-color: #FFFEFE\">services</span> <span style=\"background-color: #F3F3FF\">environment</span> <span style=\"background-color: #FFFEFE\">.</span> <span style=\"background-color: #FFFEFE\">this</span> <span style=\"background-color: #F8F8FF\">is</span> <span style=\"background-color: #FFFEFE\">primarily</span> <span style=\"background-color: #FFFCFC\">a</span> <span style=\"background-color: #FFFAFA\">hands</span> <span style=\"background-color: #FFFEFE\">off</span> <span style=\"background-color: #F8F8FF\">role</span> <span style=\"background-color: #EAEAFF\">but</span> <span style=\"background-color: #E6E6FF\">would</span> <span style=\"background-color: #E6E6FF\">suit</span> <span style=\"background-color: #FFECEC\">an</span> <span style=\"background-color: #ECECFF\">experienced</span> <span style=\"background-color: #FFFCFC\">hands</span> <span style=\"background-color: #FFFEFE\">on</span> <span style=\"background-color: #F3F3FF\">individual</span> <span style=\"background-color: #FFFEFE\">wishing</span> <span style=\"background-color: #FFFEFE\">to</span> <span style=\"background-color: #FCFCFF\">move</span> <span style=\"background-color: #ECECFF\">to</span> <span style=\"background-color: #FAFAFF\">a</span> <span style=\"background-color: #ECECFF\">high</span> <span style=\"background-color: #F8F8FF\">level</span> <span style=\"background-color: #FFFEFE\">pre</span> <span style=\"background-color: #F8F8FF\">sales</span> <span style=\"background-color: #FFEEEE\">infrastructure</span> <span style=\"background-color: #F0F0FF\">solution</span> <span style=\"background-color: #FEFEFF\">architect</span> <span style=\"background-color: #F6F6FF\">role</span> <span style=\"background-color: #FFFEFE\">.</span> <span style=\"background-color: #FFFEFE\">responsibilities</span> <span style=\"background-color: #FFFEFE\">include</span> <span style=\"background-color: #FFFEFE\">:</span> <span style=\"background-color: #FFFCFC\">pre</span> <span style=\"background-color: #FFFEFE\">sales</span> <span style=\"background-color: #FFFEFE\">technical</span> <span style=\"background-color: #F2F2FF\">ownership</span> <span style=\"background-color: #FEFEFF\">.</span> <span style=\"background-color: #F0F0FF\">technical</span> <span style=\"background-color: #FFFEFE\">lead</span> <span style=\"background-color: #F3F3FF\">in</span> <span style=\"background-color: #FFFEFE\">the</span> <span style=\"background-color: #FCFCFF\">delivery</span> <span style=\"background-color: #EEEEFF\">of</span> <span style=\"background-color: #E0E0FF\">complex</span> <span style=\"background-color: #FFF2F2\">bid</span> <span style=\"background-color: #FAFAFF\">responses</span> <span style=\"background-color: #FFFEFE\">.</span> <span style=\"background-color: #FCFCFF\">working</span> <span style=\"background-color: #FFFEFE\">closely</span> <span style=\"background-color: #FFFEFE\">with</span> <span style=\"background-color: #FFFEFE\">data</span> <span style=\"background-color: #FFFEFE\">centre</span> <span style=\"background-color: #FFFEFE\">services</span> <span style=\"background-color: #FFFEFE\">and</span> <span style=\"background-color: #FFFEFE\">sales</span> <span style=\"background-color: #FFFEFE\">working</span> <span style=\"background-color: #FFFEFE\">with</span> <span style=\"background-color: #FFFEFE\">customers</span> <span style=\"background-color: #F8F8FF\">to</span> <span style=\"background-color: #FAFAFF\">develop</span> <span style=\"background-color: #FAFAFF\">high</span> <span style=\"background-color: #F0F0FF\">level</span> <span style=\"background-color: #FFFEFE\">designs</span> <span style=\"background-color: #FAFAFF\">for</span> <span style=\"background-color: #FFFEFE\">cloud</span> <span style=\"background-color: #FCFCFF\">based</span> <span style=\"background-color: #FAFAFF\">services</span> <span style=\"background-color: #FEFEFF\">.</span> <span style=\"background-color: #FFF8F8\">acting</span> <span style=\"background-color: #F8F8FF\">as</span> <span style=\"background-color: #FFFEFE\">the</span> <span style=\"background-color: #FFFEFE\">link</span> <span style=\"background-color: #FEFEFF\">between</span> <span style=\"background-color: #FFFEFE\">the</span> <span style=\"background-color: #FFFEFE\">customer</span> <span style=\"background-color: #FFFEFE\">and</span> <span style=\"background-color: #FFFEFE\">the</span> <span style=\"background-color: #FFFEFE\">client</span> <span style=\"background-color: #F6F6FF\">throughout</span> <span style=\"background-color: #FAFAFF\">the</span> <span style=\"background-color: #FFFCFC\">process</span> <span style=\"background-color: #F8F8FF\">.</span> <span style=\"background-color: #FFFEFE\">onboarding</span> <span style=\"background-color: #FCFCFF\">support</span> <span style=\"background-color: #FFFEFE\">for</span> <span style=\"background-color: #FEFEFF\">new</span> <span style=\"background-color: #FFFEFE\">customer</span> <span style=\"background-color: #F8F8FF\">wins</span> <span style=\"background-color: #F2F2FF\">.</span> <span style=\"background-color: #FFFEFE\">technically</span> <span style=\"background-color: #FFFEFE\">driving</span> <span style=\"background-color: #FFFEFE\">the</span> <span style=\"background-color: #F8F8FF\">sales</span> <span style=\"background-color: #FFF8F8\">of</span> <span style=\"background-color: #FFF8F8\">the</span> <span style=\"background-color: #FFF8F8\">cloud</span> <span style=\"background-color: #E0E0FF\">services</span> <span style=\"background-color: #FFE6E6\">.</span> <span style=\"background-color: #FFFCFC\">you</span> <span style=\"background-color: #FCFCFF\">will</span> <span style=\"background-color: #F3F3FF\">require</span> <span style=\"background-color: #FFFEFE\">:</span> <span style=\"background-color: #FFFEFE\">at</span> <span style=\"background-color: #FFF8F8\">least</span> <span style=\"background-color: #FFF6F6\">2</span> <span style=\"background-color: #FFF0F0\">years</span> <span style=\"background-color: #FEFEFF\">data</span> <span style=\"background-color: #FFFEFE\">centre</span> <span style=\"background-color: #FAFAFF\">/</span> <span style=\"background-color: #FFE8E8\">cloud</span> <span style=\"background-color: #FFE6E6\">experience</span> <span style=\"background-color: #FEFEFF\">gained</span> <span style=\"background-color: #FFFEFE\">working</span> <span style=\"background-color: #FFFEFE\">in</span> <span style=\"background-color: #FFFEFE\">an</span> <span style=\"background-color: #E0E0FF\">it</span> <span style=\"background-color: #FFFEFE\">reseller</span> <span style=\"background-color: #FFFEFE\">or</span> <span style=\"background-color: #FCFCFF\">hosting</span> <span style=\"background-color: #F3F3FF\">provider</span> <span style=\"background-color: #FFFEFE\">hands</span> <span style=\"background-color: #FCFCFF\">off</span> <span style=\"background-color: #F8F8FF\">design</span> <span style=\"background-color: #FFFEFE\">knowledge</span> <span style=\"background-color: #FEFEFF\">or</span> <span style=\"background-color: #F8F8FF\">hands</span> <span style=\"background-color: #E2E2FF\">on</span> <span style=\"background-color: #FFFEFE\">experience</span> <span style=\"background-color: #FFF4F4\">with</span> <span style=\"background-color: #F6F6FF\">a</span> <span style=\"background-color: #FCFCFF\">willingness</span> <span style=\"background-color: #FFFEFE\">to</span> <span style=\"background-color: #FFFEFE\">step</span> <span style=\"background-color: #FEFEFF\">into</span> <span style=\"background-color: #FFFEFE\">a</span> <span style=\"background-color: #FFFEFE\">higher</span> <span style=\"background-color: #FFFEFE\">level</span> <span style=\"background-color: #FFFEFE\">design</span> <span style=\"background-color: #F8F8FF\">role</span> <span style=\"background-color: #FFFEFE\">.</span> <span style=\"background-color: #FFFEFE\">knowledge</span> <span style=\"background-color: #FAFAFF\">of</span> <span style=\"background-color: #FAFAFF\">messaging</span> <span style=\"background-color: #F3F3FF\">,</span> <span style=\"background-color: #FEFEFF\">directory</span> <span style=\"background-color: #FFFEFE\">services</span> <span style=\"background-color: #FFFEFE\">and</span> <span style=\"background-color: #FFFEFE\">other</span> <span style=\"background-color: #FEFEFF\">such</span> <span style=\"background-color: #FFFEFE\">server</span> <span style=\"background-color: #FAFAFF\">based</span> <span style=\"background-color: #FFFEFE\">cloud</span> <span style=\"background-color: #F3F3FF\">solutions</span> <span style=\"background-color: #FFFEFE\">is</span> <span style=\"background-color: #F8F8FF\">required</span> <span style=\"background-color: #F8F8FF\">.</span> <span style=\"background-color: #FFFEFE\">knowledge</span> <span style=\"background-color: #FFFEFE\">of</span> <span style=\"background-color: #FFFEFE\">bmc</span> <span style=\"background-color: #FFFEFE\">cloud</span> <span style=\"background-color: #FEFEFF\">products</span> <span style=\"background-color: #FFFEFE\">is</span> <span style=\"background-color: #FCFCFF\">desirable</span> <span style=\"background-color: #FFFEFE\">.</span> <span style=\"background-color: #FFFEFE\">a</span> <span style=\"background-color: #FEFEFF\">good</span> <span style=\"background-color: #FFFEFE\">understanding</span> <span style=\"background-color: #FFFEFE\">of</span> <span style=\"background-color: #FFFEFE\">cloud</span> <span style=\"background-color: #EAEAFF\">services</span> <span style=\"background-color: #F6F6FF\">.</span> <span style=\"background-color: #FFFEFE\">security</span> <span style=\"background-color: #FFFEFE\">cleared</span> <span style=\"background-color: #FFFEFE\">is</span> <span style=\"background-color: #FEFEFF\">highly</span> <span style=\"background-color: #F8F8FF\">desirable</span> <span style=\"background-color: #FFFEFE\">although</span> <span style=\"background-color: #FEFEFF\">a</span> <span style=\"background-color: #FFFEFE\">willing</span> <span style=\"background-color: #FFFEFE\">to</span> <span style=\"background-color: #FFFEFE\">become</span> <span style=\"background-color: #F0F0FF\">so</span> <span style=\"background-color: #FFFEFE\">will</span> <span style=\"background-color: #FFFEFE\">be</span> <span style=\"background-color: #DEDEFF\">sufficient</span> <span style=\"background-color: #FFFEFE\">.</span> <span style=\"background-color: #FCFCFF\">appropriate</span> <span style=\"background-color: #FFFEFE\">experience</span> <span style=\"background-color: #FEFEFF\">within</span> <span style=\"background-color: #FFFEFE\">a</span> <span style=\"background-color: #FFFEFE\">data</span> <span style=\"background-color: #F0F0FF\">centre</span> <span style=\"background-color: #FFFEFE\">pre</span> <span style=\"background-color: #FFFEFE\">sales</span> <span style=\"background-color: #FFFEFE\">technical</span> <span style=\"background-color: #F2F2FF\">environment</span> <span style=\"background-color: #FCFCFF\">.</span> <span style=\"background-color: #FFFAFA\">highly</span> <span style=\"background-color: #FAFAFF\">professional</span> <span style=\"background-color: #FFFEFE\">demeanor</span> <span style=\"background-color: #FFFCFC\">and</span> <span style=\"background-color: #F3F3FF\">high</span> <span style=\"background-color: #FFFCFC\">levels</span> <span style=\"background-color: #FFFEFE\">of</span> <span style=\"background-color: #F3F3FF\">self</span> <span style=\"background-color: #ECECFF\">motivation</span> <span style=\"background-color: #FFFEFE\">.</span> <span style=\"background-color: #FFFEFE\">excellent</span> <span style=\"background-color: #FFFEFE\">communication</span> <span style=\"background-color: #FEFEFF\">skills</span> <span style=\"background-color: #FFFEFE\">.</span> <span style=\"background-color: #FFFEFE\">UNK</span> <span style=\"background-color: #FFFEFE\">(</span> <span style=\"background-color: #EEEEFF\">west</span> <span style=\"background-color: #FCFCFF\">)</span> <span style=\"background-color: #FFFEFE\">are</span> <span style=\"background-color: #FCFCFF\">a</span> <span style=\"background-color: #FAFAFF\">specialist</span> <span style=\"background-color: #FEFEFF\">recruitment</span> <span style=\"background-color: #FEFEFF\">agency</span> <span style=\"background-color: #FFFEFE\">acting</span> <span style=\"background-color: #FAFAFF\">on</span> <span style=\"background-color: #FFFEFE\">behalf</span> <span style=\"background-color: #FAFAFF\">of</span> <span style=\"background-color: #EEEEFF\">our</span> <span style=\"background-color: #FEFEFF\">client</span> <span style=\"background-color: #FCFCFF\">.</span> <span style=\"background-color: #FFFEFE\">this</span> <span style=\"background-color: #FFFEFE\">job</span> <span style=\"background-color: #FFF8F8\">was</span> <span style=\"background-color: #F8F8FF\">originally</span> <span style=\"background-color: #FFF6F6\">posted</span> <span style=\"background-color: #F0F0FF\">as</span> <span style=\"background-color: #F6F6FF\">www</span> <span style=\"background-color: #DEDEFF\">.</span> <span style=\"background-color: #FFFAFA\">cwjobs</span> <span style=\"background-color: #FFFEFE\">.</span> <span style=\"background-color: #FFFCFC\">co</span> <span style=\"background-color: #F3F3FF\">.</span> <span style=\"background-color: #FFFEFE\">uk</span> <span style=\"background-color: #FFFEFE\">/</span> <span style=\"background-color: #FFFEFE\">jobseeking</span> <span style=\"background-color: #FAFAFF\">/</span> <span style=\"background-color: #FFFEFE\">UNK</span> <span style=\"background-color: #FFFEFE\">****</span></p>"
      ]
     },
     "metadata": {},
     "output_type": "display_data"
    }
   ],
   "source": [
    "i = np.random.randint(len(data))\n",
    "sample = data.loc[i]\n",
    "print(\"Index:\", i)\n",
    "\n",
    "# predict salary on sample\n",
    "sample_batch = generate_batch(pd.DataFrame(sample).T)\n",
    "title_ix = torch.tensor(sample_batch[\"Title\"], dtype=torch.int64)\n",
    "desc_ix = torch.tensor(sample_batch[\"FullDescription\"], dtype=torch.int64)\n",
    "cat_features = torch.tensor(sample_batch[\"Categorical\"], dtype=torch.float32)\n",
    "salary_pred = model(title_ix, desc_ix, cat_features)\n",
    "print(\"Salary (gbp):\", salary_pred.item())\n",
    "\n",
    "tokens_and_weights = explain(model, sample, \"Title\")\n",
    "draw_html([(tok, weight * 5) for tok, weight in tokens_and_weights], font_style='font-size:20px;');\n",
    "\n",
    "tokens_and_weights = explain(model, sample, \"FullDescription\")\n",
    "draw_html([(tok, weight * 10) for tok, weight in tokens_and_weights]);"
   ]
  },
  {
   "cell_type": "markdown",
   "metadata": {},
   "source": [
    "### Task 4: Actually make it work\n",
    "\n",
    "Your main task is to use some of the tricks you've learned on the network and analyze if you can improve __validation MAE__.\n",
    "\n",
    "Try __at least 3 options__ from the list below for a passing grade. If you're into \n",
    "\n",
    "#### A) CNN architecture\n",
    "\n",
    "All the tricks you know about dense and convolutional neural networks apply here as well.\n",
    "* Dropout. Nuff said.\n",
    "* Batch Norm. This time it's `nn.BatchNorm1d`\n",
    "* Parallel convolution layers. The idea is that you apply several nn.Conv1d to the same embeddings and concatenate output channels.\n",
    "* More layers, more neurons, ya know...\n",
    "\n",
    "\n",
    "#### B) Play with pooling\n",
    "\n",
    "There's more than one way to do max pooling:\n",
    "* Max over time - our `GlobalMaxPooling`\n",
    "* Average over time (excluding PAD)\n",
    "* Softmax-pooling:\n",
    "$$ out_{i, t} = \\sum_t {h_{i,t} \\cdot {{e ^ {h_{i, t}}} \\over \\sum_\\tau e ^ {h_{j, \\tau}} } }$$\n",
    "\n",
    "* Attentive pooling\n",
    "$$ out_{i, t} = \\sum_t {h_{i,t} \\cdot Attn(h_t)}$$\n",
    "\n",
    ", where $$ Attn(h_t) = {{e ^ {NN_{attn}(h_t)}} \\over \\sum_\\tau e ^ {NN_{attn}(h_\\tau)}}  $$\n",
    "and $NN_{attn}$ is a small neural network\n",
    "\n",
    "\n",
    "The optimal score is usually achieved by concatenating several different poolings, including several attentive pooling with different $NN_{attn}$\n",
    "\n",
    "#### C) Fun with embeddings\n",
    "\n",
    "It's not always a good idea to train embeddings from scratch. Here's a few tricks:\n",
    "\n",
    "* Use a pre-trained word2vec from [here](http://ahogrammer.com/2017/01/20/the-list-of-pretrained-word-embeddings/) or [here](http://mccormickml.com/2016/04/12/googles-pretrained-word2vec-model-in-python/).\n",
    "* Start with pre-trained embeddings, then fine-tune them with gradient descent\n",
    "* Use the same embedding matrix in title and desc vectorizer\n",
    "\n",
    "#### D) Going recurrent\n",
    "\n",
    "We've already learned that recurrent networks can do cool stuff in sequence modelling. Turns out, they're not useless for classification as well. With some tricks of course..\n",
    "\n",
    "* Like convolutional layers, LSTM should be pooled into a fixed-size vector with some of the poolings.\n",
    "  * Please bear in mind that while convolution uses [batch, units, time] dim order, \n",
    "    recurrent units are built for [batch, time, unit]. You may need to `torch.transpose`.\n",
    "\n",
    "* Since you know all the text in advance, use bidirectional RNN\n",
    "  * Run one LSTM from left to right\n",
    "  * Run another in parallel from right to left \n",
    "  * Concatenate their output sequences along unit axis (dim=-1)\n",
    "\n",
    "* It might be good idea to mix convolutions and recurrent layers differently for title and description\n",
    "\n",
    "\n",
    "#### E) Optimizing seriously\n",
    "\n",
    "* You don't necessarily need 100 epochs. Use early stopping. If you've never done this before, take a look at [keras](https://github.com/keras-team/keras/blob/master/keras/callbacks.py#L461) for inspiration.\n",
    "  * In short, train until you notice that validation\n",
    "  * Maintain the best-on-validation snapshot via `model.state_dict`\n",
    "  * Plotting learning curves is usually a good idea"
   ]
  },
  {
   "cell_type": "code",
   "execution_count": 39,
   "metadata": {
    "collapsed": true
   },
   "outputs": [],
   "source": [
    "import random\n",
    "from IPython import display\n",
    "from tqdm import trange\n",
    "\n",
    "device = torch.device(\"cuda:0\" if torch.cuda.is_available() else \"cpu\")\n",
    "\n",
    "def set_random_seeds(seed_value=13, device='cpu'):\n",
    "    '''source https://forums.fast.ai/t/solved-reproducibility-where-is-the-randomness-coming-in/31628/5'''\n",
    "    np.random.seed(seed_value)\n",
    "    torch.manual_seed(seed_value)\n",
    "    random.seed(seed_value)\n",
    "    if device != 'cpu': \n",
    "        torch.cuda.manual_seed(seed_value)\n",
    "        torch.cuda.manual_seed_all(seed_value)\n",
    "        torch.backends.cudnn.deterministic = True\n",
    "        torch.backends.cudnn.benchmark = False\n",
    "\n",
    "\n",
    "def train(model, optimizer, PATH, epochs_n=20, batch_size=512, max_batches=1000):\n",
    "    model.to(device)\n",
    "    \n",
    "    train_loss_curve = [np.nan] * epochs_n\n",
    "    val_loss_curve = [np.nan] * epochs_n\n",
    "    train_mae_curve = [np.nan] * epochs_n\n",
    "    val_mae_curve = [np.nan] * epochs_n\n",
    "    min_val_mae = 1e9\n",
    "    min_val_mae_epoch = 0\n",
    "    \n",
    "    for epoch in trange(epochs_n):\n",
    "        model.train()\n",
    "\n",
    "        train_loss_curve[epoch] = 0\n",
    "        train_mae_curve[epoch] = 0\n",
    "        train_batches = 0\n",
    "        for batch in iterate_minibatches(data_train, batch_size=batch_size, max_batches=max_batches, verbose=False):\n",
    "            title_ix = torch.tensor(batch[\"Title\"], dtype=torch.int64).to(device)\n",
    "            desc_ix = torch.tensor(batch[\"FullDescription\"], dtype=torch.int64).to(device)\n",
    "            cat_features = torch.tensor(batch[\"Categorical\"], dtype=torch.float32).to(device)\n",
    "            reference = torch.tensor(batch[target_column], dtype=torch.float32)\n",
    "            \n",
    "            optimizer.zero_grad()\n",
    "            prediction = model(title_ix, desc_ix, cat_features).cpu()\n",
    "\n",
    "            loss = compute_loss(reference, prediction)\n",
    "            loss.backward()\n",
    "            optimizer.step()\n",
    "            \n",
    "            train_loss_curve[epoch] += loss.item()\n",
    "            train_mae_curve[epoch] += compute_mae(reference, prediction).item()\n",
    "            train_batches += 1\n",
    "        \n",
    "        train_loss_curve[epoch] /= train_batches\n",
    "        train_mae_curve[epoch] /= train_batches\n",
    "\n",
    "        display.clear_output(wait=True)\n",
    "        f, axes = plt.subplots(1, 2, figsize=(15, 3))\n",
    "\n",
    "        axes[0].plot(range(1, epochs_n), train_loss_curve[1:], label='train')\n",
    "\n",
    "        model.eval()\n",
    "\n",
    "        val_loss_curve[epoch] = 0\n",
    "        val_mae_curve[epoch] = 0\n",
    "        val_batches = 0\n",
    "        for batch in iterate_minibatches(data_val, batch_size=batch_size, shuffle=False, verbose=False):\n",
    "            title_ix = torch.tensor(batch[\"Title\"], dtype=torch.int64).to(device)\n",
    "            desc_ix = torch.tensor(batch[\"FullDescription\"], dtype=torch.int64).to(device)\n",
    "            cat_features = torch.tensor(batch[\"Categorical\"], dtype=torch.float32).to(device)\n",
    "            reference = torch.tensor(batch[target_column], dtype=torch.float32)\n",
    "\n",
    "            prediction = model(title_ix, desc_ix, cat_features).cpu()\n",
    "            loss = compute_loss(reference, prediction)\n",
    "            val_loss_curve[epoch] += loss.item()\n",
    "            val_mae_curve[epoch] += compute_mae(reference, prediction).item()\n",
    "            val_batches += 1\n",
    "        \n",
    "        val_mae_curve[epoch] /= val_batches\n",
    "        val_loss_curve[epoch] /= val_batches\n",
    "        axes[0].plot(range(1, epochs_n), val_loss_curve[1:], label='val')\n",
    "        axes[0].set_title('Loss: train {:.4f}, val {:.4f}'.format(train_loss_curve[epoch], val_loss_curve[epoch]))\n",
    "        axes[0].legend()\n",
    "        \n",
    "        val_mae = val_mae_curve[epoch]\n",
    "        if val_mae < min_val_mae:\n",
    "            min_val_mae = val_mae\n",
    "            min_val_mae_epoch = epoch\n",
    "            torch.save(model.state_dict(), PATH)\n",
    "        \n",
    "        axes[1].set_title('MAE: train {:.4f}, val {:.4f}'.format(train_mae_curve[epoch], val_mae))\n",
    "        axes[1].plot(range(1, epochs_n), train_mae_curve[1:], label='train')\n",
    "        axes[1].plot(range(1, epochs_n), val_mae_curve[1:], label='val')\n",
    "        axes[1].legend()\n",
    "\n",
    "        plt.tight_layout()\n",
    "        plt.show()\n",
    "    \n",
    "    print('Best epoch: {}'.format(min_val_mae_epoch))\n",
    "    print('Best val MAE: {:.4f}'.format(min_val_mae))"
   ]
  },
  {
   "cell_type": "code",
   "execution_count": 40,
   "metadata": {},
   "outputs": [
    {
     "name": "stderr",
     "output_type": "stream",
     "text": [
      "C:\\ProgramData\\Anaconda3\\lib\\site-packages\\gensim\\utils.py:860: UserWarning: detected Windows; aliasing chunkize to chunkize_serial\n",
      "  warnings.warn(\"detected Windows; aliasing chunkize to chunkize_serial\")\n"
     ]
    }
   ],
   "source": [
    "import gensim\n",
    "\n",
    "word2vec_model = gensim.models.KeyedVectors.load_word2vec_format('GoogleNews-vectors-negative300.bin', binary=True)\n",
    "\n",
    "# https://medium.com/@martinpella/how-to-use-pre-trained-word-embeddings-in-pytorch-71ca59249f76\n",
    "weights_matrix = np.zeros((len(tokens), 300))\n",
    "for i, word in enumerate(tokens):\n",
    "    try:\n",
    "        weights_matrix[i] = word2vec_model.wv[word]\n",
    "    except KeyError:\n",
    "        weights_matrix[i] = np.random.normal(size=300)\n",
    "weights_matrix = torch.tensor(weights_matrix)\n",
    "\n",
    "def create_emb_layer(weights_matrix, non_trainable=False):\n",
    "    num_embeddings, embedding_dim = weights_matrix.size()\n",
    "    emb_layer = nn.Embedding(num_embeddings, embedding_dim, padding_idx=PAD_IX)\n",
    "    emb_layer.load_state_dict({'weight': weights_matrix})\n",
    "    if non_trainable:\n",
    "        emb_layer.weight.requires_grad = False\n",
    "    return emb_layer, num_embeddings, embedding_dim\n",
    "\n",
    "\n",
    "class GlobalAvgPooling(nn.Module):\n",
    "    def __init__(self, dim=-1, mask=None):\n",
    "        super(self.__class__, self).__init__()\n",
    "        self.dim = dim\n",
    "        self.mask = mask\n",
    "        \n",
    "    def forward(self, x):\n",
    "        return (x * self.mask[:, None, :].float()).sum(dim=self.dim) / self.mask[:, None, :].float().sum(dim=self.dim)\n",
    "\n",
    "\n",
    "class SoftmaxPooling(nn.Module):\n",
    "    def __init__(self, dim=-1):\n",
    "        super(self.__class__, self).__init__()\n",
    "        self.dim = dim\n",
    "        \n",
    "    def forward(self, x):\n",
    "        return (x * x.softmax(dim=self.dim)).sum(dim=self.dim)\n",
    "\n",
    "\n",
    "class AttentivePooling(nn.Module):\n",
    "    def __init__(self, dim=-1, input_size=128, hidden_size=32):\n",
    "        super(self.__class__, self).__init__()\n",
    "        self.dim = dim\n",
    "        self.input_size = input_size\n",
    "        self.hidden_size = hidden_size\n",
    "        self.nn_attn = nn.Sequential(\n",
    "            nn.Linear(input_size, hidden_size),\n",
    "            nn.ReLU(),\n",
    "            nn.Linear(hidden_size, 1)\n",
    "        )\n",
    "        \n",
    "    def forward(self, x):\n",
    "        return (x * torch.transpose(self.nn_attn(torch.transpose(x, 2, 1)), 1, 2).softmax(dim=self.dim)).sum(dim=self.dim)\n",
    "    \n",
    "    \n",
    "class BiLSTM(nn.Module):\n",
    "    def __init__(self, input_size=128, hidden_size=64, output_size=128):\n",
    "        super(BiLSTM, self).__init__()\n",
    "        self.hidden_size = hidden_size\n",
    "        self.lstm = nn.LSTM(input_size, hidden_size, batch_first=True, bidirectional=True)\n",
    "        self.fc = nn.Linear(2 * hidden_size, output_size)\n",
    "    \n",
    "    def forward(self, x):\n",
    "        # Set initial states\n",
    "        h0 = torch.zeros(2, x.size(0), self.hidden_size).to(device) # 2 for bidirection \n",
    "        c0 = torch.zeros(2, x.size(0), self.hidden_size).to(device)\n",
    "        out, _ = self.lstm(x, (h0, c0))\n",
    "        out = self.fc(out[:, -1, :])\n",
    "        return out\n",
    "\n",
    "\n",
    "class BestTitleEncoder(nn.Module):\n",
    "    def __init__(self, n_tokens=len(tokens), out_size=64):\n",
    "        super(self.__class__, self).__init__()\n",
    "        self.emb, _, _ = create_emb_layer(weights_matrix)\n",
    "        self.conv_extractor1 = nn.Sequential(\n",
    "            nn.Dropout(0.1),\n",
    "            nn.Conv1d(300, 64, kernel_size=3, padding=1),\n",
    "            nn.BatchNorm1d(64),\n",
    "            nn.ELU()\n",
    "        )\n",
    "        self.conv_extractor2 = nn.Sequential(\n",
    "            nn.Dropout(0.1),\n",
    "            nn.Conv1d(300, 64, kernel_size=5, padding=2),\n",
    "            nn.BatchNorm1d(64),\n",
    "            nn.ELU()\n",
    "        )\n",
    "        self.maxpool = GlobalMaxPooling()\n",
    "        self.avgpool = GlobalAvgPooling()\n",
    "        self.softmaxpool = SoftmaxPooling()\n",
    "        self.attnpool = AttentivePooling()\n",
    "        self.bilstm = BiLSTM()\n",
    "        self.linear_extractor = nn.Sequential(\n",
    "            nn.Dropout(0.5),\n",
    "            nn.BatchNorm1d(640),\n",
    "            nn.Linear(640, out_size)\n",
    "        )\n",
    "\n",
    "    def forward(self, text_ix):\n",
    "        h = self.emb(text_ix)\n",
    "        h = torch.transpose(h, 1, 2)\n",
    "        conv_feat = torch.cat([self.conv_extractor1(h), self.conv_extractor2(h)], dim=1)\n",
    "        self.avgpool.mask = text_ix != PAD_IX\n",
    "        pool_feat = torch.cat([\n",
    "            self.maxpool(conv_feat),\n",
    "            self.avgpool(conv_feat),\n",
    "            self.softmaxpool(conv_feat),\n",
    "            self.attnpool(conv_feat),\n",
    "            self.bilstm(torch.transpose(conv_feat, 2, 1))\n",
    "        ], dim=1)\n",
    "        return self.linear_extractor(pool_feat)\n",
    "    \n",
    "\n",
    "class BestDescriptionEncoder(nn.Module):\n",
    "    def __init__(self, n_tokens=len(tokens), out_size=64):\n",
    "        super(self.__class__, self).__init__()\n",
    "        self.emb, _, _ = create_emb_layer(weights_matrix)\n",
    "        self.conv_extractor1 = nn.Sequential(\n",
    "            nn.Dropout(0.1),\n",
    "            nn.Conv1d(300, 128, kernel_size=3, padding=1),\n",
    "            nn.BatchNorm1d(128),\n",
    "            nn.ELU()\n",
    "        )\n",
    "        self.conv_extractor2 = nn.Sequential(\n",
    "            nn.Dropout(0.1),\n",
    "            nn.Conv1d(300, 128, kernel_size=5, padding=2),\n",
    "            nn.BatchNorm1d(128),\n",
    "            nn.ELU()\n",
    "        )\n",
    "        self.maxpool = GlobalMaxPooling()\n",
    "        self.avgpool = GlobalAvgPooling()\n",
    "        self.softmaxpool = SoftmaxPooling()\n",
    "        self.attnpool = AttentivePooling(input_size=256)\n",
    "        self.bilstm = BiLSTM(input_size=256)\n",
    "        self.linear_extractor = nn.Sequential(\n",
    "            nn.Dropout(0.5),\n",
    "            nn.BatchNorm1d(1152),\n",
    "            nn.Linear(1152, out_size)\n",
    "        )\n",
    "\n",
    "    def forward(self, text_ix):\n",
    "        h = self.emb(text_ix)\n",
    "        h = torch.transpose(h, 1, 2)\n",
    "        conv_feat = torch.cat([self.conv_extractor1(h), self.conv_extractor2(h)], dim=1)\n",
    "        self.avgpool.mask = text_ix != PAD_IX\n",
    "        pool_feat = torch.cat([\n",
    "            self.maxpool(conv_feat),\n",
    "            self.avgpool(conv_feat),\n",
    "            self.softmaxpool(conv_feat),\n",
    "            self.attnpool(conv_feat),\n",
    "            self.bilstm(torch.transpose(conv_feat, 2, 1))\n",
    "        ], dim=1)\n",
    "        return self.linear_extractor(pool_feat)\n",
    "\n",
    "\n",
    "class BestFullNetwork(nn.Module):\n",
    "    def __init__(self, n_tokens=len(tokens), n_cat_features=len(categorical_vectorizer.vocabulary_)):\n",
    "        super(self.__class__, self).__init__()\n",
    "\n",
    "        self.title_encoder = BestTitleEncoder(out_size=64)\n",
    "        self.desc_encoder = BestDescriptionEncoder(out_size=64)\n",
    "\n",
    "        self.cat_encoder = nn.Sequential(\n",
    "            nn.Linear(n_cat_features, 256),\n",
    "            nn.ReLU(),\n",
    "            nn.Linear(256, 64)\n",
    "        )\n",
    "        \n",
    "        # define \"output\" layers that process depend the three encoded vectors into answer\n",
    "        self.out_layers = nn.Sequential(\n",
    "            nn.Linear(192, 64),\n",
    "            nn.ReLU(),\n",
    "            nn.Linear(64, 1)\n",
    "        )\n",
    "        \n",
    "        \n",
    "    def forward(self, title_ix, desc_ix, cat_features):\n",
    "        \"\"\"\n",
    "        :param title_ix: int32 Variable [batch, title_len], job titles encoded by as_matrix\n",
    "        :param desc_ix:  int32 Variable [batch, desc_len] , job descriptions encoded by as_matrix\n",
    "        :param cat_features: float32 Variable [batch, n_cat_features]\n",
    "        :returns: float32 Variable 1d [batch], predicted log1p-salary\n",
    "        \"\"\"\n",
    "        \n",
    "        # process each data source with it's respective encoder\n",
    "        title_h = self.title_encoder(title_ix)\n",
    "        desc_h = self.desc_encoder(desc_ix)\n",
    "        \n",
    "        # apply categorical encoder\n",
    "        cat_h = self.cat_encoder(cat_features)\n",
    "        \n",
    "        # concatenate all vectors together...\n",
    "        joint_h = torch.cat([title_h, desc_h, cat_h], dim=1)\n",
    "        \n",
    "        # ... and stack a few more layers at the top\n",
    "        out = self.out_layers(joint_h)\n",
    "        \n",
    "        # Note 1: do not forget to select first columns, [:, 0], to get to 1d outputs\n",
    "        # Note 2: please do not use output nonlinearities.\n",
    "        \n",
    "        return out[:, 0]"
   ]
  },
  {
   "cell_type": "code",
   "execution_count": 41,
   "metadata": {},
   "outputs": [
    {
     "data": {
      "image/png": "[encoded data removed]",
      "text/plain": [
       "<Figure size 1080x216 with 2 Axes>"
      ]
     },
     "metadata": {},
     "output_type": "display_data"
    },
    {
     "name": "stderr",
     "output_type": "stream",
     "text": [
      "100%|██████████████████████████████████████████████████████████████████████████████| 100/100 [1:21:29<00:00, 48.60s/it]\n"
     ]
    },
    {
     "name": "stdout",
     "output_type": "stream",
     "text": [
      "Best epoch: 89\n",
      "Best val MAE: 7186.8205\n"
     ]
    }
   ],
   "source": [
    "model = BestFullNetwork().to(device)\n",
    "opt = torch.optim.Adam(model.parameters(), lr=1e-3)\n",
    "\n",
    "PATH = 'models/BestFullNetworkV2.pt'\n",
    "set_random_seeds(device=device)\n",
    "train(model, opt, PATH=PATH, epochs_n=100, batch_size=32, max_batches=100)"
   ]
  },
  {
   "cell_type": "markdown",
   "metadata": {},
   "source": [
    "### A short report\n",
    "\n",
    "Please tell us what you did and how did it work."
   ]
  },
  {
   "cell_type": "markdown",
   "metadata": {},
   "source": [
    "In this task DNN model was implemented which is able to predict salary of an employee based on her title, description and categorical features. The most interesting part of the model architecture is encoding of title and description. Not only I tuned various hyperparameters and chose the best activation functions, but also I implemented the following:\n",
    "\n",
    "* A) added dropout, batchnorm, created parallel convolutional blocks capturing features with filters of different sizes\n",
    "\n",
    "* B) instead of single GlobalMaxPooling, I implemented and used also GlobalAvgPooling, SoftmaxPooling and AttentivePooling and concatenated all of them before linear extractor\n",
    "\n",
    "* C) used pretrained word2vec embeddings of size 300 and trained them too\n",
    "\n",
    "* D) along with poolings, I also concatenated output vectors of trained bidirectional LSTM\n",
    "\n",
    "* E) saved the model state not after the last epoch, but after the one which shown the best MAE on validation\n",
    "\n",
    "Also an important thing to notice is that I trained less parameters (in CNN and LSTM parts especially) for title encoder than for description encoder because I assumed that title contains less words than descriptions, hence less patterns in substrings, therefore the same number of parameters seems like an overkill and may perform worse.\n",
    "\n",
    "The described tricks helped to achieve better validation MAE than the proposed baseline model: 7186.8205 vs 9707.3512 for the same optimizer parameters."
   ]
  }
 ],
 "metadata": {
  "kernelspec": {
   "display_name": "Python 3",
   "language": "python",
   "name": "python3"
  },
  "language_info": {
   "codemirror_mode": {
    "name": "ipython",
    "version": 3
   },
   "file_extension": ".py",
   "mimetype": "text/x-python",
   "name": "python",
   "nbconvert_exporter": "python",
   "pygments_lexer": "ipython3",
   "version": "3.6.3"
  }
 },
 "nbformat": 4,
 "nbformat_minor": 2
}
